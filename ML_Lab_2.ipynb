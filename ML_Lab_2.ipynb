{
  "nbformat": 4,
  "nbformat_minor": 0,
  "metadata": {
    "colab": {
      "provenance": [],
      "mount_file_id": "1_WCqpOMwgXNfHozaAxqqGYgXGn-c34Po",
      "authorship_tag": "ABX9TyNXwkpRMFsNMq3N5jIk5373",
      "include_colab_link": true
    },
    "kernelspec": {
      "name": "python3",
      "display_name": "Python 3"
    },
    "language_info": {
      "name": "python"
    }
  },
  "cells": [
    {
      "cell_type": "markdown",
      "metadata": {
        "id": "view-in-github",
        "colab_type": "text"
      },
      "source": [
        "<a href=\"https://colab.research.google.com/github/vasudhab21/ML-LAB/blob/main/ML_Lab_2.ipynb\" target=\"_parent\"><img src=\"https://colab.research.google.com/assets/colab-badge.svg\" alt=\"Open In Colab\"/></a>"
      ]
    },
    {
      "cell_type": "markdown",
      "source": [
        "A1"
      ],
      "metadata": {
        "id": "8asusPobLGty"
      }
    },
    {
      "cell_type": "code",
      "source": [
        "from google.colab import drive\n",
        "drive.mount('/content/drive')"
      ],
      "metadata": {
        "colab": {
          "base_uri": "https://localhost:8080/"
        },
        "id": "i2uwKTdKBb-n",
        "outputId": "27f1fb40-77c7-459f-da0f-25f292727802"
      },
      "execution_count": 2,
      "outputs": [
        {
          "output_type": "stream",
          "name": "stdout",
          "text": [
            "Drive already mounted at /content/drive; to attempt to forcibly remount, call drive.mount(\"/content/drive\", force_remount=True).\n"
          ]
        }
      ]
    },
    {
      "cell_type": "code",
      "execution_count": 3,
      "metadata": {
        "id": "pepO1fkkDbhL"
      },
      "outputs": [],
      "source": [
        "import numpy as np\n",
        "import pandas as pd"
      ]
    },
    {
      "cell_type": "code",
      "source": [
        "# Extracting file\n",
        "df = pd.read_excel(\"/content/drive/MyDrive/Lab Session Data.xlsx\", sheet_name=\"Purchase data\")"
      ],
      "metadata": {
        "id": "b1YqYLVTEBir"
      },
      "execution_count": 76,
      "outputs": []
    },
    {
      "cell_type": "code",
      "source": [
        "df_A = df.iloc[:, 1:4]\n",
        "A = df_A.values\n",
        "A"
      ],
      "metadata": {
        "colab": {
          "base_uri": "https://localhost:8080/"
        },
        "id": "DzRRUt-zEaBP",
        "outputId": "95640e64-dffe-4566-aa4b-13fbf6a19397"
      },
      "execution_count": 5,
      "outputs": [
        {
          "output_type": "execute_result",
          "data": {
            "text/plain": [
              "array([[20,  6,  2],\n",
              "       [16,  3,  6],\n",
              "       [27,  6,  2],\n",
              "       [19,  1,  2],\n",
              "       [24,  4,  2],\n",
              "       [22,  1,  5],\n",
              "       [15,  4,  2],\n",
              "       [18,  4,  2],\n",
              "       [21,  1,  4],\n",
              "       [16,  2,  4]])"
            ]
          },
          "metadata": {},
          "execution_count": 5
        }
      ]
    },
    {
      "cell_type": "code",
      "source": [
        "df_C = df.iloc[:, 4:5]\n",
        "C = df_C.values\n",
        "C"
      ],
      "metadata": {
        "colab": {
          "base_uri": "https://localhost:8080/"
        },
        "id": "zhFVQeg6EdJI",
        "outputId": "b62dfb7b-fef8-4628-ac85-908cb611134e"
      },
      "execution_count": 6,
      "outputs": [
        {
          "output_type": "execute_result",
          "data": {
            "text/plain": [
              "array([[386],\n",
              "       [289],\n",
              "       [393],\n",
              "       [110],\n",
              "       [280],\n",
              "       [167],\n",
              "       [271],\n",
              "       [274],\n",
              "       [148],\n",
              "       [198]])"
            ]
          },
          "metadata": {},
          "execution_count": 6
        }
      ]
    },
    {
      "cell_type": "code",
      "source": [
        "# Dimensionality of vector space\n",
        "A.shape[1]"
      ],
      "metadata": {
        "colab": {
          "base_uri": "https://localhost:8080/"
        },
        "id": "wpWEqVs2FWFY",
        "outputId": "3a3524eb-e52b-46f1-fc2d-be147336cf29"
      },
      "execution_count": 7,
      "outputs": [
        {
          "output_type": "execute_result",
          "data": {
            "text/plain": [
              "3"
            ]
          },
          "metadata": {},
          "execution_count": 7
        }
      ]
    },
    {
      "cell_type": "code",
      "source": [
        "# Number of vectors in vector space\n",
        "A.shape[0]"
      ],
      "metadata": {
        "colab": {
          "base_uri": "https://localhost:8080/"
        },
        "id": "1xv4EwdCGm9m",
        "outputId": "7e867685-677d-4693-be6c-8a4fddbe046a"
      },
      "execution_count": 8,
      "outputs": [
        {
          "output_type": "execute_result",
          "data": {
            "text/plain": [
              "10"
            ]
          },
          "metadata": {},
          "execution_count": 8
        }
      ]
    },
    {
      "cell_type": "code",
      "source": [
        "# Rank of Matrix A\n",
        "np.linalg.matrix_rank(A)"
      ],
      "metadata": {
        "colab": {
          "base_uri": "https://localhost:8080/"
        },
        "id": "SEUuX9B6HuSq",
        "outputId": "4bd1f869-c1b4-435d-83a6-dd3e0223badf"
      },
      "execution_count": 9,
      "outputs": [
        {
          "output_type": "execute_result",
          "data": {
            "text/plain": [
              "np.int64(3)"
            ]
          },
          "metadata": {},
          "execution_count": 9
        }
      ]
    },
    {
      "cell_type": "code",
      "source": [
        "# Cost of each product\n",
        "X = np.linalg.pinv(A) @ C\n",
        "X"
      ],
      "metadata": {
        "colab": {
          "base_uri": "https://localhost:8080/"
        },
        "id": "GoqEH1JsK1Vd",
        "outputId": "c0d92aeb-9814-4de2-c1c0-d568de8e79e4"
      },
      "execution_count": 10,
      "outputs": [
        {
          "output_type": "execute_result",
          "data": {
            "text/plain": [
              "array([[ 1.],\n",
              "       [55.],\n",
              "       [18.]])"
            ]
          },
          "metadata": {},
          "execution_count": 10
        }
      ]
    },
    {
      "cell_type": "markdown",
      "source": [
        "A2"
      ],
      "metadata": {
        "id": "vv-IzWxSLJ1a"
      }
    },
    {
      "cell_type": "code",
      "source": [
        "payments = df['Payment (Rs)']\n",
        "for payment in payments:\n",
        "  if payment>200:\n",
        "    print(\"Rich\")\n",
        "  else:\n",
        "    print(\"Poor\")"
      ],
      "metadata": {
        "colab": {
          "base_uri": "https://localhost:8080/"
        },
        "id": "MUqwWVfUK-7I",
        "outputId": "a761e540-cb6f-45a1-c96c-dbfd3bc04f50"
      },
      "execution_count": 11,
      "outputs": [
        {
          "output_type": "stream",
          "name": "stdout",
          "text": [
            "Rich\n",
            "Rich\n",
            "Rich\n",
            "Poor\n",
            "Rich\n",
            "Poor\n",
            "Rich\n",
            "Rich\n",
            "Poor\n",
            "Poor\n"
          ]
        }
      ]
    },
    {
      "cell_type": "markdown",
      "source": [
        "A3"
      ],
      "metadata": {
        "id": "8ZdCOu92c6pT"
      }
    },
    {
      "cell_type": "code",
      "source": [
        "import statistics"
      ],
      "metadata": {
        "id": "BApPjZSEfht8"
      },
      "execution_count": 12,
      "outputs": []
    },
    {
      "cell_type": "code",
      "source": [
        "# Extracting the file\n",
        "df1 = pd.read_excel(\"/content/drive/MyDrive/Lab Session Data.xlsx\", sheet_name=\"IRCTC Stock Price\")"
      ],
      "metadata": {
        "id": "c4If9o-ILWNd"
      },
      "execution_count": 13,
      "outputs": []
    },
    {
      "cell_type": "code",
      "source": [
        "# Calculating mean of Price\n",
        "mean_price = df1['Price'].mean()\n",
        "mean_price"
      ],
      "metadata": {
        "colab": {
          "base_uri": "https://localhost:8080/"
        },
        "id": "b_4rpGMcdMM0",
        "outputId": "1c7eb7da-c987-47a9-b2d9-150b80693318"
      },
      "execution_count": 14,
      "outputs": [
        {
          "output_type": "execute_result",
          "data": {
            "text/plain": [
              "np.float64(1560.6634538152612)"
            ]
          },
          "metadata": {},
          "execution_count": 14
        }
      ]
    },
    {
      "cell_type": "code",
      "source": [
        "# Calculating variance of Price\n",
        "df1['Price'].var()"
      ],
      "metadata": {
        "colab": {
          "base_uri": "https://localhost:8080/"
        },
        "id": "fjkvvXrMflb0",
        "outputId": "82522bd3-44d7-4bd3-e6f9-52a07e3e8507"
      },
      "execution_count": 15,
      "outputs": [
        {
          "output_type": "execute_result",
          "data": {
            "text/plain": [
              "58732.36535253922"
            ]
          },
          "metadata": {},
          "execution_count": 15
        }
      ]
    },
    {
      "cell_type": "code",
      "source": [
        "# Price data for Wednesdays\n",
        "wed_price = df1[df1['Day']==\"Wed\"][\"Price\"]\n",
        "\n",
        "# Mean of prices on Wednesdays\n",
        "def mean_wed():\n",
        "  return wed_price.mean()\n",
        "\n",
        "wed_mean = mean_wed()\n",
        "print(\"Wednesday mean:\", wed_mean)\n",
        "\n",
        "# Comparing mean\n",
        "if mean_price>wed_mean:\n",
        "  print(\"Population mean is greater than sample mean\")\n",
        "else:\n",
        "  print(\"Population mean is less than sample mean\")"
      ],
      "metadata": {
        "colab": {
          "base_uri": "https://localhost:8080/"
        },
        "id": "cuFMg6xTgAvC",
        "outputId": "5ec79444-ea2d-44f6-9cd7-e66ec049b83f"
      },
      "execution_count": 55,
      "outputs": [
        {
          "output_type": "stream",
          "name": "stdout",
          "text": [
            "Wednesday mean: 1550.7060000000001\n",
            "Population mean is greater than sample mean\n"
          ]
        }
      ]
    },
    {
      "cell_type": "code",
      "source": [
        "# Price data for April\n",
        "april_price = df1[df1['Month']==\"Apr\"][\"Price\"]\n",
        "\n",
        "# Mean of prices in April\n",
        "def mean_april(data):\n",
        "  return april_price.mean()\n",
        "\n",
        "april_mean = mean_april(april_price)\n",
        "print(\"April mean:\", april_mean)\n",
        "# Comparing mean\n",
        "if mean_price>april_mean:\n",
        "  print(\"Population mean is greater than sample mean\")\n",
        "else:\n",
        "  print(\"Population mean is less than sample mean\")"
      ],
      "metadata": {
        "colab": {
          "base_uri": "https://localhost:8080/"
        },
        "id": "rYqH6FBTgvI6",
        "outputId": "dd1fa603-9f10-4de4-ef02-2b7ed7713a45"
      },
      "execution_count": 54,
      "outputs": [
        {
          "output_type": "stream",
          "name": "stdout",
          "text": [
            "April mean: 1698.9526315789474\n",
            "Population mean is less than sample mean\n"
          ]
        }
      ]
    },
    {
      "cell_type": "code",
      "source": [
        "# Probability of making a loss over the stock\n",
        "# Filter the chg% that are negative\n",
        "loss = list(filter(lambda x: x<0,df1['Chg%']))\n",
        "# Calculate the probability of loss\n",
        "def probability_loss(loss, df1):\n",
        "  return len(loss)/len(df1['Chg%'])\n",
        "print(\"Probability of loss:\",probability_loss(loss, df1))"
      ],
      "metadata": {
        "colab": {
          "base_uri": "https://localhost:8080/"
        },
        "id": "0CcWCU1Ui05D",
        "outputId": "7ea29602-a337-4d6f-bd70-d6fce3539dc2"
      },
      "execution_count": 51,
      "outputs": [
        {
          "output_type": "stream",
          "name": "stdout",
          "text": [
            "Probability of loss: 0.4979919678714859\n"
          ]
        }
      ]
    },
    {
      "cell_type": "code",
      "source": [
        "# Probability of making a profit on Wednesday\n",
        "# Filter the chg% that are negative and occur on Wednesdays\n",
        "wed_price1 = df1[df1['Day']==\"Wed\"][\"Chg%\"]\n",
        "profit = list(filter(lambda x: x>0, wed_price1))\n",
        "# Calculate the probability of profit\n",
        "def probability_profit(profit, wed_price1):\n",
        "  return len(profit)/len(df1['Chg%'])\n",
        "print(\"Probability:\",probability_profit(profit, wed_price1))"
      ],
      "metadata": {
        "colab": {
          "base_uri": "https://localhost:8080/"
        },
        "id": "LiWN0aPYj3VQ",
        "outputId": "ae9806e2-4060-4714-fa3a-cc7d95bb55a0"
      },
      "execution_count": 52,
      "outputs": [
        {
          "output_type": "stream",
          "name": "stdout",
          "text": [
            "Probability: 0.08433734939759036\n"
          ]
        }
      ]
    },
    {
      "cell_type": "code",
      "source": [
        "# Conditional probability of making a profit given that today is Wednesday\n",
        "# Filter the chg% that are negative and occur on Wednesdays\n",
        "wed_price1 = df1[df1['Day']==\"Wed\"][\"Chg%\"]\n",
        "profit = list(filter(lambda x: x>0, wed_price1))\n",
        "# Calculate the probability of profit\n",
        "def conditional_prob(profit, wed_price1):\n",
        "  return len(profit)/len(wed_price1)\n",
        "print(\"Conditional Probability:\",conditional_prob(profit, wed_price1))"
      ],
      "metadata": {
        "colab": {
          "base_uri": "https://localhost:8080/"
        },
        "id": "pXf3pBEwomJr",
        "outputId": "ac351943-92a9-481b-e367-eb8fc90f296d"
      },
      "execution_count": 20,
      "outputs": [
        {
          "output_type": "stream",
          "name": "stdout",
          "text": [
            "Conditional Probability: 0.42\n"
          ]
        }
      ]
    },
    {
      "cell_type": "code",
      "source": [
        "# Scatter plot of Chg% against day of week\n",
        "import matplotlib.pyplot as plt\n",
        "df1.plot.scatter(x='Day', y='Chg%', color='orange')\n",
        "plt.title('Scatter plot of Chg% against day of week')"
      ],
      "metadata": {
        "colab": {
          "base_uri": "https://localhost:8080/",
          "height": 489
        },
        "id": "3zno0ng6rtbr",
        "outputId": "2b40d68f-4bcf-4c91-d614-a4ddf00bf2da"
      },
      "execution_count": 21,
      "outputs": [
        {
          "output_type": "execute_result",
          "data": {
            "text/plain": [
              "Text(0.5, 1.0, 'Scatter plot of Chg% against day of week')"
            ]
          },
          "metadata": {},
          "execution_count": 21
        },
        {
          "output_type": "display_data",
          "data": {
            "text/plain": [
              "<Figure size 640x480 with 1 Axes>"
            ],
            "image/png": "[encoded data removed]"
          },
          "metadata": {}
        }
      ]
    },
    {
      "cell_type": "markdown",
      "source": [
        "A4"
      ],
      "metadata": {
        "id": "EV69qzJasnkb"
      }
    },
    {
      "cell_type": "code",
      "source": [
        "# Extracting the file\n",
        "df2 = pd.read_excel(\"/content/drive/MyDrive/Lab Session Data.xlsx\", sheet_name=\"thyroid0387_UCI\")"
      ],
      "metadata": {
        "id": "69VWyGvrsCbr"
      },
      "execution_count": 77,
      "outputs": []
    },
    {
      "cell_type": "code",
      "source": [
        "# Identifying the datatype(nominal etc)\n",
        "df2.dtypes"
      ],
      "metadata": {
        "id": "YwQSWQY9swW8",
        "colab": {
          "base_uri": "https://localhost:8080/",
          "height": 1000
        },
        "outputId": "4eda0b76-73ad-491f-d5a8-b9d695ae3445"
      },
      "execution_count": 71,
      "outputs": [
        {
          "output_type": "execute_result",
          "data": {
            "text/plain": [
              "Record ID                     int64\n",
              "age                           int64\n",
              "sex                          object\n",
              "on thyroxine                 object\n",
              "query on thyroxine           object\n",
              "on antithyroid medication    object\n",
              "sick                         object\n",
              "pregnant                     object\n",
              "thyroid surgery              object\n",
              "I131 treatment               object\n",
              "query hypothyroid            object\n",
              "query hyperthyroid           object\n",
              "lithium                      object\n",
              "goitre                       object\n",
              "tumor                        object\n",
              "hypopituitary                object\n",
              "psych                        object\n",
              "TSH measured                 object\n",
              "TSH                          object\n",
              "T3 measured                  object\n",
              "T3                           object\n",
              "TT4 measured                 object\n",
              "TT4                          object\n",
              "T4U measured                 object\n",
              "T4U                          object\n",
              "FTI measured                 object\n",
              "FTI                          object\n",
              "TBG measured                 object\n",
              "TBG                          object\n",
              "referral source              object\n",
              "Condition                    object\n",
              "dtype: object"
            ],
            "text/html": [
              "<div>\n",
              "<style scoped>\n",
              "    .dataframe tbody tr th:only-of-type {\n",
              "        vertical-align: middle;\n",
              "    }\n",
              "\n",
              "    .dataframe tbody tr th {\n",
              "        vertical-align: top;\n",
              "    }\n",
              "\n",
              "    .dataframe thead th {\n",
              "        text-align: right;\n",
              "    }\n",
              "</style>\n",
              "<table border=\"1\" class=\"dataframe\">\n",
              "  <thead>\n",
              "    <tr style=\"text-align: right;\">\n",
              "      <th></th>\n",
              "      <th>0</th>\n",
              "    </tr>\n",
              "  </thead>\n",
              "  <tbody>\n",
              "    <tr>\n",
              "      <th>Record ID</th>\n",
              "      <td>int64</td>\n",
              "    </tr>\n",
              "    <tr>\n",
              "      <th>age</th>\n",
              "      <td>int64</td>\n",
              "    </tr>\n",
              "    <tr>\n",
              "      <th>sex</th>\n",
              "      <td>object</td>\n",
              "    </tr>\n",
              "    <tr>\n",
              "      <th>on thyroxine</th>\n",
              "      <td>object</td>\n",
              "    </tr>\n",
              "    <tr>\n",
              "      <th>query on thyroxine</th>\n",
              "      <td>object</td>\n",
              "    </tr>\n",
              "    <tr>\n",
              "      <th>on antithyroid medication</th>\n",
              "      <td>object</td>\n",
              "    </tr>\n",
              "    <tr>\n",
              "      <th>sick</th>\n",
              "      <td>object</td>\n",
              "    </tr>\n",
              "    <tr>\n",
              "      <th>pregnant</th>\n",
              "      <td>object</td>\n",
              "    </tr>\n",
              "    <tr>\n",
              "      <th>thyroid surgery</th>\n",
              "      <td>object</td>\n",
              "    </tr>\n",
              "    <tr>\n",
              "      <th>I131 treatment</th>\n",
              "      <td>object</td>\n",
              "    </tr>\n",
              "    <tr>\n",
              "      <th>query hypothyroid</th>\n",
              "      <td>object</td>\n",
              "    </tr>\n",
              "    <tr>\n",
              "      <th>query hyperthyroid</th>\n",
              "      <td>object</td>\n",
              "    </tr>\n",
              "    <tr>\n",
              "      <th>lithium</th>\n",
              "      <td>object</td>\n",
              "    </tr>\n",
              "    <tr>\n",
              "      <th>goitre</th>\n",
              "      <td>object</td>\n",
              "    </tr>\n",
              "    <tr>\n",
              "      <th>tumor</th>\n",
              "      <td>object</td>\n",
              "    </tr>\n",
              "    <tr>\n",
              "      <th>hypopituitary</th>\n",
              "      <td>object</td>\n",
              "    </tr>\n",
              "    <tr>\n",
              "      <th>psych</th>\n",
              "      <td>object</td>\n",
              "    </tr>\n",
              "    <tr>\n",
              "      <th>TSH measured</th>\n",
              "      <td>object</td>\n",
              "    </tr>\n",
              "    <tr>\n",
              "      <th>TSH</th>\n",
              "      <td>object</td>\n",
              "    </tr>\n",
              "    <tr>\n",
              "      <th>T3 measured</th>\n",
              "      <td>object</td>\n",
              "    </tr>\n",
              "    <tr>\n",
              "      <th>T3</th>\n",
              "      <td>object</td>\n",
              "    </tr>\n",
              "    <tr>\n",
              "      <th>TT4 measured</th>\n",
              "      <td>object</td>\n",
              "    </tr>\n",
              "    <tr>\n",
              "      <th>TT4</th>\n",
              "      <td>object</td>\n",
              "    </tr>\n",
              "    <tr>\n",
              "      <th>T4U measured</th>\n",
              "      <td>object</td>\n",
              "    </tr>\n",
              "    <tr>\n",
              "      <th>T4U</th>\n",
              "      <td>object</td>\n",
              "    </tr>\n",
              "    <tr>\n",
              "      <th>FTI measured</th>\n",
              "      <td>object</td>\n",
              "    </tr>\n",
              "    <tr>\n",
              "      <th>FTI</th>\n",
              "      <td>object</td>\n",
              "    </tr>\n",
              "    <tr>\n",
              "      <th>TBG measured</th>\n",
              "      <td>object</td>\n",
              "    </tr>\n",
              "    <tr>\n",
              "      <th>TBG</th>\n",
              "      <td>object</td>\n",
              "    </tr>\n",
              "    <tr>\n",
              "      <th>referral source</th>\n",
              "      <td>object</td>\n",
              "    </tr>\n",
              "    <tr>\n",
              "      <th>Condition</th>\n",
              "      <td>object</td>\n",
              "    </tr>\n",
              "  </tbody>\n",
              "</table>\n",
              "</div><br><label><b>dtype:</b> object</label>"
            ]
          },
          "metadata": {},
          "execution_count": 71
        }
      ]
    },
    {
      "cell_type": "code",
      "source": [
        "# Identifying the encoding scheme to be employed\n",
        "for col in df2.select_dtypes(include='object').columns:\n",
        "    unique_vals = df[col].dropna().unique()\n",
        "    if len(unique_vals) <= 5:\n",
        "      print(\"Label Encoding\")\n",
        "    else:\n",
        "      print(\"One-Hot Encoding\")"
      ],
      "metadata": {
        "id": "LPhcky5Cv5gp",
        "colab": {
          "base_uri": "https://localhost:8080/"
        },
        "outputId": "6551b28c-9d02-4a42-fae3-e0fd1a6da4d7"
      },
      "execution_count": 62,
      "outputs": [
        {
          "output_type": "stream",
          "name": "stdout",
          "text": [
            "Label Encoding\n",
            "Label Encoding\n",
            "Label Encoding\n",
            "Label Encoding\n",
            "Label Encoding\n",
            "Label Encoding\n",
            "Label Encoding\n",
            "Label Encoding\n",
            "Label Encoding\n",
            "Label Encoding\n",
            "Label Encoding\n",
            "Label Encoding\n",
            "Label Encoding\n",
            "Label Encoding\n",
            "Label Encoding\n",
            "Label Encoding\n",
            "One-Hot Encoding\n",
            "Label Encoding\n",
            "One-Hot Encoding\n",
            "Label Encoding\n",
            "One-Hot Encoding\n",
            "Label Encoding\n",
            "One-Hot Encoding\n",
            "Label Encoding\n",
            "One-Hot Encoding\n",
            "Label Encoding\n",
            "One-Hot Encoding\n",
            "One-Hot Encoding\n",
            "One-Hot Encoding\n"
          ]
        }
      ]
    },
    {
      "cell_type": "code",
      "source": [
        "# Studying the data range for numeric variables\n",
        "df.describe()"
      ],
      "metadata": {
        "id": "KVNUbl_ZwHpG",
        "colab": {
          "base_uri": "https://localhost:8080/",
          "height": 300
        },
        "outputId": "4b2e937d-e406-40bc-ea37-0d8286b17ab5"
      },
      "execution_count": 72,
      "outputs": [
        {
          "output_type": "execute_result",
          "data": {
            "text/plain": [
              "          Record ID           age          TSH           T3          TT4  \\\n",
              "count  9.172000e+03   9172.000000  8330.000000  6568.000000  8730.000000   \n",
              "mean   8.529473e+08     73.555822     5.218403     1.970629   108.700305   \n",
              "std    7.581969e+06   1183.976718    24.184006     0.887579    37.522670   \n",
              "min    8.408010e+08      1.000000     0.005000     0.050000     2.000000   \n",
              "25%    8.504090e+08     37.000000     0.460000     1.500000    87.000000   \n",
              "50%    8.510040e+08     55.000000     1.400000     1.900000   104.000000   \n",
              "75%    8.607110e+08     68.000000     2.700000     2.300000   126.000000   \n",
              "max    8.701190e+08  65526.000000   530.000000    18.000000   600.000000   \n",
              "\n",
              "               T4U          FTI         TBG  \n",
              "count  8363.000000  8370.000000  349.000000  \n",
              "mean      0.976056   113.640746   29.870057  \n",
              "std       0.200360    41.551650   21.080504  \n",
              "min       0.170000     1.400000    0.100000  \n",
              "25%       0.860000    93.000000   21.000000  \n",
              "50%       0.960000   109.000000   26.000000  \n",
              "75%       1.065000   128.000000   31.000000  \n",
              "max       2.330000   881.000000  200.000000  "
            ],
            "text/html": [
              "\n",
              "  <div id=\"df-47dec387-a6ee-4720-bb85-536db326814e\" class=\"colab-df-container\">\n",
              "    <div>\n",
              "<style scoped>\n",
              "    .dataframe tbody tr th:only-of-type {\n",
              "        vertical-align: middle;\n",
              "    }\n",
              "\n",
              "    .dataframe tbody tr th {\n",
              "        vertical-align: top;\n",
              "    }\n",
              "\n",
              "    .dataframe thead th {\n",
              "        text-align: right;\n",
              "    }\n",
              "</style>\n",
              "<table border=\"1\" class=\"dataframe\">\n",
              "  <thead>\n",
              "    <tr style=\"text-align: right;\">\n",
              "      <th></th>\n",
              "      <th>Record ID</th>\n",
              "      <th>age</th>\n",
              "      <th>TSH</th>\n",
              "      <th>T3</th>\n",
              "      <th>TT4</th>\n",
              "      <th>T4U</th>\n",
              "      <th>FTI</th>\n",
              "      <th>TBG</th>\n",
              "    </tr>\n",
              "  </thead>\n",
              "  <tbody>\n",
              "    <tr>\n",
              "      <th>count</th>\n",
              "      <td>9.172000e+03</td>\n",
              "      <td>9172.000000</td>\n",
              "      <td>8330.000000</td>\n",
              "      <td>6568.000000</td>\n",
              "      <td>8730.000000</td>\n",
              "      <td>8363.000000</td>\n",
              "      <td>8370.000000</td>\n",
              "      <td>349.000000</td>\n",
              "    </tr>\n",
              "    <tr>\n",
              "      <th>mean</th>\n",
              "      <td>8.529473e+08</td>\n",
              "      <td>73.555822</td>\n",
              "      <td>5.218403</td>\n",
              "      <td>1.970629</td>\n",
              "      <td>108.700305</td>\n",
              "      <td>0.976056</td>\n",
              "      <td>113.640746</td>\n",
              "      <td>29.870057</td>\n",
              "    </tr>\n",
              "    <tr>\n",
              "      <th>std</th>\n",
              "      <td>7.581969e+06</td>\n",
              "      <td>1183.976718</td>\n",
              "      <td>24.184006</td>\n",
              "      <td>0.887579</td>\n",
              "      <td>37.522670</td>\n",
              "      <td>0.200360</td>\n",
              "      <td>41.551650</td>\n",
              "      <td>21.080504</td>\n",
              "    </tr>\n",
              "    <tr>\n",
              "      <th>min</th>\n",
              "      <td>8.408010e+08</td>\n",
              "      <td>1.000000</td>\n",
              "      <td>0.005000</td>\n",
              "      <td>0.050000</td>\n",
              "      <td>2.000000</td>\n",
              "      <td>0.170000</td>\n",
              "      <td>1.400000</td>\n",
              "      <td>0.100000</td>\n",
              "    </tr>\n",
              "    <tr>\n",
              "      <th>25%</th>\n",
              "      <td>8.504090e+08</td>\n",
              "      <td>37.000000</td>\n",
              "      <td>0.460000</td>\n",
              "      <td>1.500000</td>\n",
              "      <td>87.000000</td>\n",
              "      <td>0.860000</td>\n",
              "      <td>93.000000</td>\n",
              "      <td>21.000000</td>\n",
              "    </tr>\n",
              "    <tr>\n",
              "      <th>50%</th>\n",
              "      <td>8.510040e+08</td>\n",
              "      <td>55.000000</td>\n",
              "      <td>1.400000</td>\n",
              "      <td>1.900000</td>\n",
              "      <td>104.000000</td>\n",
              "      <td>0.960000</td>\n",
              "      <td>109.000000</td>\n",
              "      <td>26.000000</td>\n",
              "    </tr>\n",
              "    <tr>\n",
              "      <th>75%</th>\n",
              "      <td>8.607110e+08</td>\n",
              "      <td>68.000000</td>\n",
              "      <td>2.700000</td>\n",
              "      <td>2.300000</td>\n",
              "      <td>126.000000</td>\n",
              "      <td>1.065000</td>\n",
              "      <td>128.000000</td>\n",
              "      <td>31.000000</td>\n",
              "    </tr>\n",
              "    <tr>\n",
              "      <th>max</th>\n",
              "      <td>8.701190e+08</td>\n",
              "      <td>65526.000000</td>\n",
              "      <td>530.000000</td>\n",
              "      <td>18.000000</td>\n",
              "      <td>600.000000</td>\n",
              "      <td>2.330000</td>\n",
              "      <td>881.000000</td>\n",
              "      <td>200.000000</td>\n",
              "    </tr>\n",
              "  </tbody>\n",
              "</table>\n",
              "</div>\n",
              "    <div class=\"colab-df-buttons\">\n",
              "\n",
              "  <div class=\"colab-df-container\">\n",
              "    <button class=\"colab-df-convert\" onclick=\"convertToInteractive('df-47dec387-a6ee-4720-bb85-536db326814e')\"\n",
              "            title=\"Convert this dataframe to an interactive table.\"\n",
              "            style=\"display:none;\">\n",
              "\n",
              "  <svg xmlns=\"http://www.w3.org/2000/svg\" height=\"24px\" viewBox=\"0 -960 960 960\">\n",
              "    <path d=\"M120-120v-720h720v720H120Zm60-500h600v-160H180v160Zm220 220h160v-160H400v160Zm0 220h160v-160H400v160ZM180-400h160v-160H180v160Zm440 0h160v-160H620v160ZM180-180h160v-160H180v160Zm440 0h160v-160H620v160Z\"/>\n",
              "  </svg>\n",
              "    </button>\n",
              "\n",
              "  <style>\n",
              "    .colab-df-container {\n",
              "      display:flex;\n",
              "      gap: 12px;\n",
              "    }\n",
              "\n",
              "    .colab-df-convert {\n",
              "      background-color: #E8F0FE;\n",
              "      border: none;\n",
              "      border-radius: 50%;\n",
              "      cursor: pointer;\n",
              "      display: none;\n",
              "      fill: #1967D2;\n",
              "      height: 32px;\n",
              "      padding: 0 0 0 0;\n",
              "      width: 32px;\n",
              "    }\n",
              "\n",
              "    .colab-df-convert:hover {\n",
              "      background-color: #E2EBFA;\n",
              "      box-shadow: 0px 1px 2px rgba(60, 64, 67, 0.3), 0px 1px 3px 1px rgba(60, 64, 67, 0.15);\n",
              "      fill: #174EA6;\n",
              "    }\n",
              "\n",
              "    .colab-df-buttons div {\n",
              "      margin-bottom: 4px;\n",
              "    }\n",
              "\n",
              "    [theme=dark] .colab-df-convert {\n",
              "      background-color: #3B4455;\n",
              "      fill: #D2E3FC;\n",
              "    }\n",
              "\n",
              "    [theme=dark] .colab-df-convert:hover {\n",
              "      background-color: #434B5C;\n",
              "      box-shadow: 0px 1px 3px 1px rgba(0, 0, 0, 0.15);\n",
              "      filter: drop-shadow(0px 1px 2px rgba(0, 0, 0, 0.3));\n",
              "      fill: #FFFFFF;\n",
              "    }\n",
              "  </style>\n",
              "\n",
              "    <script>\n",
              "      const buttonEl =\n",
              "        document.querySelector('#df-47dec387-a6ee-4720-bb85-536db326814e button.colab-df-convert');\n",
              "      buttonEl.style.display =\n",
              "        google.colab.kernel.accessAllowed ? 'block' : 'none';\n",
              "\n",
              "      async function convertToInteractive(key) {\n",
              "        const element = document.querySelector('#df-47dec387-a6ee-4720-bb85-536db326814e');\n",
              "        const dataTable =\n",
              "          await google.colab.kernel.invokeFunction('convertToInteractive',\n",
              "                                                    [key], {});\n",
              "        if (!dataTable) return;\n",
              "\n",
              "        const docLinkHtml = 'Like what you see? Visit the ' +\n",
              "          '<a target=\"_blank\" href=https://colab.research.google.com/notebooks/data_table.ipynb>data table notebook</a>'\n",
              "          + ' to learn more about interactive tables.';\n",
              "        element.innerHTML = '';\n",
              "        dataTable['output_type'] = 'display_data';\n",
              "        await google.colab.output.renderOutput(dataTable, element);\n",
              "        const docLink = document.createElement('div');\n",
              "        docLink.innerHTML = docLinkHtml;\n",
              "        element.appendChild(docLink);\n",
              "      }\n",
              "    </script>\n",
              "  </div>\n",
              "\n",
              "\n",
              "    <div id=\"df-d0a2f3a5-6275-4504-8206-bfcf68e5dbcc\">\n",
              "      <button class=\"colab-df-quickchart\" onclick=\"quickchart('df-d0a2f3a5-6275-4504-8206-bfcf68e5dbcc')\"\n",
              "                title=\"Suggest charts\"\n",
              "                style=\"display:none;\">\n",
              "\n",
              "<svg xmlns=\"http://www.w3.org/2000/svg\" height=\"24px\"viewBox=\"0 0 24 24\"\n",
              "     width=\"24px\">\n",
              "    <g>\n",
              "        <path d=\"M19 3H5c-1.1 0-2 .9-2 2v14c0 1.1.9 2 2 2h14c1.1 0 2-.9 2-2V5c0-1.1-.9-2-2-2zM9 17H7v-7h2v7zm4 0h-2V7h2v10zm4 0h-2v-4h2v4z\"/>\n",
              "    </g>\n",
              "</svg>\n",
              "      </button>\n",
              "\n",
              "<style>\n",
              "  .colab-df-quickchart {\n",
              "      --bg-color: #E8F0FE;\n",
              "      --fill-color: #1967D2;\n",
              "      --hover-bg-color: #E2EBFA;\n",
              "      --hover-fill-color: #174EA6;\n",
              "      --disabled-fill-color: #AAA;\n",
              "      --disabled-bg-color: #DDD;\n",
              "  }\n",
              "\n",
              "  [theme=dark] .colab-df-quickchart {\n",
              "      --bg-color: #3B4455;\n",
              "      --fill-color: #D2E3FC;\n",
              "      --hover-bg-color: #434B5C;\n",
              "      --hover-fill-color: #FFFFFF;\n",
              "      --disabled-bg-color: #3B4455;\n",
              "      --disabled-fill-color: #666;\n",
              "  }\n",
              "\n",
              "  .colab-df-quickchart {\n",
              "    background-color: var(--bg-color);\n",
              "    border: none;\n",
              "    border-radius: 50%;\n",
              "    cursor: pointer;\n",
              "    display: none;\n",
              "    fill: var(--fill-color);\n",
              "    height: 32px;\n",
              "    padding: 0;\n",
              "    width: 32px;\n",
              "  }\n",
              "\n",
              "  .colab-df-quickchart:hover {\n",
              "    background-color: var(--hover-bg-color);\n",
              "    box-shadow: 0 1px 2px rgba(60, 64, 67, 0.3), 0 1px 3px 1px rgba(60, 64, 67, 0.15);\n",
              "    fill: var(--button-hover-fill-color);\n",
              "  }\n",
              "\n",
              "  .colab-df-quickchart-complete:disabled,\n",
              "  .colab-df-quickchart-complete:disabled:hover {\n",
              "    background-color: var(--disabled-bg-color);\n",
              "    fill: var(--disabled-fill-color);\n",
              "    box-shadow: none;\n",
              "  }\n",
              "\n",
              "  .colab-df-spinner {\n",
              "    border: 2px solid var(--fill-color);\n",
              "    border-color: transparent;\n",
              "    border-bottom-color: var(--fill-color);\n",
              "    animation:\n",
              "      spin 1s steps(1) infinite;\n",
              "  }\n",
              "\n",
              "  @keyframes spin {\n",
              "    0% {\n",
              "      border-color: transparent;\n",
              "      border-bottom-color: var(--fill-color);\n",
              "      border-left-color: var(--fill-color);\n",
              "    }\n",
              "    20% {\n",
              "      border-color: transparent;\n",
              "      border-left-color: var(--fill-color);\n",
              "      border-top-color: var(--fill-color);\n",
              "    }\n",
              "    30% {\n",
              "      border-color: transparent;\n",
              "      border-left-color: var(--fill-color);\n",
              "      border-top-color: var(--fill-color);\n",
              "      border-right-color: var(--fill-color);\n",
              "    }\n",
              "    40% {\n",
              "      border-color: transparent;\n",
              "      border-right-color: var(--fill-color);\n",
              "      border-top-color: var(--fill-color);\n",
              "    }\n",
              "    60% {\n",
              "      border-color: transparent;\n",
              "      border-right-color: var(--fill-color);\n",
              "    }\n",
              "    80% {\n",
              "      border-color: transparent;\n",
              "      border-right-color: var(--fill-color);\n",
              "      border-bottom-color: var(--fill-color);\n",
              "    }\n",
              "    90% {\n",
              "      border-color: transparent;\n",
              "      border-bottom-color: var(--fill-color);\n",
              "    }\n",
              "  }\n",
              "</style>\n",
              "\n",
              "      <script>\n",
              "        async function quickchart(key) {\n",
              "          const quickchartButtonEl =\n",
              "            document.querySelector('#' + key + ' button');\n",
              "          quickchartButtonEl.disabled = true;  // To prevent multiple clicks.\n",
              "          quickchartButtonEl.classList.add('colab-df-spinner');\n",
              "          try {\n",
              "            const charts = await google.colab.kernel.invokeFunction(\n",
              "                'suggestCharts', [key], {});\n",
              "          } catch (error) {\n",
              "            console.error('Error during call to suggestCharts:', error);\n",
              "          }\n",
              "          quickchartButtonEl.classList.remove('colab-df-spinner');\n",
              "          quickchartButtonEl.classList.add('colab-df-quickchart-complete');\n",
              "        }\n",
              "        (() => {\n",
              "          let quickchartButtonEl =\n",
              "            document.querySelector('#df-d0a2f3a5-6275-4504-8206-bfcf68e5dbcc button');\n",
              "          quickchartButtonEl.style.display =\n",
              "            google.colab.kernel.accessAllowed ? 'block' : 'none';\n",
              "        })();\n",
              "      </script>\n",
              "    </div>\n",
              "\n",
              "    </div>\n",
              "  </div>\n"
            ],
            "application/vnd.google.colaboratory.intrinsic+json": {
              "type": "dataframe",
              "summary": "{\n  \"name\": \"df\",\n  \"rows\": 8,\n  \"fields\": [\n    {\n      \"column\": \"Record ID\",\n      \"properties\": {\n        \"dtype\": \"number\",\n        \"std\": 393817971.36636555,\n        \"min\": 9172.0,\n        \"max\": 870119035.0,\n        \"num_unique_values\": 8,\n        \"samples\": [\n          852947346.6122983,\n          851004026.5,\n          9172.0\n        ],\n        \"semantic_type\": \"\",\n        \"description\": \"\"\n      }\n    },\n    {\n      \"column\": \"age\",\n      \"properties\": {\n        \"dtype\": \"number\",\n        \"std\": 22850.391289511863,\n        \"min\": 1.0,\n        \"max\": 65526.0,\n        \"num_unique_values\": 8,\n        \"samples\": [\n          73.55582206716092,\n          55.0,\n          9172.0\n        ],\n        \"semantic_type\": \"\",\n        \"description\": \"\"\n      }\n    },\n    {\n      \"column\": \"TSH\",\n      \"properties\": {\n        \"dtype\": \"number\",\n        \"std\": 2922.391132658491,\n        \"min\": 0.005,\n        \"max\": 8330.0,\n        \"num_unique_values\": 8,\n        \"samples\": [\n          5.218402753781513,\n          1.4,\n          8330.0\n        ],\n        \"semantic_type\": \"\",\n        \"description\": \"\"\n      }\n    },\n    {\n      \"column\": \"T3\",\n      \"properties\": {\n        \"dtype\": \"number\",\n        \"std\": 2320.802098018125,\n        \"min\": 0.05,\n        \"max\": 6568.0,\n        \"num_unique_values\": 8,\n        \"samples\": [\n          1.970628805724726,\n          1.9,\n          6568.0\n        ],\n        \"semantic_type\": \"\",\n        \"description\": \"\"\n      }\n    },\n    {\n      \"column\": \"TT4\",\n      \"properties\": {\n        \"dtype\": \"number\",\n        \"std\": 3038.4932724162354,\n        \"min\": 2.0,\n        \"max\": 8730.0,\n        \"num_unique_values\": 8,\n        \"samples\": [\n          108.70030469644902,\n          104.0,\n          8730.0\n        ],\n        \"semantic_type\": \"\",\n        \"description\": \"\"\n      }\n    },\n    {\n      \"column\": \"T4U\",\n      \"properties\": {\n        \"dtype\": \"number\",\n        \"std\": 2956.435678764185,\n        \"min\": 0.17,\n        \"max\": 8363.0,\n        \"num_unique_values\": 8,\n        \"samples\": [\n          0.9760557216309935,\n          0.96,\n          8363.0\n        ],\n        \"semantic_type\": \"\",\n        \"description\": \"\"\n      }\n    },\n    {\n      \"column\": \"FTI\",\n      \"properties\": {\n        \"dtype\": \"number\",\n        \"std\": 2903.988132402071,\n        \"min\": 1.4,\n        \"max\": 8370.0,\n        \"num_unique_values\": 8,\n        \"samples\": [\n          113.64074551935484,\n          109.0,\n          8370.0\n        ],\n        \"semantic_type\": \"\",\n        \"description\": \"\"\n      }\n    },\n    {\n      \"column\": \"TBG\",\n      \"properties\": {\n        \"dtype\": \"number\",\n        \"std\": 124.06596605402734,\n        \"min\": 0.1,\n        \"max\": 349.0,\n        \"num_unique_values\": 8,\n        \"samples\": [\n          29.87005729512894,\n          26.0,\n          349.0\n        ],\n        \"semantic_type\": \"\",\n        \"description\": \"\"\n      }\n    }\n  ]\n}"
            }
          },
          "metadata": {},
          "execution_count": 72
        }
      ]
    },
    {
      "cell_type": "code",
      "source": [
        "# Studying the presence of missing values in each attribute\n",
        "if df2.isin(['?']).any().any():\n",
        "  print(\"Missing values\")\n",
        "else:\n",
        "  print(\"No missing values\")"
      ],
      "metadata": {
        "colab": {
          "base_uri": "https://localhost:8080/"
        },
        "id": "Mie-ikIowMkQ",
        "outputId": "8e9837b8-13a9-4553-d820-f1ab6f56691c"
      },
      "execution_count": 26,
      "outputs": [
        {
          "output_type": "stream",
          "name": "stdout",
          "text": [
            "Missing values\n"
          ]
        }
      ]
    },
    {
      "cell_type": "code",
      "source": [
        "# Studying the presence of outliers\n",
        "numeric_df = df.select_dtypes(include=[np.number])\n",
        "z_scores = numeric_df.apply(zscore)\n",
        "outliers = (z_scores.abs() > 3).sum()\n",
        "print(outliers)"
      ],
      "metadata": {
        "colab": {
          "base_uri": "https://localhost:8080/"
        },
        "id": "wVo-gdJHhNt-",
        "outputId": "376378a0-b55f-4194-9041-239de2c8d78c"
      },
      "execution_count": 73,
      "outputs": [
        {
          "output_type": "stream",
          "name": "stdout",
          "text": [
            "Record ID    0\n",
            "age          3\n",
            "TSH          0\n",
            "T3           0\n",
            "TT4          0\n",
            "T4U          0\n",
            "FTI          0\n",
            "TBG          0\n",
            "dtype: int64\n"
          ]
        }
      ]
    },
    {
      "cell_type": "code",
      "source": [
        "# Computing mean and variance for numeric data\n",
        "numeric_df = df.select_dtypes(include=[np.number])\n",
        "print(\"Mean:\", numeric_df.mean())\n",
        "print(\"Variance:\", numeric_df.var())"
      ],
      "metadata": {
        "colab": {
          "base_uri": "https://localhost:8080/"
        },
        "id": "ky3ML501hkPy",
        "outputId": "128c6c33-c32e-4808-eca0-c2c1ad89fd61"
      },
      "execution_count": 75,
      "outputs": [
        {
          "output_type": "stream",
          "name": "stdout",
          "text": [
            "Mean: Record ID    8.529473e+08\n",
            "age          7.355582e+01\n",
            "TSH          5.218403e+00\n",
            "T3           1.970629e+00\n",
            "TT4          1.087003e+02\n",
            "T4U          9.760557e-01\n",
            "FTI          1.136407e+02\n",
            "TBG          2.987006e+01\n",
            "dtype: float64\n",
            "Variance: Record ID    5.748625e+13\n",
            "age          1.401801e+06\n",
            "TSH          5.848662e+02\n",
            "T3           7.877962e-01\n",
            "TT4          1.407951e+03\n",
            "T4U          4.014431e-02\n",
            "FTI          1.726540e+03\n",
            "TBG          4.443876e+02\n",
            "dtype: float64\n"
          ]
        }
      ]
    },
    {
      "cell_type": "markdown",
      "source": [
        "A5"
      ],
      "metadata": {
        "id": "ynmYSOBD1QcL"
      }
    },
    {
      "cell_type": "code",
      "source": [
        "obs = df2.iloc[:2]\n",
        "# Find columns with only 't', 'f', 'T', or 'F' values\n",
        "binary_cols = [\n",
        "    col for col in df2.columns\n",
        "    if df2[col].astype(str).str.lower().isin(['t', 'f']).all()\n",
        "]\n",
        "\n",
        "# Convert false values to '0' and true values to '1'\n",
        "v1 = df2.loc[0, binary_cols].astype(str).str.lower().replace({'t': 1, 'f': 0}).astype(int)\n",
        "v2 = df2.loc[1, binary_cols].astype(str).str.lower().replace({'t': 1, 'f': 0}).astype(int)\n",
        "\n",
        "# Attributes\n",
        "f11 = ((v1 == 1) & (v2 == 1)).sum()\n",
        "f00 = ((v1 == 0) & (v2 == 0)).sum()\n",
        "f10 = ((v1 == 1) & (v2 == 0)).sum()\n",
        "f01 = ((v1 == 0) & (v2 == 1)).sum()\n",
        "\n",
        "# Jaccard Coefficient\n",
        "def Jaccard_Coefficient(f00, f01, f10, f11):\n",
        "  return f11 / (f01 + f10 + f11)\n",
        "\n",
        "# Simple Matching Coefficient\n",
        "def Simple_Matching_Coefficient(f00, f01, f10, f11):\n",
        "  return (f11 + f00) / (f00 + f01 + f10 + f11)\n",
        "\n",
        "print(\"Jaccard Coefficient:\", Jaccard_Coefficient(f00, f01, f10, f11))\n",
        "print(\"Simple Matching Coefficient:\", Simple_Matching_Coefficient(f00, f01, f10, f11))"
      ],
      "metadata": {
        "id": "hXKrpd4OwqsX",
        "colab": {
          "base_uri": "https://localhost:8080/"
        },
        "outputId": "880ce342-3e0a-47fd-ddc4-01e750cd501a"
      },
      "execution_count": 27,
      "outputs": [
        {
          "output_type": "stream",
          "name": "stdout",
          "text": [
            "Jaccard Coefficient: 0.25\n",
            "Simple Matching Coefficient: 0.85\n"
          ]
        },
        {
          "output_type": "stream",
          "name": "stderr",
          "text": [
            "/tmp/ipython-input-27-230570292.py:9: FutureWarning: Downcasting behavior in `replace` is deprecated and will be removed in a future version. To retain the old behavior, explicitly call `result.infer_objects(copy=False)`. To opt-in to the future behavior, set `pd.set_option('future.no_silent_downcasting', True)`\n",
            "  v1 = df2.loc[0, binary_cols].astype(str).str.lower().replace({'t': 1, 'f': 0}).astype(int)\n",
            "/tmp/ipython-input-27-230570292.py:10: FutureWarning: Downcasting behavior in `replace` is deprecated and will be removed in a future version. To retain the old behavior, explicitly call `result.infer_objects(copy=False)`. To opt-in to the future behavior, set `pd.set_option('future.no_silent_downcasting', True)`\n",
            "  v2 = df2.loc[1, binary_cols].astype(str).str.lower().replace({'t': 1, 'f': 0}).astype(int)\n"
          ]
        }
      ]
    },
    {
      "cell_type": "markdown",
      "source": [
        "A6"
      ],
      "metadata": {
        "id": "dAM4Nn1lLmib"
      }
    },
    {
      "cell_type": "code",
      "source": [
        "# Loading the data\n",
        "df2 = pd.read_excel(\"/content/drive/MyDrive/Lab Session Data.xlsx\", sheet_name=\"thyroid0387_UCI\")\n",
        "\n",
        "# Replacing '?' with NaN and convert to numeric\n",
        "df2_clean = df2.replace(\"?\", np.nan)\n",
        "df2_clean = df2_clean.apply(pd.to_numeric, errors='coerce')\n",
        "\n",
        "# Filling missing values\n",
        "df2_clean = df2_clean.fillna(0)\n",
        "\n",
        "# Extracting first two rows\n",
        "A = df2_clean.iloc[0].values\n",
        "B = df2_clean.iloc[1].values\n",
        "\n",
        "# Cosine similarity\n",
        "def Cosine_Similarity(A,B):\n",
        "  dot_product = np.dot(A, B)\n",
        "  norm_A = np.linalg.norm(A)\n",
        "  norm_B = np.linalg.norm(B)\n",
        "\n",
        "  return dot_product / (norm_A * norm_B)\n",
        "\n",
        "print(\"Cosine Similarity:\", Cosine_Similarity(A,B))"
      ],
      "metadata": {
        "colab": {
          "base_uri": "https://localhost:8080/"
        },
        "id": "f92lYPn4FPuv",
        "outputId": "dbcb004b-1a17-4262-8ea3-8e1491e38592"
      },
      "execution_count": 28,
      "outputs": [
        {
          "output_type": "stream",
          "name": "stdout",
          "text": [
            "Cosine Similarity: 0.9999999999999885\n"
          ]
        },
        {
          "output_type": "stream",
          "name": "stderr",
          "text": [
            "/tmp/ipython-input-28-2364926863.py:5: FutureWarning: Downcasting behavior in `replace` is deprecated and will be removed in a future version. To retain the old behavior, explicitly call `result.infer_objects(copy=False)`. To opt-in to the future behavior, set `pd.set_option('future.no_silent_downcasting', True)`\n",
            "  df2_clean = df2.replace(\"?\", np.nan)\n"
          ]
        }
      ]
    },
    {
      "cell_type": "markdown",
      "source": [
        "A7"
      ],
      "metadata": {
        "id": "k2sAbFyTefRT"
      }
    },
    {
      "cell_type": "code",
      "source": [
        "import seaborn as sns\n",
        "import matplotlib.pyplot as plt\n",
        "\n",
        "# Loading and cleaning data\n",
        "df2 = pd.read_excel(\"/content/drive/MyDrive/Lab Session Data.xlsx\", sheet_name=\"thyroid0387_UCI\")\n",
        "df_clean = df2.replace(\"?\", np.nan)\n",
        "df_clean = df_clean.apply(pd.to_numeric, errors='coerce')\n",
        "df_clean = df_clean.fillna(0)\n",
        "\n",
        "# Excluding non-numeric columns for cosine similarity\n",
        "numeric_cols = df_clean.select_dtypes(include=np.number).columns\n",
        "df_clean_numeric = df_clean[numeric_cols]\n",
        "\n",
        "# Use only first 20 rows\n",
        "df_20 = df_clean_numeric.iloc[:20]\n",
        "\n",
        "# Compute cosine similarity\n",
        "def cosine_similarity(a, b):\n",
        "    dot = np.dot(a, b)\n",
        "    norm_a = np.linalg.norm(a)\n",
        "    norm_b = np.linalg.norm(b)\n",
        "    # Handling the case where norm is zero to avoid division by zero\n",
        "    if norm_a == 0 or norm_b == 0:\n",
        "        return 0.0\n",
        "    return dot / (norm_a * norm_b)\n",
        "\n",
        "# Create 20x20 similarity matrix\n",
        "cos_sim_matrix = np.zeros((20, 20))\n",
        "\n",
        "for i in range(20):\n",
        "    for j in range(20):\n",
        "        cos_sim_matrix[i][j] = cosine_similarity(df_20.iloc[i], df_20.iloc[j])\n",
        "\n",
        "# Plot heatmap\n",
        "plt.figure(figsize=(10, 8))\n",
        "sns.heatmap(cos_sim_matrix, annot=True, cmap='viridis')\n",
        "plt.title(\"Cosine Similarity Heatmap (First 20 Vectors)\")\n",
        "plt.xlabel(\"Vector Index\")\n",
        "plt.ylabel(\"Vector Index\")\n",
        "plt.show()"
      ],
      "metadata": {
        "colab": {
          "base_uri": "https://localhost:8080/",
          "height": 773
        },
        "id": "3NznY-80aP24",
        "outputId": "a7c2aa8b-0c2c-4a96-ad0a-e39dc2d81512"
      },
      "execution_count": 78,
      "outputs": [
        {
          "output_type": "stream",
          "name": "stderr",
          "text": [
            "/tmp/ipython-input-78-337702851.py:6: FutureWarning: Downcasting behavior in `replace` is deprecated and will be removed in a future version. To retain the old behavior, explicitly call `result.infer_objects(copy=False)`. To opt-in to the future behavior, set `pd.set_option('future.no_silent_downcasting', True)`\n",
            "  df_clean = df2.replace(\"?\", np.nan)\n"
          ]
        },
        {
          "output_type": "display_data",
          "data": {
            "text/plain": [
              "<Figure size 1000x800 with 2 Axes>"
            ],
            "image/png": "[encoded data removed]"
          },
          "metadata": {}
        }
      ]
    },
    {
      "cell_type": "markdown",
      "source": [
        "A8"
      ],
      "metadata": {
        "id": "Vte4EyUZU6s2"
      }
    },
    {
      "cell_type": "code",
      "source": [
        "# Loading the dataset\n",
        "df = pd.read_excel(\"/content/drive/MyDrive/Lab Session Data.xlsx\", sheet_name=\"thyroid0387_UCI\")\n",
        "\n",
        "# Replace '?' with NaN and handle type inference\n",
        "df = df.replace('?', np.nan)\n",
        "\n",
        "# Convert to numeric\n",
        "for col in df.columns:\n",
        "    try:\n",
        "        df[col] = pd.to_numeric(df[col])\n",
        "    except:\n",
        "        pass\n",
        "\n",
        "# Data Imputation\n",
        "def Data_Imputation(dataframe):\n",
        "  for col in df.columns:\n",
        "      if df[col].dtype == 'object':\n",
        "          # Mode\n",
        "          df[col] = df[col].fillna(df[col].mode()[0])\n",
        "      else:\n",
        "          # Z-score to check for outliers\n",
        "          z = (df[col] - df[col].mean()) / df[col].std()\n",
        "          # Median\n",
        "          if z.abs().gt(3).any():\n",
        "              df[col] = df[col].fillna(df[col].median())\n",
        "          else:\n",
        "            # Mean\n",
        "              df[col] = df[col].fillna(df[col].mean())\n",
        "\n",
        "Data_Imputation(df)\n",
        "# Saving the cleaned dataset\n",
        "df.to_excel(\"thyroid0387_UCI_cleaned.xlsx\", index=False)\n",
        "\n",
        "df.head()"
      ],
      "metadata": {
        "colab": {
          "base_uri": "https://localhost:8080/",
          "height": 394
        },
        "id": "7xVHHcYWXzjs",
        "outputId": "75777b5b-07c0-4bc9-c136-60aa91916c50"
      },
      "execution_count": 79,
      "outputs": [
        {
          "output_type": "stream",
          "name": "stderr",
          "text": [
            "/tmp/ipython-input-79-4015540078.py:5: FutureWarning: Downcasting behavior in `replace` is deprecated and will be removed in a future version. To retain the old behavior, explicitly call `result.infer_objects(copy=False)`. To opt-in to the future behavior, set `pd.set_option('future.no_silent_downcasting', True)`\n",
            "  df = df.replace('?', np.nan)\n"
          ]
        },
        {
          "output_type": "execute_result",
          "data": {
            "text/plain": [
              "   Record ID  age sex on thyroxine query on thyroxine  \\\n",
              "0  840801013   29   F            f                  f   \n",
              "1  840801014   29   F            f                  f   \n",
              "2  840801042   41   F            f                  f   \n",
              "3  840803046   36   F            f                  f   \n",
              "4  840803047   32   F            f                  f   \n",
              "\n",
              "  on antithyroid medication sick pregnant thyroid surgery I131 treatment  ...  \\\n",
              "0                         f    f        f               f              f  ...   \n",
              "1                         f    f        f               f              f  ...   \n",
              "2                         f    f        f               f              f  ...   \n",
              "3                         f    f        f               f              f  ...   \n",
              "4                         f    f        f               f              f  ...   \n",
              "\n",
              "  TT4 measured    TT4 T4U measured   T4U FTI measured    FTI TBG measured  \\\n",
              "0            f  104.0            f  0.96            f  109.0            f   \n",
              "1            t  128.0            f  0.96            f  109.0            f   \n",
              "2            f  104.0            f  0.96            f  109.0            t   \n",
              "3            f  104.0            f  0.96            f  109.0            t   \n",
              "4            f  104.0            f  0.96            f  109.0            t   \n",
              "\n",
              "    TBG  referral source     Condition  \n",
              "0  26.0            other  NO CONDITION  \n",
              "1  26.0            other  NO CONDITION  \n",
              "2  11.0            other  NO CONDITION  \n",
              "3  26.0            other  NO CONDITION  \n",
              "4  36.0            other             S  \n",
              "\n",
              "[5 rows x 31 columns]"
            ],
            "text/html": [
              "\n",
              "  <div id=\"df-de0bbc37-664d-40de-83a3-098e818547dc\" class=\"colab-df-container\">\n",
              "    <div>\n",
              "<style scoped>\n",
              "    .dataframe tbody tr th:only-of-type {\n",
              "        vertical-align: middle;\n",
              "    }\n",
              "\n",
              "    .dataframe tbody tr th {\n",
              "        vertical-align: top;\n",
              "    }\n",
              "\n",
              "    .dataframe thead th {\n",
              "        text-align: right;\n",
              "    }\n",
              "</style>\n",
              "<table border=\"1\" class=\"dataframe\">\n",
              "  <thead>\n",
              "    <tr style=\"text-align: right;\">\n",
              "      <th></th>\n",
              "      <th>Record ID</th>\n",
              "      <th>age</th>\n",
              "      <th>sex</th>\n",
              "      <th>on thyroxine</th>\n",
              "      <th>query on thyroxine</th>\n",
              "      <th>on antithyroid medication</th>\n",
              "      <th>sick</th>\n",
              "      <th>pregnant</th>\n",
              "      <th>thyroid surgery</th>\n",
              "      <th>I131 treatment</th>\n",
              "      <th>...</th>\n",
              "      <th>TT4 measured</th>\n",
              "      <th>TT4</th>\n",
              "      <th>T4U measured</th>\n",
              "      <th>T4U</th>\n",
              "      <th>FTI measured</th>\n",
              "      <th>FTI</th>\n",
              "      <th>TBG measured</th>\n",
              "      <th>TBG</th>\n",
              "      <th>referral source</th>\n",
              "      <th>Condition</th>\n",
              "    </tr>\n",
              "  </thead>\n",
              "  <tbody>\n",
              "    <tr>\n",
              "      <th>0</th>\n",
              "      <td>840801013</td>\n",
              "      <td>29</td>\n",
              "      <td>F</td>\n",
              "      <td>f</td>\n",
              "      <td>f</td>\n",
              "      <td>f</td>\n",
              "      <td>f</td>\n",
              "      <td>f</td>\n",
              "      <td>f</td>\n",
              "      <td>f</td>\n",
              "      <td>...</td>\n",
              "      <td>f</td>\n",
              "      <td>104.0</td>\n",
              "      <td>f</td>\n",
              "      <td>0.96</td>\n",
              "      <td>f</td>\n",
              "      <td>109.0</td>\n",
              "      <td>f</td>\n",
              "      <td>26.0</td>\n",
              "      <td>other</td>\n",
              "      <td>NO CONDITION</td>\n",
              "    </tr>\n",
              "    <tr>\n",
              "      <th>1</th>\n",
              "      <td>840801014</td>\n",
              "      <td>29</td>\n",
              "      <td>F</td>\n",
              "      <td>f</td>\n",
              "      <td>f</td>\n",
              "      <td>f</td>\n",
              "      <td>f</td>\n",
              "      <td>f</td>\n",
              "      <td>f</td>\n",
              "      <td>f</td>\n",
              "      <td>...</td>\n",
              "      <td>t</td>\n",
              "      <td>128.0</td>\n",
              "      <td>f</td>\n",
              "      <td>0.96</td>\n",
              "      <td>f</td>\n",
              "      <td>109.0</td>\n",
              "      <td>f</td>\n",
              "      <td>26.0</td>\n",
              "      <td>other</td>\n",
              "      <td>NO CONDITION</td>\n",
              "    </tr>\n",
              "    <tr>\n",
              "      <th>2</th>\n",
              "      <td>840801042</td>\n",
              "      <td>41</td>\n",
              "      <td>F</td>\n",
              "      <td>f</td>\n",
              "      <td>f</td>\n",
              "      <td>f</td>\n",
              "      <td>f</td>\n",
              "      <td>f</td>\n",
              "      <td>f</td>\n",
              "      <td>f</td>\n",
              "      <td>...</td>\n",
              "      <td>f</td>\n",
              "      <td>104.0</td>\n",
              "      <td>f</td>\n",
              "      <td>0.96</td>\n",
              "      <td>f</td>\n",
              "      <td>109.0</td>\n",
              "      <td>t</td>\n",
              "      <td>11.0</td>\n",
              "      <td>other</td>\n",
              "      <td>NO CONDITION</td>\n",
              "    </tr>\n",
              "    <tr>\n",
              "      <th>3</th>\n",
              "      <td>840803046</td>\n",
              "      <td>36</td>\n",
              "      <td>F</td>\n",
              "      <td>f</td>\n",
              "      <td>f</td>\n",
              "      <td>f</td>\n",
              "      <td>f</td>\n",
              "      <td>f</td>\n",
              "      <td>f</td>\n",
              "      <td>f</td>\n",
              "      <td>...</td>\n",
              "      <td>f</td>\n",
              "      <td>104.0</td>\n",
              "      <td>f</td>\n",
              "      <td>0.96</td>\n",
              "      <td>f</td>\n",
              "      <td>109.0</td>\n",
              "      <td>t</td>\n",
              "      <td>26.0</td>\n",
              "      <td>other</td>\n",
              "      <td>NO CONDITION</td>\n",
              "    </tr>\n",
              "    <tr>\n",
              "      <th>4</th>\n",
              "      <td>840803047</td>\n",
              "      <td>32</td>\n",
              "      <td>F</td>\n",
              "      <td>f</td>\n",
              "      <td>f</td>\n",
              "      <td>f</td>\n",
              "      <td>f</td>\n",
              "      <td>f</td>\n",
              "      <td>f</td>\n",
              "      <td>f</td>\n",
              "      <td>...</td>\n",
              "      <td>f</td>\n",
              "      <td>104.0</td>\n",
              "      <td>f</td>\n",
              "      <td>0.96</td>\n",
              "      <td>f</td>\n",
              "      <td>109.0</td>\n",
              "      <td>t</td>\n",
              "      <td>36.0</td>\n",
              "      <td>other</td>\n",
              "      <td>S</td>\n",
              "    </tr>\n",
              "  </tbody>\n",
              "</table>\n",
              "<p>5 rows × 31 columns</p>\n",
              "</div>\n",
              "    <div class=\"colab-df-buttons\">\n",
              "\n",
              "  <div class=\"colab-df-container\">\n",
              "    <button class=\"colab-df-convert\" onclick=\"convertToInteractive('df-de0bbc37-664d-40de-83a3-098e818547dc')\"\n",
              "            title=\"Convert this dataframe to an interactive table.\"\n",
              "            style=\"display:none;\">\n",
              "\n",
              "  <svg xmlns=\"http://www.w3.org/2000/svg\" height=\"24px\" viewBox=\"0 -960 960 960\">\n",
              "    <path d=\"M120-120v-720h720v720H120Zm60-500h600v-160H180v160Zm220 220h160v-160H400v160Zm0 220h160v-160H400v160ZM180-400h160v-160H180v160Zm440 0h160v-160H620v160ZM180-180h160v-160H180v160Zm440 0h160v-160H620v160Z\"/>\n",
              "  </svg>\n",
              "    </button>\n",
              "\n",
              "  <style>\n",
              "    .colab-df-container {\n",
              "      display:flex;\n",
              "      gap: 12px;\n",
              "    }\n",
              "\n",
              "    .colab-df-convert {\n",
              "      background-color: #E8F0FE;\n",
              "      border: none;\n",
              "      border-radius: 50%;\n",
              "      cursor: pointer;\n",
              "      display: none;\n",
              "      fill: #1967D2;\n",
              "      height: 32px;\n",
              "      padding: 0 0 0 0;\n",
              "      width: 32px;\n",
              "    }\n",
              "\n",
              "    .colab-df-convert:hover {\n",
              "      background-color: #E2EBFA;\n",
              "      box-shadow: 0px 1px 2px rgba(60, 64, 67, 0.3), 0px 1px 3px 1px rgba(60, 64, 67, 0.15);\n",
              "      fill: #174EA6;\n",
              "    }\n",
              "\n",
              "    .colab-df-buttons div {\n",
              "      margin-bottom: 4px;\n",
              "    }\n",
              "\n",
              "    [theme=dark] .colab-df-convert {\n",
              "      background-color: #3B4455;\n",
              "      fill: #D2E3FC;\n",
              "    }\n",
              "\n",
              "    [theme=dark] .colab-df-convert:hover {\n",
              "      background-color: #434B5C;\n",
              "      box-shadow: 0px 1px 3px 1px rgba(0, 0, 0, 0.15);\n",
              "      filter: drop-shadow(0px 1px 2px rgba(0, 0, 0, 0.3));\n",
              "      fill: #FFFFFF;\n",
              "    }\n",
              "  </style>\n",
              "\n",
              "    <script>\n",
              "      const buttonEl =\n",
              "        document.querySelector('#df-de0bbc37-664d-40de-83a3-098e818547dc button.colab-df-convert');\n",
              "      buttonEl.style.display =\n",
              "        google.colab.kernel.accessAllowed ? 'block' : 'none';\n",
              "\n",
              "      async function convertToInteractive(key) {\n",
              "        const element = document.querySelector('#df-de0bbc37-664d-40de-83a3-098e818547dc');\n",
              "        const dataTable =\n",
              "          await google.colab.kernel.invokeFunction('convertToInteractive',\n",
              "                                                    [key], {});\n",
              "        if (!dataTable) return;\n",
              "\n",
              "        const docLinkHtml = 'Like what you see? Visit the ' +\n",
              "          '<a target=\"_blank\" href=https://colab.research.google.com/notebooks/data_table.ipynb>data table notebook</a>'\n",
              "          + ' to learn more about interactive tables.';\n",
              "        element.innerHTML = '';\n",
              "        dataTable['output_type'] = 'display_data';\n",
              "        await google.colab.output.renderOutput(dataTable, element);\n",
              "        const docLink = document.createElement('div');\n",
              "        docLink.innerHTML = docLinkHtml;\n",
              "        element.appendChild(docLink);\n",
              "      }\n",
              "    </script>\n",
              "  </div>\n",
              "\n",
              "\n",
              "    <div id=\"df-5bf188b1-b124-4fae-a39c-3fb1fb643422\">\n",
              "      <button class=\"colab-df-quickchart\" onclick=\"quickchart('df-5bf188b1-b124-4fae-a39c-3fb1fb643422')\"\n",
              "                title=\"Suggest charts\"\n",
              "                style=\"display:none;\">\n",
              "\n",
              "<svg xmlns=\"http://www.w3.org/2000/svg\" height=\"24px\"viewBox=\"0 0 24 24\"\n",
              "     width=\"24px\">\n",
              "    <g>\n",
              "        <path d=\"M19 3H5c-1.1 0-2 .9-2 2v14c0 1.1.9 2 2 2h14c1.1 0 2-.9 2-2V5c0-1.1-.9-2-2-2zM9 17H7v-7h2v7zm4 0h-2V7h2v10zm4 0h-2v-4h2v4z\"/>\n",
              "    </g>\n",
              "</svg>\n",
              "      </button>\n",
              "\n",
              "<style>\n",
              "  .colab-df-quickchart {\n",
              "      --bg-color: #E8F0FE;\n",
              "      --fill-color: #1967D2;\n",
              "      --hover-bg-color: #E2EBFA;\n",
              "      --hover-fill-color: #174EA6;\n",
              "      --disabled-fill-color: #AAA;\n",
              "      --disabled-bg-color: #DDD;\n",
              "  }\n",
              "\n",
              "  [theme=dark] .colab-df-quickchart {\n",
              "      --bg-color: #3B4455;\n",
              "      --fill-color: #D2E3FC;\n",
              "      --hover-bg-color: #434B5C;\n",
              "      --hover-fill-color: #FFFFFF;\n",
              "      --disabled-bg-color: #3B4455;\n",
              "      --disabled-fill-color: #666;\n",
              "  }\n",
              "\n",
              "  .colab-df-quickchart {\n",
              "    background-color: var(--bg-color);\n",
              "    border: none;\n",
              "    border-radius: 50%;\n",
              "    cursor: pointer;\n",
              "    display: none;\n",
              "    fill: var(--fill-color);\n",
              "    height: 32px;\n",
              "    padding: 0;\n",
              "    width: 32px;\n",
              "  }\n",
              "\n",
              "  .colab-df-quickchart:hover {\n",
              "    background-color: var(--hover-bg-color);\n",
              "    box-shadow: 0 1px 2px rgba(60, 64, 67, 0.3), 0 1px 3px 1px rgba(60, 64, 67, 0.15);\n",
              "    fill: var(--button-hover-fill-color);\n",
              "  }\n",
              "\n",
              "  .colab-df-quickchart-complete:disabled,\n",
              "  .colab-df-quickchart-complete:disabled:hover {\n",
              "    background-color: var(--disabled-bg-color);\n",
              "    fill: var(--disabled-fill-color);\n",
              "    box-shadow: none;\n",
              "  }\n",
              "\n",
              "  .colab-df-spinner {\n",
              "    border: 2px solid var(--fill-color);\n",
              "    border-color: transparent;\n",
              "    border-bottom-color: var(--fill-color);\n",
              "    animation:\n",
              "      spin 1s steps(1) infinite;\n",
              "  }\n",
              "\n",
              "  @keyframes spin {\n",
              "    0% {\n",
              "      border-color: transparent;\n",
              "      border-bottom-color: var(--fill-color);\n",
              "      border-left-color: var(--fill-color);\n",
              "    }\n",
              "    20% {\n",
              "      border-color: transparent;\n",
              "      border-left-color: var(--fill-color);\n",
              "      border-top-color: var(--fill-color);\n",
              "    }\n",
              "    30% {\n",
              "      border-color: transparent;\n",
              "      border-left-color: var(--fill-color);\n",
              "      border-top-color: var(--fill-color);\n",
              "      border-right-color: var(--fill-color);\n",
              "    }\n",
              "    40% {\n",
              "      border-color: transparent;\n",
              "      border-right-color: var(--fill-color);\n",
              "      border-top-color: var(--fill-color);\n",
              "    }\n",
              "    60% {\n",
              "      border-color: transparent;\n",
              "      border-right-color: var(--fill-color);\n",
              "    }\n",
              "    80% {\n",
              "      border-color: transparent;\n",
              "      border-right-color: var(--fill-color);\n",
              "      border-bottom-color: var(--fill-color);\n",
              "    }\n",
              "    90% {\n",
              "      border-color: transparent;\n",
              "      border-bottom-color: var(--fill-color);\n",
              "    }\n",
              "  }\n",
              "</style>\n",
              "\n",
              "      <script>\n",
              "        async function quickchart(key) {\n",
              "          const quickchartButtonEl =\n",
              "            document.querySelector('#' + key + ' button');\n",
              "          quickchartButtonEl.disabled = true;  // To prevent multiple clicks.\n",
              "          quickchartButtonEl.classList.add('colab-df-spinner');\n",
              "          try {\n",
              "            const charts = await google.colab.kernel.invokeFunction(\n",
              "                'suggestCharts', [key], {});\n",
              "          } catch (error) {\n",
              "            console.error('Error during call to suggestCharts:', error);\n",
              "          }\n",
              "          quickchartButtonEl.classList.remove('colab-df-spinner');\n",
              "          quickchartButtonEl.classList.add('colab-df-quickchart-complete');\n",
              "        }\n",
              "        (() => {\n",
              "          let quickchartButtonEl =\n",
              "            document.querySelector('#df-5bf188b1-b124-4fae-a39c-3fb1fb643422 button');\n",
              "          quickchartButtonEl.style.display =\n",
              "            google.colab.kernel.accessAllowed ? 'block' : 'none';\n",
              "        })();\n",
              "      </script>\n",
              "    </div>\n",
              "\n",
              "    </div>\n",
              "  </div>\n"
            ],
            "application/vnd.google.colaboratory.intrinsic+json": {
              "type": "dataframe",
              "variable_name": "df"
            }
          },
          "metadata": {},
          "execution_count": 79
        }
      ]
    },
    {
      "cell_type": "markdown",
      "source": [
        "A9"
      ],
      "metadata": {
        "id": "ZwxalUh9eMLl"
      }
    },
    {
      "cell_type": "code",
      "source": [
        "# Loading the dataset\n",
        "df = pd.read_excel(\"/content/drive/MyDrive/Lab Session Data.xlsx\", sheet_name=\"thyroid0387_UCI\")\n",
        "\n",
        "# Replacing '?' with NaN\n",
        "df = df.replace('?', np.nan)\n",
        "\n",
        "# Converting columns to numeric\n",
        "for col in df.columns:\n",
        "    try:\n",
        "        df[col] = pd.to_numeric(df[col])\n",
        "    except:\n",
        "        pass\n",
        "\n",
        "def normalization(dataframe):\n",
        "  # Normalizing numeric values using Min-Max scaling\n",
        "  for col in df.select_dtypes(include=[np.number]).columns:\n",
        "      col_min = df[col].min()\n",
        "      col_max = df[col].max()\n",
        "      df[col] = (df[col] - col_min) / (col_max - col_min)\n",
        "normalization(df)\n",
        "\n",
        "# Saving the normalized data\n",
        "df.to_excel(\"thyroid0387_UCI_normalized.xlsx\", index=False)\n",
        "\n",
        "df.head()"
      ],
      "metadata": {
        "colab": {
          "base_uri": "https://localhost:8080/",
          "height": 394
        },
        "id": "upU9bqkJZDg-",
        "outputId": "3d7db196-24c4-4b3c-d2c9-d521b3e6ff95"
      },
      "execution_count": 60,
      "outputs": [
        {
          "output_type": "stream",
          "name": "stderr",
          "text": [
            "/tmp/ipython-input-60-992944488.py:5: FutureWarning: Downcasting behavior in `replace` is deprecated and will be removed in a future version. To retain the old behavior, explicitly call `result.infer_objects(copy=False)`. To opt-in to the future behavior, set `pd.set_option('future.no_silent_downcasting', True)`\n",
            "  df = df.replace('?', np.nan)\n"
          ]
        },
        {
          "output_type": "execute_result",
          "data": {
            "text/plain": [
              "      Record ID       age sex on thyroxine query on thyroxine  \\\n",
              "0  0.000000e+00  0.000427   F            f                  f   \n",
              "1  3.410871e-08  0.000427   F            f                  f   \n",
              "2  9.891527e-07  0.000610   F            f                  f   \n",
              "3  6.934301e-05  0.000534   F            f                  f   \n",
              "4  6.937712e-05  0.000473   F            f                  f   \n",
              "\n",
              "  on antithyroid medication sick pregnant thyroid surgery I131 treatment  ...  \\\n",
              "0                         f    f        f               f              f  ...   \n",
              "1                         f    f        f               f              f  ...   \n",
              "2                         f    f        f               f              f  ...   \n",
              "3                         f    f        f               f              f  ...   \n",
              "4                         f    f        f               f              f  ...   \n",
              "\n",
              "  TT4 measured       TT4 T4U measured T4U FTI measured FTI TBG measured  \\\n",
              "0            f       NaN            f NaN            f NaN            f   \n",
              "1            t  0.210702            f NaN            f NaN            f   \n",
              "2            f       NaN            f NaN            f NaN            t   \n",
              "3            f       NaN            f NaN            f NaN            t   \n",
              "4            f       NaN            f NaN            f NaN            t   \n",
              "\n",
              "        TBG  referral source     Condition  \n",
              "0       NaN            other  NO CONDITION  \n",
              "1       NaN            other  NO CONDITION  \n",
              "2  0.054527            other  NO CONDITION  \n",
              "3  0.129565            other  NO CONDITION  \n",
              "4  0.179590            other             S  \n",
              "\n",
              "[5 rows x 31 columns]"
            ],
            "text/html": [
              "\n",
              "  <div id=\"df-530b7b86-340d-47db-9ed8-3d2c04ec5419\" class=\"colab-df-container\">\n",
              "    <div>\n",
              "<style scoped>\n",
              "    .dataframe tbody tr th:only-of-type {\n",
              "        vertical-align: middle;\n",
              "    }\n",
              "\n",
              "    .dataframe tbody tr th {\n",
              "        vertical-align: top;\n",
              "    }\n",
              "\n",
              "    .dataframe thead th {\n",
              "        text-align: right;\n",
              "    }\n",
              "</style>\n",
              "<table border=\"1\" class=\"dataframe\">\n",
              "  <thead>\n",
              "    <tr style=\"text-align: right;\">\n",
              "      <th></th>\n",
              "      <th>Record ID</th>\n",
              "      <th>age</th>\n",
              "      <th>sex</th>\n",
              "      <th>on thyroxine</th>\n",
              "      <th>query on thyroxine</th>\n",
              "      <th>on antithyroid medication</th>\n",
              "      <th>sick</th>\n",
              "      <th>pregnant</th>\n",
              "      <th>thyroid surgery</th>\n",
              "      <th>I131 treatment</th>\n",
              "      <th>...</th>\n",
              "      <th>TT4 measured</th>\n",
              "      <th>TT4</th>\n",
              "      <th>T4U measured</th>\n",
              "      <th>T4U</th>\n",
              "      <th>FTI measured</th>\n",
              "      <th>FTI</th>\n",
              "      <th>TBG measured</th>\n",
              "      <th>TBG</th>\n",
              "      <th>referral source</th>\n",
              "      <th>Condition</th>\n",
              "    </tr>\n",
              "  </thead>\n",
              "  <tbody>\n",
              "    <tr>\n",
              "      <th>0</th>\n",
              "      <td>0.000000e+00</td>\n",
              "      <td>0.000427</td>\n",
              "      <td>F</td>\n",
              "      <td>f</td>\n",
              "      <td>f</td>\n",
              "      <td>f</td>\n",
              "      <td>f</td>\n",
              "      <td>f</td>\n",
              "      <td>f</td>\n",
              "      <td>f</td>\n",
              "      <td>...</td>\n",
              "      <td>f</td>\n",
              "      <td>NaN</td>\n",
              "      <td>f</td>\n",
              "      <td>NaN</td>\n",
              "      <td>f</td>\n",
              "      <td>NaN</td>\n",
              "      <td>f</td>\n",
              "      <td>NaN</td>\n",
              "      <td>other</td>\n",
              "      <td>NO CONDITION</td>\n",
              "    </tr>\n",
              "    <tr>\n",
              "      <th>1</th>\n",
              "      <td>3.410871e-08</td>\n",
              "      <td>0.000427</td>\n",
              "      <td>F</td>\n",
              "      <td>f</td>\n",
              "      <td>f</td>\n",
              "      <td>f</td>\n",
              "      <td>f</td>\n",
              "      <td>f</td>\n",
              "      <td>f</td>\n",
              "      <td>f</td>\n",
              "      <td>...</td>\n",
              "      <td>t</td>\n",
              "      <td>0.210702</td>\n",
              "      <td>f</td>\n",
              "      <td>NaN</td>\n",
              "      <td>f</td>\n",
              "      <td>NaN</td>\n",
              "      <td>f</td>\n",
              "      <td>NaN</td>\n",
              "      <td>other</td>\n",
              "      <td>NO CONDITION</td>\n",
              "    </tr>\n",
              "    <tr>\n",
              "      <th>2</th>\n",
              "      <td>9.891527e-07</td>\n",
              "      <td>0.000610</td>\n",
              "      <td>F</td>\n",
              "      <td>f</td>\n",
              "      <td>f</td>\n",
              "      <td>f</td>\n",
              "      <td>f</td>\n",
              "      <td>f</td>\n",
              "      <td>f</td>\n",
              "      <td>f</td>\n",
              "      <td>...</td>\n",
              "      <td>f</td>\n",
              "      <td>NaN</td>\n",
              "      <td>f</td>\n",
              "      <td>NaN</td>\n",
              "      <td>f</td>\n",
              "      <td>NaN</td>\n",
              "      <td>t</td>\n",
              "      <td>0.054527</td>\n",
              "      <td>other</td>\n",
              "      <td>NO CONDITION</td>\n",
              "    </tr>\n",
              "    <tr>\n",
              "      <th>3</th>\n",
              "      <td>6.934301e-05</td>\n",
              "      <td>0.000534</td>\n",
              "      <td>F</td>\n",
              "      <td>f</td>\n",
              "      <td>f</td>\n",
              "      <td>f</td>\n",
              "      <td>f</td>\n",
              "      <td>f</td>\n",
              "      <td>f</td>\n",
              "      <td>f</td>\n",
              "      <td>...</td>\n",
              "      <td>f</td>\n",
              "      <td>NaN</td>\n",
              "      <td>f</td>\n",
              "      <td>NaN</td>\n",
              "      <td>f</td>\n",
              "      <td>NaN</td>\n",
              "      <td>t</td>\n",
              "      <td>0.129565</td>\n",
              "      <td>other</td>\n",
              "      <td>NO CONDITION</td>\n",
              "    </tr>\n",
              "    <tr>\n",
              "      <th>4</th>\n",
              "      <td>6.937712e-05</td>\n",
              "      <td>0.000473</td>\n",
              "      <td>F</td>\n",
              "      <td>f</td>\n",
              "      <td>f</td>\n",
              "      <td>f</td>\n",
              "      <td>f</td>\n",
              "      <td>f</td>\n",
              "      <td>f</td>\n",
              "      <td>f</td>\n",
              "      <td>...</td>\n",
              "      <td>f</td>\n",
              "      <td>NaN</td>\n",
              "      <td>f</td>\n",
              "      <td>NaN</td>\n",
              "      <td>f</td>\n",
              "      <td>NaN</td>\n",
              "      <td>t</td>\n",
              "      <td>0.179590</td>\n",
              "      <td>other</td>\n",
              "      <td>S</td>\n",
              "    </tr>\n",
              "  </tbody>\n",
              "</table>\n",
              "<p>5 rows × 31 columns</p>\n",
              "</div>\n",
              "    <div class=\"colab-df-buttons\">\n",
              "\n",
              "  <div class=\"colab-df-container\">\n",
              "    <button class=\"colab-df-convert\" onclick=\"convertToInteractive('df-530b7b86-340d-47db-9ed8-3d2c04ec5419')\"\n",
              "            title=\"Convert this dataframe to an interactive table.\"\n",
              "            style=\"display:none;\">\n",
              "\n",
              "  <svg xmlns=\"http://www.w3.org/2000/svg\" height=\"24px\" viewBox=\"0 -960 960 960\">\n",
              "    <path d=\"M120-120v-720h720v720H120Zm60-500h600v-160H180v160Zm220 220h160v-160H400v160Zm0 220h160v-160H400v160ZM180-400h160v-160H180v160Zm440 0h160v-160H620v160ZM180-180h160v-160H180v160Zm440 0h160v-160H620v160Z\"/>\n",
              "  </svg>\n",
              "    </button>\n",
              "\n",
              "  <style>\n",
              "    .colab-df-container {\n",
              "      display:flex;\n",
              "      gap: 12px;\n",
              "    }\n",
              "\n",
              "    .colab-df-convert {\n",
              "      background-color: #E8F0FE;\n",
              "      border: none;\n",
              "      border-radius: 50%;\n",
              "      cursor: pointer;\n",
              "      display: none;\n",
              "      fill: #1967D2;\n",
              "      height: 32px;\n",
              "      padding: 0 0 0 0;\n",
              "      width: 32px;\n",
              "    }\n",
              "\n",
              "    .colab-df-convert:hover {\n",
              "      background-color: #E2EBFA;\n",
              "      box-shadow: 0px 1px 2px rgba(60, 64, 67, 0.3), 0px 1px 3px 1px rgba(60, 64, 67, 0.15);\n",
              "      fill: #174EA6;\n",
              "    }\n",
              "\n",
              "    .colab-df-buttons div {\n",
              "      margin-bottom: 4px;\n",
              "    }\n",
              "\n",
              "    [theme=dark] .colab-df-convert {\n",
              "      background-color: #3B4455;\n",
              "      fill: #D2E3FC;\n",
              "    }\n",
              "\n",
              "    [theme=dark] .colab-df-convert:hover {\n",
              "      background-color: #434B5C;\n",
              "      box-shadow: 0px 1px 3px 1px rgba(0, 0, 0, 0.15);\n",
              "      filter: drop-shadow(0px 1px 2px rgba(0, 0, 0, 0.3));\n",
              "      fill: #FFFFFF;\n",
              "    }\n",
              "  </style>\n",
              "\n",
              "    <script>\n",
              "      const buttonEl =\n",
              "        document.querySelector('#df-530b7b86-340d-47db-9ed8-3d2c04ec5419 button.colab-df-convert');\n",
              "      buttonEl.style.display =\n",
              "        google.colab.kernel.accessAllowed ? 'block' : 'none';\n",
              "\n",
              "      async function convertToInteractive(key) {\n",
              "        const element = document.querySelector('#df-530b7b86-340d-47db-9ed8-3d2c04ec5419');\n",
              "        const dataTable =\n",
              "          await google.colab.kernel.invokeFunction('convertToInteractive',\n",
              "                                                    [key], {});\n",
              "        if (!dataTable) return;\n",
              "\n",
              "        const docLinkHtml = 'Like what you see? Visit the ' +\n",
              "          '<a target=\"_blank\" href=https://colab.research.google.com/notebooks/data_table.ipynb>data table notebook</a>'\n",
              "          + ' to learn more about interactive tables.';\n",
              "        element.innerHTML = '';\n",
              "        dataTable['output_type'] = 'display_data';\n",
              "        await google.colab.output.renderOutput(dataTable, element);\n",
              "        const docLink = document.createElement('div');\n",
              "        docLink.innerHTML = docLinkHtml;\n",
              "        element.appendChild(docLink);\n",
              "      }\n",
              "    </script>\n",
              "  </div>\n",
              "\n",
              "\n",
              "    <div id=\"df-52ffd9eb-978e-4a53-a5d4-15e2dbe7c25c\">\n",
              "      <button class=\"colab-df-quickchart\" onclick=\"quickchart('df-52ffd9eb-978e-4a53-a5d4-15e2dbe7c25c')\"\n",
              "                title=\"Suggest charts\"\n",
              "                style=\"display:none;\">\n",
              "\n",
              "<svg xmlns=\"http://www.w3.org/2000/svg\" height=\"24px\"viewBox=\"0 0 24 24\"\n",
              "     width=\"24px\">\n",
              "    <g>\n",
              "        <path d=\"M19 3H5c-1.1 0-2 .9-2 2v14c0 1.1.9 2 2 2h14c1.1 0 2-.9 2-2V5c0-1.1-.9-2-2-2zM9 17H7v-7h2v7zm4 0h-2V7h2v10zm4 0h-2v-4h2v4z\"/>\n",
              "    </g>\n",
              "</svg>\n",
              "      </button>\n",
              "\n",
              "<style>\n",
              "  .colab-df-quickchart {\n",
              "      --bg-color: #E8F0FE;\n",
              "      --fill-color: #1967D2;\n",
              "      --hover-bg-color: #E2EBFA;\n",
              "      --hover-fill-color: #174EA6;\n",
              "      --disabled-fill-color: #AAA;\n",
              "      --disabled-bg-color: #DDD;\n",
              "  }\n",
              "\n",
              "  [theme=dark] .colab-df-quickchart {\n",
              "      --bg-color: #3B4455;\n",
              "      --fill-color: #D2E3FC;\n",
              "      --hover-bg-color: #434B5C;\n",
              "      --hover-fill-color: #FFFFFF;\n",
              "      --disabled-bg-color: #3B4455;\n",
              "      --disabled-fill-color: #666;\n",
              "  }\n",
              "\n",
              "  .colab-df-quickchart {\n",
              "    background-color: var(--bg-color);\n",
              "    border: none;\n",
              "    border-radius: 50%;\n",
              "    cursor: pointer;\n",
              "    display: none;\n",
              "    fill: var(--fill-color);\n",
              "    height: 32px;\n",
              "    padding: 0;\n",
              "    width: 32px;\n",
              "  }\n",
              "\n",
              "  .colab-df-quickchart:hover {\n",
              "    background-color: var(--hover-bg-color);\n",
              "    box-shadow: 0 1px 2px rgba(60, 64, 67, 0.3), 0 1px 3px 1px rgba(60, 64, 67, 0.15);\n",
              "    fill: var(--button-hover-fill-color);\n",
              "  }\n",
              "\n",
              "  .colab-df-quickchart-complete:disabled,\n",
              "  .colab-df-quickchart-complete:disabled:hover {\n",
              "    background-color: var(--disabled-bg-color);\n",
              "    fill: var(--disabled-fill-color);\n",
              "    box-shadow: none;\n",
              "  }\n",
              "\n",
              "  .colab-df-spinner {\n",
              "    border: 2px solid var(--fill-color);\n",
              "    border-color: transparent;\n",
              "    border-bottom-color: var(--fill-color);\n",
              "    animation:\n",
              "      spin 1s steps(1) infinite;\n",
              "  }\n",
              "\n",
              "  @keyframes spin {\n",
              "    0% {\n",
              "      border-color: transparent;\n",
              "      border-bottom-color: var(--fill-color);\n",
              "      border-left-color: var(--fill-color);\n",
              "    }\n",
              "    20% {\n",
              "      border-color: transparent;\n",
              "      border-left-color: var(--fill-color);\n",
              "      border-top-color: var(--fill-color);\n",
              "    }\n",
              "    30% {\n",
              "      border-color: transparent;\n",
              "      border-left-color: var(--fill-color);\n",
              "      border-top-color: var(--fill-color);\n",
              "      border-right-color: var(--fill-color);\n",
              "    }\n",
              "    40% {\n",
              "      border-color: transparent;\n",
              "      border-right-color: var(--fill-color);\n",
              "      border-top-color: var(--fill-color);\n",
              "    }\n",
              "    60% {\n",
              "      border-color: transparent;\n",
              "      border-right-color: var(--fill-color);\n",
              "    }\n",
              "    80% {\n",
              "      border-color: transparent;\n",
              "      border-right-color: var(--fill-color);\n",
              "      border-bottom-color: var(--fill-color);\n",
              "    }\n",
              "    90% {\n",
              "      border-color: transparent;\n",
              "      border-bottom-color: var(--fill-color);\n",
              "    }\n",
              "  }\n",
              "</style>\n",
              "\n",
              "      <script>\n",
              "        async function quickchart(key) {\n",
              "          const quickchartButtonEl =\n",
              "            document.querySelector('#' + key + ' button');\n",
              "          quickchartButtonEl.disabled = true;  // To prevent multiple clicks.\n",
              "          quickchartButtonEl.classList.add('colab-df-spinner');\n",
              "          try {\n",
              "            const charts = await google.colab.kernel.invokeFunction(\n",
              "                'suggestCharts', [key], {});\n",
              "          } catch (error) {\n",
              "            console.error('Error during call to suggestCharts:', error);\n",
              "          }\n",
              "          quickchartButtonEl.classList.remove('colab-df-spinner');\n",
              "          quickchartButtonEl.classList.add('colab-df-quickchart-complete');\n",
              "        }\n",
              "        (() => {\n",
              "          let quickchartButtonEl =\n",
              "            document.querySelector('#df-52ffd9eb-978e-4a53-a5d4-15e2dbe7c25c button');\n",
              "          quickchartButtonEl.style.display =\n",
              "            google.colab.kernel.accessAllowed ? 'block' : 'none';\n",
              "        })();\n",
              "      </script>\n",
              "    </div>\n",
              "\n",
              "    </div>\n",
              "  </div>\n"
            ],
            "application/vnd.google.colaboratory.intrinsic+json": {
              "type": "dataframe",
              "variable_name": "df"
            }
          },
          "metadata": {},
          "execution_count": 60
        }
      ]
    }
  ]
}