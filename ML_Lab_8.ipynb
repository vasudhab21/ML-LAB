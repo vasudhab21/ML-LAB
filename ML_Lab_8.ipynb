{
  "nbformat": 4,
  "nbformat_minor": 0,
  "metadata": {
    "colab": {
      "provenance": [],
      "authorship_tag": "ABX9TyNOrZGmQuMn/GReOaVbvYXU",
      "include_colab_link": true
    },
    "kernelspec": {
      "name": "python3",
      "display_name": "Python 3"
    },
    "language_info": {
      "name": "python"
    }
  },
  "cells": [
    {
      "cell_type": "markdown",
      "metadata": {
        "id": "view-in-github",
        "colab_type": "text"
      },
      "source": [
        "<a href=\"https://colab.research.google.com/github/vasudhab21/ML-LAB/blob/main/ML_Lab_8.ipynb\" target=\"_parent\"><img src=\"https://colab.research.google.com/assets/colab-badge.svg\" alt=\"Open In Colab\"/></a>"
      ]
    },
    {
      "cell_type": "code",
      "execution_count": null,
      "metadata": {
        "colab": {
          "base_uri": "https://localhost:8080/"
        },
        "id": "LUsfGJIJSUXC",
        "outputId": "48fac160-b412-46ab-f789-9746844ec982"
      },
      "outputs": [
        {
          "output_type": "stream",
          "name": "stdout",
          "text": [
            "Mounted at /content/drive\n",
            "Requirement already satisfied: biopython in /usr/local/lib/python3.12/dist-packages (1.85)\n",
            "Requirement already satisfied: numpy in /usr/local/lib/python3.12/dist-packages (from biopython) (2.0.2)\n",
            "Environment is ready. Paths are set to your 'natural2' and 'engineered' folders.\n"
          ]
        }
      ],
      "source": [
        "from google.colab import drive\n",
        "import os\n",
        "\n",
        "drive.mount('/content/drive', force_remount=True)\n",
        "\n",
        "project_path = '/content/drive/MyDrive/GenomeDetector'\n",
        "natural_data_path = os.path.join(project_path, 'data', 'natural2')\n",
        "engineered_data_path = os.path.join(project_path, 'data', 'engineered')\n",
        "\n",
        "!pip install biopython\n",
        "\n",
        "print(\"Environment is ready. Paths are set to your 'natural2' and 'engineered' folders.\")"
      ]
    },
    {
      "cell_type": "code",
      "source": [
        "import numpy as np\n",
        "from itertools import product\n",
        "from Bio import SeqIO\n",
        "import glob\n",
        "import os\n",
        "import gzip\n",
        "\n",
        "def get_kmer_features(k):\n",
        "    \"\"\"Generates all possible k-mers for a given k.\"\"\"\n",
        "    letters = ['A', 'C', 'G', 'T']\n",
        "    return sorted([''.join(p) for p in product(letters, repeat=k)])\n",
        "\n",
        "def sequence_to_kmer_counts(sequence, k, kmer_features):\n",
        "    \"\"\"Converts a DNA sequence into a vector of k-mer counts.\"\"\"\n",
        "    kmer_counts = {kmer: 0 for kmer in kmer_features}\n",
        "    for i in range(len(sequence) - k + 1):\n",
        "        kmer = sequence[i:i+k].upper()\n",
        "        if kmer in kmer_counts:\n",
        "            kmer_counts[kmer] += 1\n",
        "    return list(kmer_counts.values())\n",
        "\n",
        "# --- Main Loading Logic ---\n",
        "print(\"--- Loading and Processing Your Datasets ---\")\n",
        "K_VALUE = 4\n",
        "kmer_features = get_kmer_features(K_VALUE)\n",
        "X, y = [], []\n",
        "\n",
        "# 1. Load Natural Data from 'natural2' (handles .fna and .fna.gz)\n",
        "print(\"Loading 'Natural' genomes from the 'natural2' folder...\")\n",
        "# The '*' wildcard finds files ending in .fna or .fna.gz\n",
        "search_pattern_natural = f\"{natural_data_path}/*.fna*\"\n",
        "natural_files = glob.glob(search_pattern_natural)\n",
        "print(f\"Found {len(natural_files)} natural files.\")\n",
        "natural_sequences_processed = 0\n",
        "for filepath in natural_files:\n",
        "    # Open the file correctly, whether it's gzipped or not\n",
        "    handle = gzip.open(filepath, \"rt\") if filepath.endswith(\".gz\") else open(filepath, \"r\")\n",
        "    for record in SeqIO.parse(handle, \"fasta\"):\n",
        "        if len(record.seq) > 1000:\n",
        "            X.append(sequence_to_kmer_counts(str(record.seq), K_VALUE, kmer_features))\n",
        "            y.append(0) # Label 0 for Natural\n",
        "            natural_sequences_processed += 1\n",
        "    handle.close()\n",
        "print(f\"Processed {natural_sequences_processed} natural sequences.\")\n",
        "\n",
        "\n",
        "# 2. Load Engineered Data from 'engineered'\n",
        "print(\"Loading 'Engineered' genomes from the 'engineered' folder...\")\n",
        "search_pattern_engineered = f\"{engineered_data_path}/*.fasta\"\n",
        "engineered_files = glob.glob(search_pattern_engineered)\n",
        "print(f\"Found {len(engineered_files)} engineered files.\")\n",
        "engineered_sequences_processed = 0\n",
        "for filepath in engineered_files:\n",
        "    for record in SeqIO.parse(filepath, \"fasta\"):\n",
        "        if 200 < len(record.seq) < 50000:\n",
        "            X.append(sequence_to_kmer_counts(str(record.seq), K_VALUE, kmer_features))\n",
        "            y.append(1) # Label 1 for Engineered\n",
        "            engineered_sequences_processed += 1\n",
        "print(f\"Processed {engineered_sequences_processed} engineered sequences.\")\n",
        "\n",
        "X = np.array(X)\n",
        "y = np.array(y)\n",
        "\n",
        "print(\"\\n--- Data Processing Complete! ---\")\n",
        "print(f\"Shape of our final feature matrix X: {X.shape}\")\n",
        "print(f\"Shape of our final label vector y: {y.shape}\")\n",
        "print(f\"Number of Natural samples (class 0): {np.sum(y == 0)}\")\n",
        "print(f\"Number of Engineered samples (class 1): {np.sum(y == 1)}\")"
      ],
      "metadata": {
        "colab": {
          "base_uri": "https://localhost:8080/"
        },
        "id": "JlUzFk7A_kr1",
        "outputId": "f2d46302-2b94-445f-cc65-b357d2404300"
      },
      "execution_count": null,
      "outputs": [
        {
          "output_type": "stream",
          "name": "stdout",
          "text": [
            "--- Loading and Processing Your Datasets ---\n",
            "Loading 'Natural' genomes from the 'natural2' folder...\n",
            "Found 410 natural files.\n",
            "Processed 16302 natural sequences.\n",
            "Loading 'Engineered' genomes from the 'engineered' folder...\n",
            "Found 1 engineered files.\n",
            "Processed 866 engineered sequences.\n",
            "\n",
            "--- Data Processing Complete! ---\n",
            "Shape of our final feature matrix X: (17168, 256)\n",
            "Shape of our final label vector y: (17168,)\n",
            "Number of Natural samples (class 0): 16302\n",
            "Number of Engineered samples (class 1): 866\n"
          ]
        }
      ]
    },
    {
      "cell_type": "code",
      "source": [
        "import numpy as np\n",
        "\n",
        "# A1: Core Functions\n",
        "\n",
        "def summation_unit(weights, inputs):\n",
        "    \"\"\"Calculates the weighted sum of inputs.\"\"\"\n",
        "    return np.dot(weights, inputs)\n",
        "\n",
        "def step_activation(x):\n",
        "    \"\"\"Step activation function.\"\"\"\n",
        "    return 1 if x >= 0 else 0\n",
        "\n",
        "def bipolar_step_activation(x):\n",
        "    \"\"\"Bipolar step activation function.\"\"\"\n",
        "    return 1 if x >= 0 else -1\n",
        "\n",
        "def sigmoid_activation(x):\n",
        "    \"\"\"Sigmoid activation function.\"\"\"\n",
        "    return 1 / (1 + np.exp(-x))\n",
        "\n",
        "def tanh_activation(x):\n",
        "    \"\"\"TanH activation function.\"\"\"\n",
        "    return np.tanh(x)\n",
        "\n",
        "def relu_activation(x):\n",
        "    \"\"\"ReLU activation function.\"\"\"\n",
        "    return np.maximum(0, x)\n",
        "\n",
        "def leaky_relu_activation(x, alpha=0.01):\n",
        "    \"\"\"Leaky ReLU activation function.\"\"\"\n",
        "    return np.where(x > 0, x, x * alpha)\n",
        "\n",
        "def error_calculation(predicted, target):\n",
        "    \"\"\"Calculates the error between predicted and target values.\"\"\"\n",
        "    return target - predicted"
      ],
      "metadata": {
        "id": "fopH9nmRS5H3"
      },
      "execution_count": null,
      "outputs": []
    },
    {
      "cell_type": "code",
      "source": [
        "# A2: Perceptron for AND Gate\n",
        "\n",
        "def train_perceptron(weights, inputs, targets, learning_rate, epochs):\n",
        "    \"\"\"Trains a perceptron for a given number of epochs.\"\"\"\n",
        "    errors = []\n",
        "    for _ in range(epochs):\n",
        "        total_error = 0\n",
        "        for i in range(len(inputs)):\n",
        "            prediction = step_activation(summation_unit(weights[1:], inputs[i]) + weights[0])\n",
        "            error = error_calculation(prediction, targets[i])\n",
        "            weights[1:] += learning_rate * error * inputs[i]\n",
        "            weights[0] += learning_rate * error\n",
        "            total_error += error**2\n",
        "        errors.append(total_error)\n",
        "        if total_error <= 0.002:\n",
        "            break\n",
        "    return weights, errors\n",
        "\n",
        "# AND Gate Data\n",
        "inputs_and = np.array([[0, 0], [0, 1], [1, 0], [1, 1]])\n",
        "targets_and = np.array([0, 0, 0, 1])\n",
        "\n",
        "# Initial weights and learning rate\n",
        "W0, W1, w2 = 10, 0.2, -0.75\n",
        "weights_and = np.array([W0, W1, w2])\n",
        "learning_rate_and = 0.05\n",
        "\n",
        "# Train the perceptron\n",
        "trained_weights_and, errors_and = train_perceptron(weights_and, inputs_and, targets_and, learning_rate_and, 1000)\n",
        "\n",
        "print(\"--- AND Gate Perceptron ---\")\n",
        "print(f\"Trained Weights: {trained_weights_and}\")\n",
        "print(f\"Epochs to Converge: {len(errors_and)}\")"
      ],
      "metadata": {
        "colab": {
          "base_uri": "https://localhost:8080/"
        },
        "id": "lJsaA3GlTAuT",
        "outputId": "e82884b5-fd5b-43d5-d2c4-6fc967ebcc38"
      },
      "execution_count": null,
      "outputs": [
        {
          "output_type": "stream",
          "name": "stdout",
          "text": [
            "--- AND Gate Perceptron ---\n",
            "Trained Weights: [-0.1   0.1   0.05]\n",
            "Epochs to Converge: 130\n"
          ]
        }
      ]
    },
    {
      "cell_type": "code",
      "source": [
        "# A3: Experimenting with Activation Functions\n",
        "\n",
        "def train_with_activation(activation_function, initial_weights, inputs, targets, learning_rate, epochs):\n",
        "    \"\"\"Trains a perceptron with a specific activation function.\"\"\"\n",
        "    weights = np.copy(initial_weights)\n",
        "    for epoch in range(epochs):\n",
        "        total_error = 0\n",
        "        for i in range(len(inputs)):\n",
        "            prediction = activation_function(summation_unit(weights[1:], inputs[i]) + weights[0])\n",
        "            error = error_calculation(prediction, targets[i])\n",
        "            weights[1:] += learning_rate * error * inputs[i]\n",
        "            weights[0] += learning_rate * error\n",
        "            total_error += error**2\n",
        "        if total_error <= 0.002:\n",
        "            return epoch + 1\n",
        "    return epochs\n",
        "\n",
        "# Initial weights for all activation functions\n",
        "initial_weights_A3 = np.array([10, 0.2, -0.75])\n",
        "\n",
        "# Bipolar Step\n",
        "epochs_bipolar = train_with_activation(bipolar_step_activation, initial_weights_A3, inputs_and, targets_and, 0.05, 1000)\n",
        "print(f\"Epochs to converge with Bi-Polar Step: {epochs_bipolar}\")\n",
        "\n",
        "# Sigmoid\n",
        "epochs_sigmoid = train_with_activation(sigmoid_activation, initial_weights_A3, inputs_and, targets_and, 0.05, 1000)\n",
        "print(f\"Epochs to converge with Sigmoid: {epochs_sigmoid}\")\n",
        "\n",
        "# ReLU\n",
        "epochs_relu = train_with_activation(relu_activation, initial_weights_A3, inputs_and, targets_and, 0.05, 1000)\n",
        "print(f\"Epochs to converge with ReLU: {epochs_relu}\")"
      ],
      "metadata": {
        "colab": {
          "base_uri": "https://localhost:8080/"
        },
        "id": "RfAi-500TCuj",
        "outputId": "80f0ea9e-2ea0-4c1e-e3d0-c43414b2fce6"
      },
      "execution_count": null,
      "outputs": [
        {
          "output_type": "stream",
          "name": "stdout",
          "text": [
            "Epochs to converge with Bi-Polar Step: 1000\n",
            "Epochs to converge with Sigmoid: 1000\n",
            "Epochs to converge with ReLU: 390\n"
          ]
        }
      ]
    },
    {
      "cell_type": "code",
      "source": [
        "# A4: Varying Learning Rates\n",
        "\n",
        "learning_rates = [0.1, 0.2, 0.3, 0.4, 0.5, 0.6, 0.7, 0.8, 0.9, 1]\n",
        "iterations_to_converge = []\n",
        "\n",
        "for lr in learning_rates:\n",
        "    weights_a4 = np.array([10, 0.2, -0.75])\n",
        "    _, errors = train_perceptron(weights_a4, inputs_and, targets_and, lr, 1000)\n",
        "    iterations_to_converge.append(len(errors))\n",
        "\n",
        "# Plotting the results\n",
        "import matplotlib.pyplot as plt\n",
        "plt.plot(learning_rates, iterations_to_converge)\n",
        "plt.xlabel(\"Learning Rate\")\n",
        "plt.ylabel(\"Iterations to Converge\")\n",
        "plt.title(\"Learning Rate vs. Convergence Iterations for AND Gate\")\n",
        "plt.grid(True)\n",
        "plt.show()"
      ],
      "metadata": {
        "colab": {
          "base_uri": "https://localhost:8080/",
          "height": 472
        },
        "id": "veik4Rr1TGIo",
        "outputId": "c513cf5d-529d-45dd-a2dc-1acbc37e07f6"
      },
      "execution_count": null,
      "outputs": [
        {
          "output_type": "display_data",
          "data": {
            "text/plain": [
              "<Figure size 640x480 with 1 Axes>"
            ],
            "image/png": "[encoded data removed]"
          },
          "metadata": {}
        }
      ]
    },
    {
      "cell_type": "code",
      "source": [
        "# A5: Perceptron for XOR Gate\n",
        "\n",
        "# XOR Gate Data\n",
        "inputs_xor = np.array([[0, 0], [0, 1], [1, 0], [1, 1]])\n",
        "targets_xor = np.array([0, 1, 1, 0])\n",
        "\n",
        "# Initial weights and learning rate\n",
        "weights_xor = np.array([10, 0.2, -0.75])\n",
        "learning_rate_xor = 0.05\n",
        "\n",
        "# Train the perceptron for XOR\n",
        "trained_weights_xor, errors_xor = train_perceptron(weights_xor, inputs_xor, targets_xor, learning_rate_xor, 1000)\n",
        "\n",
        "print(\"\\n--- XOR Gate Perceptron ---\")\n",
        "if len(errors_xor) == 1000:\n",
        "    print(\"Perceptron did not converge for XOR gate within 1000 epochs.\")\n",
        "else:\n",
        "    print(f\"Trained Weights: {trained_weights_xor}\")\n",
        "    print(f\"Epochs to Converge: {len(errors_xor)}\")"
      ],
      "metadata": {
        "colab": {
          "base_uri": "https://localhost:8080/"
        },
        "id": "PA6tPJwuTIfi",
        "outputId": "0907121e-c121-4314-a400-a89bc6c6a4fc"
      },
      "execution_count": null,
      "outputs": [
        {
          "output_type": "stream",
          "name": "stdout",
          "text": [
            "\n",
            "--- XOR Gate Perceptron ---\n",
            "Perceptron did not converge for XOR gate within 1000 epochs.\n"
          ]
        }
      ]
    },
    {
      "cell_type": "code",
      "source": [
        "# A6: Perceptron for Custom Data\n",
        "\n",
        "# Customer Data\n",
        "customer_data = np.array([\n",
        "    [20, 6, 2, 386], [16, 3, 6, 289], [27, 6, 2, 393], [19, 1, 2, 110],\n",
        "    [24, 4, 2, 280], [22, 1, 5, 167], [15, 4, 2, 271], [18, 4, 2, 274],\n",
        "    [21, 1, 4, 148], [16, 2, 4, 198]\n",
        "])\n",
        "high_value_tx = np.array([1, 1, 1, 0, 1, 0, 1, 1, 0, 0])\n",
        "\n",
        "# Initialize weights and learning rate\n",
        "weights_customer = np.random.rand(customer_data.shape[1] + 1)\n",
        "learning_rate_customer = 0.05\n",
        "\n",
        "# Train the perceptron with sigmoid activation\n",
        "def train_customer_perceptron(weights, inputs, targets, learning_rate, epochs):\n",
        "    for epoch in range(epochs):\n",
        "        total_error = 0\n",
        "        for i in range(len(inputs)):\n",
        "            prediction = sigmoid_activation(summation_unit(weights[1:], inputs[i]) + weights[0])\n",
        "            error = error_calculation(prediction, targets[i])\n",
        "            weights[1:] += learning_rate * error * inputs[i]\n",
        "            weights[0] += learning_rate * error\n",
        "            total_error += error**2\n",
        "        if total_error <= 0.002:\n",
        "            return weights, epoch + 1\n",
        "    return weights, epochs\n",
        "\n",
        "trained_weights_customer, epochs_customer = train_customer_perceptron(\n",
        "    weights_customer, customer_data, high_value_tx, learning_rate_customer, 1000\n",
        ")\n",
        "\n",
        "print(\"\\n--- Customer Data Perceptron ---\")\n",
        "print(f\"Trained Weights: {trained_weights_customer}\")\n",
        "print(f\"Epochs to Converge: {epochs_customer}\")"
      ],
      "metadata": {
        "colab": {
          "base_uri": "https://localhost:8080/"
        },
        "id": "TezU4OJETVZq",
        "outputId": "0eeb02f3-b79f-4d09-db57-c73eedcca452"
      },
      "execution_count": null,
      "outputs": [
        {
          "output_type": "stream",
          "name": "stdout",
          "text": [
            "\n",
            "--- Customer Data Perceptron ---\n",
            "Trained Weights: [ -14.3429168  -237.40020838   32.02655441  -82.2196669    20.51761553]\n",
            "Epochs to Converge: 322\n"
          ]
        },
        {
          "output_type": "stream",
          "name": "stderr",
          "text": [
            "/tmp/ipython-input-3241667168.py:19: RuntimeWarning: overflow encountered in exp\n",
            "  return 1 / (1 + np.exp(-x))\n"
          ]
        }
      ]
    },
    {
      "cell_type": "code",
      "source": [
        "# A7: Comparison with Matrix Pseudo-Inverse\n",
        "\n",
        "# Add a bias term to the AND gate inputs\n",
        "X_and = np.c_[np.ones(inputs_and.shape[0]), inputs_and]\n",
        "\n",
        "# Calculate weights using pseudo-inverse\n",
        "pseudo_inverse_weights_and = np.linalg.pinv(X_and).dot(targets_and)\n",
        "\n",
        "print(\"\\n--- Matrix Pseudo-Inverse for AND Gate ---\")\n",
        "print(f\"Weights from Pseudo-Inverse: {pseudo_inverse_weights_and}\")\n",
        "print(f\"Weights from Perceptron Learning: {trained_weights_and}\")"
      ],
      "metadata": {
        "colab": {
          "base_uri": "https://localhost:8080/"
        },
        "id": "4mgl2kg8TX2K",
        "outputId": "b8a417be-3d46-44e1-f2fc-f8171548a282"
      },
      "execution_count": null,
      "outputs": [
        {
          "output_type": "stream",
          "name": "stdout",
          "text": [
            "\n",
            "--- Matrix Pseudo-Inverse for AND Gate ---\n",
            "Weights from Pseudo-Inverse: [-0.25  0.5   0.5 ]\n",
            "Weights from Perceptron Learning: [-0.1   0.1   0.05]\n"
          ]
        }
      ]
    },
    {
      "cell_type": "code",
      "source": [
        "# A8: Backpropagation for AND Gate\n",
        "\n",
        "# Neural network parameters\n",
        "input_size, hidden_size, output_size = 2, 2, 1\n",
        "learning_rate_bp = 0.05\n",
        "\n",
        "# Initialize weights\n",
        "W1_bp = np.random.randn(input_size, hidden_size)\n",
        "W2_bp = np.random.randn(hidden_size, output_size)\n",
        "\n",
        "for epoch in range(1000):\n",
        "    # Forward pass\n",
        "    hidden_layer_input = np.dot(inputs_and, W1_bp)\n",
        "    hidden_layer_output = sigmoid_activation(hidden_layer_input)\n",
        "    output_layer_input = np.dot(hidden_layer_output, W2_bp)\n",
        "    predicted_output = sigmoid_activation(output_layer_input)\n",
        "\n",
        "    # Error calculation\n",
        "    error = targets_and.reshape(-1, 1) - predicted_output\n",
        "    if np.sum(error**2) <= 0.002:\n",
        "        print(f\"\\nBackpropagation converged at epoch {epoch + 1}\")\n",
        "        break\n",
        "\n",
        "    # Backpropagation\n",
        "    d_predicted_output = error * (predicted_output * (1 - predicted_output))\n",
        "    error_hidden_layer = d_predicted_output.dot(W2_bp.T)\n",
        "    d_hidden_layer = error_hidden_layer * (hidden_layer_output * (1 - hidden_layer_output))\n",
        "\n",
        "    # Update weights\n",
        "    W2_bp += hidden_layer_output.T.dot(d_predicted_output) * learning_rate_bp\n",
        "    W1_bp += inputs_and.T.dot(d_hidden_layer) * learning_rate_bp\n",
        "\n",
        "print(\"\\n--- Backpropagation for AND Gate ---\")\n",
        "print(\"Final Weights (Input to Hidden):\")\n",
        "print(W1_bp)\n",
        "print(\"\\nFinal Weights (Hidden to Output):\")\n",
        "print(W2_bp)"
      ],
      "metadata": {
        "colab": {
          "base_uri": "https://localhost:8080/"
        },
        "id": "iiAjIwcXTbYd",
        "outputId": "2782e8d0-e661-4d94-89ee-fa8c40f5b32c"
      },
      "execution_count": null,
      "outputs": [
        {
          "output_type": "stream",
          "name": "stdout",
          "text": [
            "\n",
            "--- Backpropagation for AND Gate ---\n",
            "Final Weights (Input to Hidden):\n",
            "[[-1.11451094  0.10487726]\n",
            " [-1.17940215 -0.37479401]]\n",
            "\n",
            "Final Weights (Hidden to Output):\n",
            "[[-3.35285235]\n",
            " [-0.24427626]]\n"
          ]
        }
      ]
    },
    {
      "cell_type": "code",
      "source": [
        "import numpy as np\n",
        "import matplotlib.pyplot as plt\n",
        "\n",
        "# --- Functions from A1 (for completeness) ---\n",
        "def summation_unit(weights, inputs):\n",
        "    \"\"\"Calculates the weighted sum of inputs.\"\"\"\n",
        "    # Note: This handles the bias term (weights[0]) separately in the training function\n",
        "    return np.dot(weights, inputs)\n",
        "\n",
        "def step_activation(x):\n",
        "    \"\"\"Step activation function.\"\"\"\n",
        "    return 1 if x >= 0 else 0\n",
        "\n",
        "def bipolar_step_activation(x):\n",
        "    \"\"\"Bipolar step activation function.\"\"\"\n",
        "    return 1 if x >= 0 else -1\n",
        "\n",
        "def sigmoid_activation(x):\n",
        "    \"\"\"Sigmoid activation function.\"\"\"\n",
        "    return 1 / (1 + np.exp(-x))\n",
        "\n",
        "def relu_activation(x):\n",
        "    \"\"\"ReLU activation function.\"\"\"\n",
        "    return np.maximum(0, x)\n",
        "\n",
        "def error_calculation(predicted, target):\n",
        "    \"\"\"Calculates the error between predicted and target values.\"\"\"\n",
        "    return target - predicted\n",
        "\n",
        "# --- Training Function for a single-output Perceptron ---\n",
        "def train_with_activation(activation_function, initial_weights, inputs, targets, learning_rate, epochs):\n",
        "    \"\"\"\n",
        "    Trains a perceptron with a specific activation function.\n",
        "    Returns the number of epochs taken to converge, or the max epochs if it fails.\n",
        "    \"\"\"\n",
        "    weights = np.copy(initial_weights)\n",
        "    for epoch in range(epochs):\n",
        "        total_error = 0\n",
        "        for i in range(len(inputs)):\n",
        "            # Calculate net input including bias w0\n",
        "            net_input = summation_unit(weights[1:], inputs[i]) + weights[0]\n",
        "            prediction = activation_function(net_input)\n",
        "            error = error_calculation(prediction, targets[i])\n",
        "\n",
        "            # Update weights\n",
        "            weights[1:] += learning_rate * error * inputs[i]\n",
        "            weights[0] += learning_rate * error # Update bias weight\n",
        "            total_error += error**2\n",
        "\n",
        "        # Check for convergence\n",
        "        if total_error <= 0.002:\n",
        "            return epoch + 1\n",
        "\n",
        "    return epochs # Return max epochs if convergence is not met\n",
        "\n",
        "# --- A9: Experiment for XOR Gate ---\n",
        "\n",
        "# XOR Gate Data\n",
        "inputs_xor = np.array([[0, 0], [0, 1], [1, 0], [1, 1]])\n",
        "targets_xor = np.array([0, 1, 1, 0])\n",
        "\n",
        "# Initial weights and learning rate (same as A2/A3)\n",
        "initial_weights = np.array([10.0, 0.2, -0.75])\n",
        "learning_rate = 0.05\n",
        "max_epochs = 1000\n",
        "\n",
        "print(\"--- A9: Testing Perceptron on XOR Gate ---\")\n",
        "\n",
        "# 1. Step Activation\n",
        "epochs_step_xor = train_with_activation(step_activation, initial_weights, inputs_xor, targets_xor, learning_rate, max_epochs)\n",
        "print(f\"Epochs to converge with Step function: {epochs_step_xor} (Did not converge)\")\n",
        "\n",
        "# 2. Bi-Polar Step Activation\n",
        "epochs_bipolar_xor = train_with_activation(bipolar_step_activation, initial_weights, inputs_xor, targets_xor, learning_rate, max_epochs)\n",
        "print(f\"Epochs to converge with Bi-Polar Step function: {epochs_bipolar_xor} (Did not converge)\")\n",
        "\n",
        "# 3. Sigmoid Activation\n",
        "epochs_sigmoid_xor = train_with_activation(sigmoid_activation, initial_weights, inputs_xor, targets_xor, learning_rate, max_epochs)\n",
        "print(f\"Epochs to converge with Sigmoid function: {epochs_sigmoid_xor} (Did not converge)\")\n",
        "\n",
        "# 4. ReLU Activation\n",
        "epochs_relu_xor = train_with_activation(relu_activation, initial_weights, inputs_xor, targets_xor, learning_rate, max_epochs)\n",
        "print(f\"Epochs to converge with ReLU function: {epochs_relu_xor} (Did not converge)\")"
      ],
      "metadata": {
        "colab": {
          "base_uri": "https://localhost:8080/"
        },
        "id": "u2G3vuOEUHtP",
        "outputId": "65cc1db4-08b8-4f1d-ba6e-73727e9a7311"
      },
      "execution_count": null,
      "outputs": [
        {
          "output_type": "stream",
          "name": "stdout",
          "text": [
            "--- A9: Testing Perceptron on XOR Gate ---\n",
            "Epochs to converge with Step function: 1000 (Did not converge)\n",
            "Epochs to converge with Bi-Polar Step function: 1000 (Did not converge)\n",
            "Epochs to converge with Sigmoid function: 1000 (Did not converge)\n",
            "Epochs to converge with ReLU function: 1000 (Did not converge)\n"
          ]
        }
      ]
    },
    {
      "cell_type": "code",
      "source": [
        "# --- A10: Perceptron with 2 Output Nodes for AND Gate ---\n",
        "\n",
        "# AND Gate Inputs\n",
        "inputs_and = np.array([[0, 0], [0, 1], [1, 0], [1, 1]])\n",
        "# New target mapping for 2 outputs: 0 -> [1,0], 1 -> [0,1]\n",
        "targets_and_2_output = np.array([[1, 0], [1, 0], [1, 0], [0, 1]])\n",
        "\n",
        "def train_perceptron_2_output(initial_weights_matrix, inputs, targets, learning_rate, epochs):\n",
        "    \"\"\"\n",
        "    Trains a perceptron with multiple output nodes.\n",
        "    The step_activation is applied element-wise.\n",
        "    \"\"\"\n",
        "    weights = np.copy(initial_weights_matrix)\n",
        "    errors_per_epoch = []\n",
        "\n",
        "    # Add bias input of 1 to the input data\n",
        "    X = np.c_[np.ones(inputs.shape[0]), inputs]\n",
        "\n",
        "    for epoch in range(epochs):\n",
        "        sum_squared_error = 0\n",
        "        for i in range(len(X)):\n",
        "            # Calculate net input for both output neurons\n",
        "            net_input = np.dot(X[i], weights)\n",
        "\n",
        "            # Apply activation function element-wise\n",
        "            predictions = np.array([step_activation(n) for n in net_input])\n",
        "\n",
        "            # Calculate the error vector\n",
        "            error_vector = targets[i] - predictions\n",
        "\n",
        "            # Update the weight matrix\n",
        "            # np.outer creates the update matrix needed\n",
        "            weights += learning_rate * np.outer(X[i], error_vector)\n",
        "\n",
        "            # Add the sum of squared errors for this sample\n",
        "            sum_squared_error += np.sum(error_vector**2)\n",
        "\n",
        "        errors_per_epoch.append(sum_squared_error)\n",
        "\n",
        "        # Check for convergence\n",
        "        if sum_squared_error <= 0.002:\n",
        "            return weights, errors_per_epoch\n",
        "\n",
        "    return weights, errors_per_epoch\n",
        "\n",
        "# Initial parameters\n",
        "learning_rate_A10 = 0.05\n",
        "max_epochs_A10 = 1000\n",
        "\n",
        "# We need a 3x2 weight matrix: (2 inputs + 1 bias) x (2 outputs)\n",
        "# Initialize with values similar to A2\n",
        "initial_weights_A10 = np.array([\n",
        "    [10.0, -10.0],  # Bias weights for O1 and O2\n",
        "    [0.2, -0.2],   # Input A weights for O1 and O2\n",
        "    [-0.75, 0.75]  # Input B weights for O1 and O2\n",
        "])\n",
        "\n",
        "# Train the 2-output perceptron\n",
        "trained_weights_A10, errors_A10 = train_perceptron_2_output(\n",
        "    initial_weights_A10, inputs_and, targets_and_2_output, learning_rate_A10, max_epochs_A10\n",
        ")\n",
        "\n",
        "print(\"\\n--- A10: AND Gate Perceptron with 2 Output Nodes ---\")\n",
        "print(f\"Converged in {len(errors_A10)} epochs.\")\n",
        "print(\"\\nFinal Trained Weight Matrix:\")\n",
        "print(trained_weights_A10)\n",
        "\n",
        "# Plot the error convergence\n",
        "plt.figure()\n",
        "plt.plot(range(1, len(errors_A10) + 1), errors_A10)\n",
        "plt.xlabel(\"Epoch\")\n",
        "plt.ylabel(\"Sum-Squared Error\")\n",
        "plt.title(\"Error Convergence for 2-Output AND Gate\")\n",
        "plt.grid(True)\n",
        "plt.show()"
      ],
      "metadata": {
        "colab": {
          "base_uri": "https://localhost:8080/",
          "height": 611
        },
        "id": "osRxnTDWTdfY",
        "outputId": "f31e5d35-77e4-4d0c-9b0f-4f5c7b52fc72"
      },
      "execution_count": null,
      "outputs": [
        {
          "output_type": "stream",
          "name": "stdout",
          "text": [
            "\n",
            "--- A10: AND Gate Perceptron with 2 Output Nodes ---\n",
            "Converged in 64 epochs.\n",
            "\n",
            "Final Trained Weight Matrix:\n",
            "[[ 6.85 -6.85]\n",
            " [-2.95  2.95]\n",
            " [-3.9   3.9 ]]\n"
          ]
        },
        {
          "output_type": "display_data",
          "data": {
            "text/plain": [
              "<Figure size 640x480 with 1 Axes>"
            ],
            "image/png": "[encoded data removed]"
          },
          "metadata": {}
        }
      ]
    },
    {
      "cell_type": "code",
      "source": [
        "from sklearn.neural_network import MLPClassifier\n",
        "\n",
        "# A11: MLPClassifier for AND and XOR Gates\n",
        "\n",
        "# AND Gate\n",
        "mlp_and = MLPClassifier(hidden_layer_sizes=(2,), activation='logistic', solver='sgd', learning_rate_init=0.05, max_iter=1000)\n",
        "mlp_and.fit(inputs_and, targets_and)\n",
        "print(\"\\n--- MLPClassifier for AND Gate ---\")\n",
        "print(f\"Predictions: {mlp_and.predict(inputs_and)}\")\n",
        "print(f\"Score: {mlp_and.score(inputs_and, targets_and)}\")\n",
        "\n",
        "\n",
        "# XOR Gate\n",
        "mlp_xor = MLPClassifier(hidden_layer_sizes=(2,), activation='logistic', solver='sgd', learning_rate_init=0.05, max_iter=1000)\n",
        "mlp_xor.fit(inputs_xor, targets_xor)\n",
        "print(\"\\n--- MLPClassifier for XOR Gate ---\")\n",
        "print(f\"Predictions: {mlp_xor.predict(inputs_xor)}\")\n",
        "print(f\"Score: {mlp_xor.score(inputs_xor, targets_xor)}\")"
      ],
      "metadata": {
        "colab": {
          "base_uri": "https://localhost:8080/"
        },
        "id": "Rgc424GrUIiW",
        "outputId": "e3501c70-f1de-44a1-82ee-6cd1d9790ed7"
      },
      "execution_count": null,
      "outputs": [
        {
          "output_type": "stream",
          "name": "stdout",
          "text": [
            "\n",
            "--- MLPClassifier for AND Gate ---\n",
            "Predictions: [0 0 0 0]\n",
            "Score: 0.75\n",
            "\n",
            "--- MLPClassifier for XOR Gate ---\n",
            "Predictions: [1 1 1 1]\n",
            "Score: 0.5\n"
          ]
        }
      ]
    },
    {
      "cell_type": "code",
      "source": [
        "from sklearn.model_selection import train_test_split\n",
        "from sklearn.preprocessing import StandardScaler\n",
        "\n",
        "# A12: Using MLPClassifier on Your Project Dataset\n",
        "\n",
        "# Assuming X and y are loaded from your k-mer analysis\n",
        "\n",
        "if X.shape[0] > 0:\n",
        "    scaler = StandardScaler()\n",
        "    X_scaled = scaler.fit_transform(X)\n",
        "\n",
        "    X_train, X_test, y_train, y_test = train_test_split(X_scaled, y, test_size=0.2, random_state=42)\n",
        "\n",
        "    mlp_project = MLPClassifier(hidden_layer_sizes=(100,), max_iter=1000, random_state=42)\n",
        "    mlp_project.fit(X_train, y_train)\n",
        "\n",
        "    print(\"\\n--- MLPClassifier on Your Project Dataset ---\")\n",
        "    print(f\"Model Accuracy: {mlp_project.score(X_test, y_test)}\")\n",
        "else:\n",
        "    print(\"\\n--- MLPClassifier on Your Project Dataset ---\")\n",
        "    print(\"No data loaded (X is empty). Cannot train the model.\")"
      ],
      "metadata": {
        "colab": {
          "base_uri": "https://localhost:8080/"
        },
        "id": "w3NY1nlKUUXY",
        "outputId": "f143f10d-0daa-4416-994e-589de994be66"
      },
      "execution_count": null,
      "outputs": [
        {
          "output_type": "stream",
          "name": "stdout",
          "text": [
            "\n",
            "--- MLPClassifier on Your Project Dataset ---\n",
            "Model Accuracy: 0.9892253931275481\n"
          ]
        }
      ]
    },
    {
      "cell_type": "code",
      "source": [],
      "metadata": {
        "id": "8bCa1RwQUWKM"
      },
      "execution_count": null,
      "outputs": []
    }
  ]
}