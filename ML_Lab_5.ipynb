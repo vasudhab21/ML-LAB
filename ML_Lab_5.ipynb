{
  "nbformat": 4,
  "nbformat_minor": 0,
  "metadata": {
    "colab": {
      "provenance": [],
      "authorship_tag": "ABX9TyPwJ6DzgYmOgB1txRnGX0ZO",
      "include_colab_link": true
    },
    "kernelspec": {
      "name": "python3",
      "display_name": "Python 3"
    },
    "language_info": {
      "name": "python"
    }
  },
  "cells": [
    {
      "cell_type": "markdown",
      "metadata": {
        "id": "view-in-github",
        "colab_type": "text"
      },
      "source": [
        "<a href=\"https://colab.research.google.com/github/vasudhab21/ML-LAB/blob/main/ML_Lab_5.ipynb\" target=\"_parent\"><img src=\"https://colab.research.google.com/assets/colab-badge.svg\" alt=\"Open In Colab\"/></a>"
      ]
    },
    {
      "cell_type": "code",
      "execution_count": null,
      "metadata": {
        "colab": {
          "base_uri": "https://localhost:8080/"
        },
        "id": "RQbXDjSvraVZ",
        "outputId": "05b149a7-cbdc-4b42-b940-39e511bf4757"
      },
      "outputs": [
        {
          "output_type": "stream",
          "name": "stdout",
          "text": [
            "Mounted at /content/gdrive\n"
          ]
        }
      ],
      "source": [
        "from google.colab import drive\n",
        "drive.mount('/content/gdrive')\n"
      ]
    },
    {
      "cell_type": "code",
      "source": [
        "from google.colab import drive\n",
        "import os\n",
        "import gzip\n",
        "import shutil\n",
        "\n",
        "# Step 1: Mount Google Drive\n",
        "drive.mount('/content/gdrive')\n",
        "\n",
        "# Step 2: Define your data folder path\n",
        "data_folder = '/content/gdrive/MyDrive/GenomeDetector/data/natural2'\n",
        "\n",
        "# Step 3: List all .fna.gz files in the folder\n",
        "gz_files = [os.path.join(data_folder, f) for f in os.listdir(data_folder) if f.endswith('.fna.gz')]\n",
        "print(f\"Found {len(gz_files)} compressed files.\")\n",
        "\n",
        "# Step 4: Decompress each .fna.gz to .fasta (keep original .gz files)\n",
        "for gz_file in gz_files:\n",
        "    fasta_file = gz_file[:-3]  # Remove .gz extension\n",
        "    with gzip.open(gz_file, 'rb') as f_in:\n",
        "        with open(fasta_file, 'wb') as f_out:\n",
        "            shutil.copyfileobj(f_in, f_out)\n",
        "    print(f\"Decompressed {gz_file} to {fasta_file}\")\n"
      ],
      "metadata": {
        "colab": {
          "base_uri": "https://localhost:8080/"
        },
        "id": "X4LysF1RsvAp",
        "outputId": "6dbe65f0-57f5-48b8-a2c9-8100d8a7d0c2"
      },
      "execution_count": null,
      "outputs": [
        {
          "output_type": "stream",
          "name": "stdout",
          "text": [
            "Drive already mounted at /content/gdrive; to attempt to forcibly remount, call drive.mount(\"/content/gdrive\", force_remount=True).\n",
            "Found 205 compressed files.\n",
            "Decompressed /content/gdrive/MyDrive/GenomeDetector/data/natural2/viral_GCF_000839185.1_ViralProj14174_genomic.fna.gz to /content/gdrive/MyDrive/GenomeDetector/data/natural2/viral_GCF_000839185.1_ViralProj14174_genomic.fna\n",
            "Decompressed /content/gdrive/MyDrive/GenomeDetector/data/natural2/viral_GCF_000857045.1_ViralProj15142_genomic.fna.gz to /content/gdrive/MyDrive/GenomeDetector/data/natural2/viral_GCF_000857045.1_ViralProj15142_genomic.fna\n",
            "Decompressed /content/gdrive/MyDrive/GenomeDetector/data/natural2/viral_GCF_014621545.1_ASM1462154v1_genomic.fna.gz to /content/gdrive/MyDrive/GenomeDetector/data/natural2/viral_GCF_014621545.1_ASM1462154v1_genomic.fna\n",
            "Decompressed /content/gdrive/MyDrive/GenomeDetector/data/natural2/viral_GCF_000860085.1_ViralProj15241_genomic.fna.gz to /content/gdrive/MyDrive/GenomeDetector/data/natural2/viral_GCF_000860085.1_ViralProj15241_genomic.fna\n",
            "Decompressed /content/gdrive/MyDrive/GenomeDetector/data/natural2/viral_GCF_000859885.1_ViralProj15197_genomic.fna.gz to /content/gdrive/MyDrive/GenomeDetector/data/natural2/viral_GCF_000859885.1_ViralProj15197_genomic.fna\n",
            "Decompressed /content/gdrive/MyDrive/GenomeDetector/data/natural2/bacteria_GCF_948107705.1_Me_Buchnera_MW16-67_genomic.fna.gz to /content/gdrive/MyDrive/GenomeDetector/data/natural2/bacteria_GCF_948107705.1_Me_Buchnera_MW16-67_genomic.fna\n",
            "Decompressed /content/gdrive/MyDrive/GenomeDetector/data/natural2/bacteria_GCF_008244535.1_ASM824453v1_genomic.fna.gz to /content/gdrive/MyDrive/GenomeDetector/data/natural2/bacteria_GCF_008244535.1_ASM824453v1_genomic.fna\n",
            "Decompressed /content/gdrive/MyDrive/GenomeDetector/data/natural2/bacteria_GCF_003854875.1_ASM385487v1_genomic.fna.gz to /content/gdrive/MyDrive/GenomeDetector/data/natural2/bacteria_GCF_003854875.1_ASM385487v1_genomic.fna\n",
            "Decompressed /content/gdrive/MyDrive/GenomeDetector/data/natural2/bacteria_GCF_001735525.1_ASM173552v1_genomic.fna.gz to /content/gdrive/MyDrive/GenomeDetector/data/natural2/bacteria_GCF_001735525.1_ASM173552v1_genomic.fna\n",
            "Decompressed /content/gdrive/MyDrive/GenomeDetector/data/natural2/bacteria_GCF_019654935.1_ASM1965493v1_genomic.fna.gz to /content/gdrive/MyDrive/GenomeDetector/data/natural2/bacteria_GCF_019654935.1_ASM1965493v1_genomic.fna\n",
            "Decompressed /content/gdrive/MyDrive/GenomeDetector/data/natural2/bacteria_GCF_019655395.1_ASM1965539v1_genomic.fna.gz to /content/gdrive/MyDrive/GenomeDetector/data/natural2/bacteria_GCF_019655395.1_ASM1965539v1_genomic.fna\n",
            "Decompressed /content/gdrive/MyDrive/GenomeDetector/data/natural2/bacteria_GCF_027213865.1_ASM2721386v1_genomic.fna.gz to /content/gdrive/MyDrive/GenomeDetector/data/natural2/bacteria_GCF_027213865.1_ASM2721386v1_genomic.fna\n",
            "Decompressed /content/gdrive/MyDrive/GenomeDetector/data/natural2/bacteria_GCF_033719835.1_ASM3371983v1_genomic.fna.gz to /content/gdrive/MyDrive/GenomeDetector/data/natural2/bacteria_GCF_033719835.1_ASM3371983v1_genomic.fna\n",
            "Decompressed /content/gdrive/MyDrive/GenomeDetector/data/natural2/bacteria_GCF_043422435.1_ASM4342243v1_genomic.fna.gz to /content/gdrive/MyDrive/GenomeDetector/data/natural2/bacteria_GCF_043422435.1_ASM4342243v1_genomic.fna\n",
            "Decompressed /content/gdrive/MyDrive/GenomeDetector/data/natural2/bacteria_GCF_043643785.1_ASM4364378v1_genomic.fna.gz to /content/gdrive/MyDrive/GenomeDetector/data/natural2/bacteria_GCF_043643785.1_ASM4364378v1_genomic.fna\n",
            "Decompressed /content/gdrive/MyDrive/GenomeDetector/data/natural2/bacteria_GCF_050269655.1_ASM5026965v1_genomic.fna.gz to /content/gdrive/MyDrive/GenomeDetector/data/natural2/bacteria_GCF_050269655.1_ASM5026965v1_genomic.fna\n",
            "Decompressed /content/gdrive/MyDrive/GenomeDetector/data/natural2/bacteria_GCF_003044255.1_ASM304425v1_genomic.fna.gz to /content/gdrive/MyDrive/GenomeDetector/data/natural2/bacteria_GCF_003044255.1_ASM304425v1_genomic.fna\n",
            "Decompressed /content/gdrive/MyDrive/GenomeDetector/data/natural2/bacteria_GCF_009730575.1_ASM973057v1_genomic.fna.gz to /content/gdrive/MyDrive/GenomeDetector/data/natural2/bacteria_GCF_009730575.1_ASM973057v1_genomic.fna\n",
            "Decompressed /content/gdrive/MyDrive/GenomeDetector/data/natural2/bacteria_GCF_014647555.1_ASM1464755v1_genomic.fna.gz to /content/gdrive/MyDrive/GenomeDetector/data/natural2/bacteria_GCF_014647555.1_ASM1464755v1_genomic.fna\n",
            "Decompressed /content/gdrive/MyDrive/GenomeDetector/data/natural2/bacteria_GCF_016406305.1_ASM1640630v1_genomic.fna.gz to /content/gdrive/MyDrive/GenomeDetector/data/natural2/bacteria_GCF_016406305.1_ASM1640630v1_genomic.fna\n",
            "Decompressed /content/gdrive/MyDrive/GenomeDetector/data/natural2/bacteria_GCF_016406325.1_ASM1640632v1_genomic.fna.gz to /content/gdrive/MyDrive/GenomeDetector/data/natural2/bacteria_GCF_016406325.1_ASM1640632v1_genomic.fna\n",
            "Decompressed /content/gdrive/MyDrive/GenomeDetector/data/natural2/bacteria_GCF_017068195.1_ASM1706819v1_genomic.fna.gz to /content/gdrive/MyDrive/GenomeDetector/data/natural2/bacteria_GCF_017068195.1_ASM1706819v1_genomic.fna\n",
            "Decompressed /content/gdrive/MyDrive/GenomeDetector/data/natural2/bacteria_GCF_019599125.1_ASM1959912v1_genomic.fna.gz to /content/gdrive/MyDrive/GenomeDetector/data/natural2/bacteria_GCF_019599125.1_ASM1959912v1_genomic.fna\n",
            "Decompressed /content/gdrive/MyDrive/GenomeDetector/data/natural2/bacteria_GCF_020216695.1_ASM2021669v1_genomic.fna.gz to /content/gdrive/MyDrive/GenomeDetector/data/natural2/bacteria_GCF_020216695.1_ASM2021669v1_genomic.fna\n",
            "Decompressed /content/gdrive/MyDrive/GenomeDetector/data/natural2/bacteria_GCF_025397935.1_ASM2539793v1_genomic.fna.gz to /content/gdrive/MyDrive/GenomeDetector/data/natural2/bacteria_GCF_025397935.1_ASM2539793v1_genomic.fna\n",
            "Decompressed /content/gdrive/MyDrive/GenomeDetector/data/natural2/bacteria_GCF_025402875.1_ASM2540287v1_genomic.fna.gz to /content/gdrive/MyDrive/GenomeDetector/data/natural2/bacteria_GCF_025402875.1_ASM2540287v1_genomic.fna\n",
            "Decompressed /content/gdrive/MyDrive/GenomeDetector/data/natural2/bacteria_GCF_031456735.1_ASM3145673v1_genomic.fna.gz to /content/gdrive/MyDrive/GenomeDetector/data/natural2/bacteria_GCF_031456735.1_ASM3145673v1_genomic.fna\n",
            "Decompressed /content/gdrive/MyDrive/GenomeDetector/data/natural2/bacteria_GCF_041553495.1_ASM4155349v1_genomic.fna.gz to /content/gdrive/MyDrive/GenomeDetector/data/natural2/bacteria_GCF_041553495.1_ASM4155349v1_genomic.fna\n",
            "Decompressed /content/gdrive/MyDrive/GenomeDetector/data/natural2/bacteria_GCF_050848575.1_ASM5084857v1_genomic.fna.gz to /content/gdrive/MyDrive/GenomeDetector/data/natural2/bacteria_GCF_050848575.1_ASM5084857v1_genomic.fna\n",
            "Decompressed /content/gdrive/MyDrive/GenomeDetector/data/natural2/bacteria_GCF_900457065.1_57675_D02_genomic.fna.gz to /content/gdrive/MyDrive/GenomeDetector/data/natural2/bacteria_GCF_900457065.1_57675_D02_genomic.fna\n",
            "Decompressed /content/gdrive/MyDrive/GenomeDetector/data/natural2/bacteria_GCF_007197645.1_ASM719764v1_genomic.fna.gz to /content/gdrive/MyDrive/GenomeDetector/data/natural2/bacteria_GCF_007197645.1_ASM719764v1_genomic.fna\n",
            "Decompressed /content/gdrive/MyDrive/GenomeDetector/data/natural2/bacteria_GCF_014647575.1_ASM1464757v1_genomic.fna.gz to /content/gdrive/MyDrive/GenomeDetector/data/natural2/bacteria_GCF_014647575.1_ASM1464757v1_genomic.fna\n",
            "Decompressed /content/gdrive/MyDrive/GenomeDetector/data/natural2/bacteria_GCF_007991095.1_ASM799109v1_genomic.fna.gz to /content/gdrive/MyDrive/GenomeDetector/data/natural2/bacteria_GCF_007991095.1_ASM799109v1_genomic.fna\n",
            "Decompressed /content/gdrive/MyDrive/GenomeDetector/data/natural2/bacteria_GCF_023195975.1_ASM2319597v1_genomic.fna.gz to /content/gdrive/MyDrive/GenomeDetector/data/natural2/bacteria_GCF_023195975.1_ASM2319597v1_genomic.fna\n",
            "Decompressed /content/gdrive/MyDrive/GenomeDetector/data/natural2/bacteria_GCF_046058965.1_ASM4605896v1_genomic.fna.gz to /content/gdrive/MyDrive/GenomeDetector/data/natural2/bacteria_GCF_046058965.1_ASM4605896v1_genomic.fna\n",
            "Decompressed /content/gdrive/MyDrive/GenomeDetector/data/natural2/bacteria_GCF_049192125.1_ASM4919212v1_genomic.fna.gz to /content/gdrive/MyDrive/GenomeDetector/data/natural2/bacteria_GCF_049192125.1_ASM4919212v1_genomic.fna\n",
            "Decompressed /content/gdrive/MyDrive/GenomeDetector/data/natural2/bacteria_GCF_900111765.1_IMG-taxon_2693429886_annotated_assembly_genomic.fna.gz to /content/gdrive/MyDrive/GenomeDetector/data/natural2/bacteria_GCF_900111765.1_IMG-taxon_2693429886_annotated_assembly_genomic.fna\n",
            "Decompressed /content/gdrive/MyDrive/GenomeDetector/data/natural2/bacteria_GCF_036600915.1_ASM3660091v1_genomic.fna.gz to /content/gdrive/MyDrive/GenomeDetector/data/natural2/bacteria_GCF_036600915.1_ASM3660091v1_genomic.fna\n",
            "Decompressed /content/gdrive/MyDrive/GenomeDetector/data/natural2/bacteria_GCF_036600855.1_ASM3660085v1_genomic.fna.gz to /content/gdrive/MyDrive/GenomeDetector/data/natural2/bacteria_GCF_036600855.1_ASM3660085v1_genomic.fna\n",
            "Decompressed /content/gdrive/MyDrive/GenomeDetector/data/natural2/bacteria_GCF_036600875.1_ASM3660087v1_genomic.fna.gz to /content/gdrive/MyDrive/GenomeDetector/data/natural2/bacteria_GCF_036600875.1_ASM3660087v1_genomic.fna\n",
            "Decompressed /content/gdrive/MyDrive/GenomeDetector/data/natural2/bacteria_GCF_036600895.1_ASM3660089v1_genomic.fna.gz to /content/gdrive/MyDrive/GenomeDetector/data/natural2/bacteria_GCF_036600895.1_ASM3660089v1_genomic.fna\n",
            "Decompressed /content/gdrive/MyDrive/GenomeDetector/data/natural2/bacteria_GCF_900128725.1_BCifornacula_v1.0_genomic.fna.gz to /content/gdrive/MyDrive/GenomeDetector/data/natural2/bacteria_GCF_900128725.1_BCifornacula_v1.0_genomic.fna\n",
            "Decompressed /content/gdrive/MyDrive/GenomeDetector/data/natural2/bacteria_GCF_006400955.1_ASM640095v1_genomic.fna.gz to /content/gdrive/MyDrive/GenomeDetector/data/natural2/bacteria_GCF_006400955.1_ASM640095v1_genomic.fna\n",
            "Decompressed /content/gdrive/MyDrive/GenomeDetector/data/natural2/bacteria_GCF_006401215.1_ASM640121v1_genomic.fna.gz to /content/gdrive/MyDrive/GenomeDetector/data/natural2/bacteria_GCF_006401215.1_ASM640121v1_genomic.fna\n",
            "Decompressed /content/gdrive/MyDrive/GenomeDetector/data/natural2/bacteria_GCF_006401635.1_ASM640163v1_genomic.fna.gz to /content/gdrive/MyDrive/GenomeDetector/data/natural2/bacteria_GCF_006401635.1_ASM640163v1_genomic.fna\n",
            "Decompressed /content/gdrive/MyDrive/GenomeDetector/data/natural2/bacteria_GCF_006402015.1_ASM640201v1_genomic.fna.gz to /content/gdrive/MyDrive/GenomeDetector/data/natural2/bacteria_GCF_006402015.1_ASM640201v1_genomic.fna\n",
            "Decompressed /content/gdrive/MyDrive/GenomeDetector/data/natural2/bacteria_GCF_006402415.1_ASM640241v1_genomic.fna.gz to /content/gdrive/MyDrive/GenomeDetector/data/natural2/bacteria_GCF_006402415.1_ASM640241v1_genomic.fna\n",
            "Decompressed /content/gdrive/MyDrive/GenomeDetector/data/natural2/bacteria_GCF_006402735.1_ASM640273v1_genomic.fna.gz to /content/gdrive/MyDrive/GenomeDetector/data/natural2/bacteria_GCF_006402735.1_ASM640273v1_genomic.fna\n",
            "Decompressed /content/gdrive/MyDrive/GenomeDetector/data/natural2/bacteria_GCF_013116805.1_ASM1311680v1_genomic.fna.gz to /content/gdrive/MyDrive/GenomeDetector/data/natural2/bacteria_GCF_013116805.1_ASM1311680v1_genomic.fna\n",
            "Decompressed /content/gdrive/MyDrive/GenomeDetector/data/natural2/bacteria_GCF_013116825.1_ASM1311682v1_genomic.fna.gz to /content/gdrive/MyDrive/GenomeDetector/data/natural2/bacteria_GCF_013116825.1_ASM1311682v1_genomic.fna\n",
            "Decompressed /content/gdrive/MyDrive/GenomeDetector/data/natural2/bacteria_GCF_013116835.1_ASM1311683v1_genomic.fna.gz to /content/gdrive/MyDrive/GenomeDetector/data/natural2/bacteria_GCF_013116835.1_ASM1311683v1_genomic.fna\n",
            "Decompressed /content/gdrive/MyDrive/GenomeDetector/data/natural2/bacteria_GCF_013116865.1_ASM1311686v1_genomic.fna.gz to /content/gdrive/MyDrive/GenomeDetector/data/natural2/bacteria_GCF_013116865.1_ASM1311686v1_genomic.fna\n",
            "Decompressed /content/gdrive/MyDrive/GenomeDetector/data/natural2/bacteria_GCF_015775755.1_ASM1577575v1_genomic.fna.gz to /content/gdrive/MyDrive/GenomeDetector/data/natural2/bacteria_GCF_015775755.1_ASM1577575v1_genomic.fna\n",
            "Decompressed /content/gdrive/MyDrive/GenomeDetector/data/natural2/bacteria_GCF_016698685.1_ASM1669868v1_genomic.fna.gz to /content/gdrive/MyDrive/GenomeDetector/data/natural2/bacteria_GCF_016698685.1_ASM1669868v1_genomic.fna\n",
            "Decompressed /content/gdrive/MyDrive/GenomeDetector/data/natural2/bacteria_GCF_019895115.1_ASM1989511v1_genomic.fna.gz to /content/gdrive/MyDrive/GenomeDetector/data/natural2/bacteria_GCF_019895115.1_ASM1989511v1_genomic.fna\n",
            "Decompressed /content/gdrive/MyDrive/GenomeDetector/data/natural2/bacteria_GCF_025739225.1_ASM2573922v1_genomic.fna.gz to /content/gdrive/MyDrive/GenomeDetector/data/natural2/bacteria_GCF_025739225.1_ASM2573922v1_genomic.fna\n",
            "Decompressed /content/gdrive/MyDrive/GenomeDetector/data/natural2/bacteria_GCF_025739275.1_ASM2573927v1_genomic.fna.gz to /content/gdrive/MyDrive/GenomeDetector/data/natural2/bacteria_GCF_025739275.1_ASM2573927v1_genomic.fna\n",
            "Decompressed /content/gdrive/MyDrive/GenomeDetector/data/natural2/bacteria_GCF_900106535.1_IMG-taxon_2693429903_annotated_assembly_genomic.fna.gz to /content/gdrive/MyDrive/GenomeDetector/data/natural2/bacteria_GCF_900106535.1_IMG-taxon_2693429903_annotated_assembly_genomic.fna\n",
            "Decompressed /content/gdrive/MyDrive/GenomeDetector/data/natural2/bacteria_GCF_965140065.1_CIP107069T_genomic.fna.gz to /content/gdrive/MyDrive/GenomeDetector/data/natural2/bacteria_GCF_965140065.1_CIP107069T_genomic.fna\n",
            "Decompressed /content/gdrive/MyDrive/GenomeDetector/data/natural2/bacteria_GCF_000219105.1_ASM21910v1_genomic.fna.gz to /content/gdrive/MyDrive/GenomeDetector/data/natural2/bacteria_GCF_000219105.1_ASM21910v1_genomic.fna\n",
            "Decompressed /content/gdrive/MyDrive/GenomeDetector/data/natural2/bacteria_GCF_017302985.1_ASM1730298v1_genomic.fna.gz to /content/gdrive/MyDrive/GenomeDetector/data/natural2/bacteria_GCF_017302985.1_ASM1730298v1_genomic.fna\n",
            "Decompressed /content/gdrive/MyDrive/GenomeDetector/data/natural2/bacteria_GCF_900109545.1_IMG-taxon_2693429895_annotated_assembly_genomic.fna.gz to /content/gdrive/MyDrive/GenomeDetector/data/natural2/bacteria_GCF_900109545.1_IMG-taxon_2693429895_annotated_assembly_genomic.fna\n",
            "Decompressed /content/gdrive/MyDrive/GenomeDetector/data/natural2/bacteria_GCF_002305875.1_ASM230587v1_genomic.fna.gz to /content/gdrive/MyDrive/GenomeDetector/data/natural2/bacteria_GCF_002305875.1_ASM230587v1_genomic.fna\n",
            "Decompressed /content/gdrive/MyDrive/GenomeDetector/data/natural2/bacteria_GCF_044360605.1_ASM4436060v1_genomic.fna.gz to /content/gdrive/MyDrive/GenomeDetector/data/natural2/bacteria_GCF_044360605.1_ASM4436060v1_genomic.fna\n",
            "Decompressed /content/gdrive/MyDrive/GenomeDetector/data/natural2/bacteria_GCF_044360685.1_ASM4436068v1_genomic.fna.gz to /content/gdrive/MyDrive/GenomeDetector/data/natural2/bacteria_GCF_044360685.1_ASM4436068v1_genomic.fna\n",
            "Decompressed /content/gdrive/MyDrive/GenomeDetector/data/natural2/bacteria_GCF_001027285.1_ASM102728v1_genomic.fna.gz to /content/gdrive/MyDrive/GenomeDetector/data/natural2/bacteria_GCF_001027285.1_ASM102728v1_genomic.fna\n",
            "Decompressed /content/gdrive/MyDrive/GenomeDetector/data/natural2/bacteria_GCF_003387095.1_ASM338709v1_genomic.fna.gz to /content/gdrive/MyDrive/GenomeDetector/data/natural2/bacteria_GCF_003387095.1_ASM338709v1_genomic.fna\n",
            "Decompressed /content/gdrive/MyDrive/GenomeDetector/data/natural2/bacteria_GCF_042230915.1_ASM4223091v1_genomic.fna.gz to /content/gdrive/MyDrive/GenomeDetector/data/natural2/bacteria_GCF_042230915.1_ASM4223091v1_genomic.fna\n",
            "Decompressed /content/gdrive/MyDrive/GenomeDetector/data/natural2/bacteria_GCF_049060025.1_ASM4906002v1_genomic.fna.gz to /content/gdrive/MyDrive/GenomeDetector/data/natural2/bacteria_GCF_049060025.1_ASM4906002v1_genomic.fna\n",
            "Decompressed /content/gdrive/MyDrive/GenomeDetector/data/natural2/bacteria_GCF_001189295.1_ASM118929v1_genomic.fna.gz to /content/gdrive/MyDrive/GenomeDetector/data/natural2/bacteria_GCF_001189295.1_ASM118929v1_genomic.fna\n",
            "Decompressed /content/gdrive/MyDrive/GenomeDetector/data/natural2/bacteria_GCF_002343915.1_ASM234391v1_genomic.fna.gz to /content/gdrive/MyDrive/GenomeDetector/data/natural2/bacteria_GCF_002343915.1_ASM234391v1_genomic.fna\n",
            "Decompressed /content/gdrive/MyDrive/GenomeDetector/data/natural2/bacteria_GCF_900112715.1_IMG-taxon_2597490371_annotated_assembly_genomic.fna.gz to /content/gdrive/MyDrive/GenomeDetector/data/natural2/bacteria_GCF_900112715.1_IMG-taxon_2597490371_annotated_assembly_genomic.fna\n",
            "Decompressed /content/gdrive/MyDrive/GenomeDetector/data/natural2/bacteria_GCF_001589285.1_sce8312.1_genomic.fna.gz to /content/gdrive/MyDrive/GenomeDetector/data/natural2/bacteria_GCF_001589285.1_sce8312.1_genomic.fna\n",
            "Decompressed /content/gdrive/MyDrive/GenomeDetector/data/natural2/bacteria_GCF_002950945.1_ASM295094v1_genomic.fna.gz to /content/gdrive/MyDrive/GenomeDetector/data/natural2/bacteria_GCF_002950945.1_ASM295094v1_genomic.fna\n",
            "Decompressed /content/gdrive/MyDrive/GenomeDetector/data/natural2/bacteria_GCF_004135735.1_ASM413573v1_genomic.fna.gz to /content/gdrive/MyDrive/GenomeDetector/data/natural2/bacteria_GCF_004135735.1_ASM413573v1_genomic.fna\n",
            "Decompressed /content/gdrive/MyDrive/GenomeDetector/data/natural2/bacteria_GCF_004135755.1_ASM413575v1_genomic.fna.gz to /content/gdrive/MyDrive/GenomeDetector/data/natural2/bacteria_GCF_004135755.1_ASM413575v1_genomic.fna\n",
            "Decompressed /content/gdrive/MyDrive/GenomeDetector/data/natural2/bacteria_GCF_050994875.1_ASM5099487v1_genomic.fna.gz to /content/gdrive/MyDrive/GenomeDetector/data/natural2/bacteria_GCF_050994875.1_ASM5099487v1_genomic.fna\n",
            "Decompressed /content/gdrive/MyDrive/GenomeDetector/data/natural2/bacteria_GCF_051015755.1_ASM5101575v1_genomic.fna.gz to /content/gdrive/MyDrive/GenomeDetector/data/natural2/bacteria_GCF_051015755.1_ASM5101575v1_genomic.fna\n",
            "Decompressed /content/gdrive/MyDrive/GenomeDetector/data/natural2/bacteria_GCF_022870945.1_ASM2287094v1_genomic.fna.gz to /content/gdrive/MyDrive/GenomeDetector/data/natural2/bacteria_GCF_022870945.1_ASM2287094v1_genomic.fna\n",
            "Decompressed /content/gdrive/MyDrive/GenomeDetector/data/natural2/bacteria_GCF_002222655.1_ASM222265v1_genomic.fna.gz to /content/gdrive/MyDrive/GenomeDetector/data/natural2/bacteria_GCF_002222655.1_ASM222265v1_genomic.fna\n",
            "Decompressed /content/gdrive/MyDrive/GenomeDetector/data/natural2/bacteria_GCF_002024615.2_ASM202461v2_genomic.fna.gz to /content/gdrive/MyDrive/GenomeDetector/data/natural2/bacteria_GCF_002024615.2_ASM202461v2_genomic.fna\n",
            "Decompressed /content/gdrive/MyDrive/GenomeDetector/data/natural2/bacteria_GCF_002355975.1_ASM235597v1_genomic.fna.gz to /content/gdrive/MyDrive/GenomeDetector/data/natural2/bacteria_GCF_002355975.1_ASM235597v1_genomic.fna\n",
            "Decompressed /content/gdrive/MyDrive/GenomeDetector/data/natural2/bacteria_GCF_003789105.1_ASM378910v1_genomic.fna.gz to /content/gdrive/MyDrive/GenomeDetector/data/natural2/bacteria_GCF_003789105.1_ASM378910v1_genomic.fna\n",
            "Decompressed /content/gdrive/MyDrive/GenomeDetector/data/natural2/bacteria_GCF_017168095.1_ASM1716809v1_genomic.fna.gz to /content/gdrive/MyDrive/GenomeDetector/data/natural2/bacteria_GCF_017168095.1_ASM1716809v1_genomic.fna\n",
            "Decompressed /content/gdrive/MyDrive/GenomeDetector/data/natural2/bacteria_GCF_017355525.1_ASM1735552v1_genomic.fna.gz to /content/gdrive/MyDrive/GenomeDetector/data/natural2/bacteria_GCF_017355525.1_ASM1735552v1_genomic.fna\n",
            "Decompressed /content/gdrive/MyDrive/GenomeDetector/data/natural2/bacteria_GCF_023617245.1_ASM2361724v1_genomic.fna.gz to /content/gdrive/MyDrive/GenomeDetector/data/natural2/bacteria_GCF_023617245.1_ASM2361724v1_genomic.fna\n",
            "Decompressed /content/gdrive/MyDrive/GenomeDetector/data/natural2/bacteria_GCF_040549365.1_ASM4054936v1_genomic.fna.gz to /content/gdrive/MyDrive/GenomeDetector/data/natural2/bacteria_GCF_040549365.1_ASM4054936v1_genomic.fna\n",
            "Decompressed /content/gdrive/MyDrive/GenomeDetector/data/natural2/bacteria_GCF_043508045.1_ASM4350804v1_genomic.fna.gz to /content/gdrive/MyDrive/GenomeDetector/data/natural2/bacteria_GCF_043508045.1_ASM4350804v1_genomic.fna\n",
            "Decompressed /content/gdrive/MyDrive/GenomeDetector/data/natural2/bacteria_GCF_044900345.1_ASM4490034v1_genomic.fna.gz to /content/gdrive/MyDrive/GenomeDetector/data/natural2/bacteria_GCF_044900345.1_ASM4490034v1_genomic.fna\n",
            "Decompressed /content/gdrive/MyDrive/GenomeDetector/data/natural2/bacteria_GCF_044900495.1_ASM4490049v1_genomic.fna.gz to /content/gdrive/MyDrive/GenomeDetector/data/natural2/bacteria_GCF_044900495.1_ASM4490049v1_genomic.fna\n",
            "Decompressed /content/gdrive/MyDrive/GenomeDetector/data/natural2/bacteria_GCF_900106525.1_IMG-taxon_2675903697_annotated_assembly_genomic.fna.gz to /content/gdrive/MyDrive/GenomeDetector/data/natural2/bacteria_GCF_900106525.1_IMG-taxon_2675903697_annotated_assembly_genomic.fna\n",
            "Decompressed /content/gdrive/MyDrive/GenomeDetector/data/natural2/bacteria_GCF_020162275.1_ASM2016227v1_genomic.fna.gz to /content/gdrive/MyDrive/GenomeDetector/data/natural2/bacteria_GCF_020162275.1_ASM2016227v1_genomic.fna\n",
            "Decompressed /content/gdrive/MyDrive/GenomeDetector/data/natural2/bacteria_GCF_937989625.1_SRR8114033_bin.4_CONCOCT_v1.1_MAG_genomic.fna.gz to /content/gdrive/MyDrive/GenomeDetector/data/natural2/bacteria_GCF_937989625.1_SRR8114033_bin.4_CONCOCT_v1.1_MAG_genomic.fna\n",
            "Decompressed /content/gdrive/MyDrive/GenomeDetector/data/natural2/bacteria_GCF_963520605.1_ERR9969030_bin.13_MetaWRAP_v1.3_MAG_genomic.fna.gz to /content/gdrive/MyDrive/GenomeDetector/data/natural2/bacteria_GCF_963520605.1_ERR9969030_bin.13_MetaWRAP_v1.3_MAG_genomic.fna\n",
            "Decompressed /content/gdrive/MyDrive/GenomeDetector/data/natural2/bacteria_GCF_017418455.1_ASM1741845v1_genomic.fna.gz to /content/gdrive/MyDrive/GenomeDetector/data/natural2/bacteria_GCF_017418455.1_ASM1741845v1_genomic.fna\n",
            "Decompressed /content/gdrive/MyDrive/GenomeDetector/data/natural2/bacteria_GCF_017744445.1_ASM1774444v1_genomic.fna.gz to /content/gdrive/MyDrive/GenomeDetector/data/natural2/bacteria_GCF_017744445.1_ASM1774444v1_genomic.fna\n",
            "Decompressed /content/gdrive/MyDrive/GenomeDetector/data/natural2/bacteria_GCF_035254145.1_ASM3525414v1_genomic.fna.gz to /content/gdrive/MyDrive/GenomeDetector/data/natural2/bacteria_GCF_035254145.1_ASM3525414v1_genomic.fna\n",
            "Decompressed /content/gdrive/MyDrive/GenomeDetector/data/natural2/bacteria_GCF_039596335.1_ASM3959633v1_genomic.fna.gz to /content/gdrive/MyDrive/GenomeDetector/data/natural2/bacteria_GCF_039596335.1_ASM3959633v1_genomic.fna\n",
            "Decompressed /content/gdrive/MyDrive/GenomeDetector/data/natural2/bacteria_GCF_049283275.1_MFD01226_ilm_asm_bin9_genomic.fna.gz to /content/gdrive/MyDrive/GenomeDetector/data/natural2/bacteria_GCF_049283275.1_MFD01226_ilm_asm_bin9_genomic.fna\n",
            "Decompressed /content/gdrive/MyDrive/GenomeDetector/data/natural2/bacteria_GCF_965229275.1_piParTeta1.Caulobacter_sp_1.1_genomic.fna.gz to /content/gdrive/MyDrive/GenomeDetector/data/natural2/bacteria_GCF_965229275.1_piParTeta1.Caulobacter_sp_1.1_genomic.fna\n",
            "Decompressed /content/gdrive/MyDrive/GenomeDetector/data/natural2/bacteria_GCF_965279145.1_piParDeut1.Caulobacter_sp_1.1_genomic.fna.gz to /content/gdrive/MyDrive/GenomeDetector/data/natural2/bacteria_GCF_965279145.1_piParDeut1.Caulobacter_sp_1.1_genomic.fna\n",
            "Decompressed /content/gdrive/MyDrive/GenomeDetector/data/natural2/bacteria_GCF_003987725.1_ASM398772v1_genomic.fna.gz to /content/gdrive/MyDrive/GenomeDetector/data/natural2/bacteria_GCF_003987725.1_ASM398772v1_genomic.fna\n",
            "Decompressed /content/gdrive/MyDrive/GenomeDetector/data/natural2/bacteria_GCF_003987855.1_ASM398785v1_genomic.fna.gz to /content/gdrive/MyDrive/GenomeDetector/data/natural2/bacteria_GCF_003987855.1_ASM398785v1_genomic.fna\n",
            "Decompressed /content/gdrive/MyDrive/GenomeDetector/data/natural2/bacteria_GCF_009026145.1_ASM902614v1_genomic.fna.gz to /content/gdrive/MyDrive/GenomeDetector/data/natural2/bacteria_GCF_009026145.1_ASM902614v1_genomic.fna\n",
            "Decompressed /content/gdrive/MyDrive/GenomeDetector/data/natural2/bacteria_GCF_019744875.1_ASM1974487v1_genomic.fna.gz to /content/gdrive/MyDrive/GenomeDetector/data/natural2/bacteria_GCF_019744875.1_ASM1974487v1_genomic.fna\n",
            "Decompressed /content/gdrive/MyDrive/GenomeDetector/data/natural2/virus_GCF_000839185.1_ViralProj14174_genomic.fna.gz to /content/gdrive/MyDrive/GenomeDetector/data/natural2/virus_GCF_000839185.1_ViralProj14174_genomic.fna\n",
            "Decompressed /content/gdrive/MyDrive/GenomeDetector/data/natural2/virus_GCF_000857045.1_ViralProj15142_genomic.fna.gz to /content/gdrive/MyDrive/GenomeDetector/data/natural2/virus_GCF_000857045.1_ViralProj15142_genomic.fna\n",
            "Decompressed /content/gdrive/MyDrive/GenomeDetector/data/natural2/virus_GCF_014621545.1_ASM1462154v1_genomic.fna.gz to /content/gdrive/MyDrive/GenomeDetector/data/natural2/virus_GCF_014621545.1_ASM1462154v1_genomic.fna\n",
            "Decompressed /content/gdrive/MyDrive/GenomeDetector/data/natural2/virus_GCF_000860085.1_ViralProj15241_genomic.fna.gz to /content/gdrive/MyDrive/GenomeDetector/data/natural2/virus_GCF_000860085.1_ViralProj15241_genomic.fna\n",
            "Decompressed /content/gdrive/MyDrive/GenomeDetector/data/natural2/virus_GCF_000859885.1_ViralProj15197_genomic.fna.gz to /content/gdrive/MyDrive/GenomeDetector/data/natural2/virus_GCF_000859885.1_ViralProj15197_genomic.fna\n",
            "Decompressed /content/gdrive/MyDrive/GenomeDetector/data/natural2/virus_GCF_001029045.1_ViralProj287042_genomic.fna.gz to /content/gdrive/MyDrive/GenomeDetector/data/natural2/virus_GCF_001029045.1_ViralProj287042_genomic.fna\n",
            "Decompressed /content/gdrive/MyDrive/GenomeDetector/data/natural2/virus_GCF_000844845.1_ViralProj14464_genomic.fna.gz to /content/gdrive/MyDrive/GenomeDetector/data/natural2/virus_GCF_000844845.1_ViralProj14464_genomic.fna\n",
            "Decompressed /content/gdrive/MyDrive/GenomeDetector/data/natural2/virus_GCF_000838605.1_ViralProj14052_genomic.fna.gz to /content/gdrive/MyDrive/GenomeDetector/data/natural2/virus_GCF_000838605.1_ViralProj14052_genomic.fna\n",
            "Decompressed /content/gdrive/MyDrive/GenomeDetector/data/natural2/virus_GCF_000922075.1_FeP2_genomic.fna.gz to /content/gdrive/MyDrive/GenomeDetector/data/natural2/virus_GCF_000922075.1_FeP2_genomic.fna\n",
            "Decompressed /content/gdrive/MyDrive/GenomeDetector/data/natural2/virus_GCF_000840205.1_ViralProj14196_genomic.fna.gz to /content/gdrive/MyDrive/GenomeDetector/data/natural2/virus_GCF_000840205.1_ViralProj14196_genomic.fna\n",
            "Decompressed /content/gdrive/MyDrive/GenomeDetector/data/natural2/virus_GCF_000847965.1_ViralProj14590_genomic.fna.gz to /content/gdrive/MyDrive/GenomeDetector/data/natural2/virus_GCF_000847965.1_ViralProj14590_genomic.fna\n",
            "Decompressed /content/gdrive/MyDrive/GenomeDetector/data/natural2/virus_GCF_000843685.1_ViralProj14396_genomic.fna.gz to /content/gdrive/MyDrive/GenomeDetector/data/natural2/virus_GCF_000843685.1_ViralProj14396_genomic.fna\n",
            "Decompressed /content/gdrive/MyDrive/GenomeDetector/data/natural2/virus_GCF_000839965.1_ViralProj14155_genomic.fna.gz to /content/gdrive/MyDrive/GenomeDetector/data/natural2/virus_GCF_000839965.1_ViralProj14155_genomic.fna\n",
            "Decompressed /content/gdrive/MyDrive/GenomeDetector/data/natural2/virus_GCF_000843325.1_ViralProj14328_genomic.fna.gz to /content/gdrive/MyDrive/GenomeDetector/data/natural2/virus_GCF_000843325.1_ViralProj14328_genomic.fna\n",
            "Decompressed /content/gdrive/MyDrive/GenomeDetector/data/natural2/virus_GCF_000909015.1_ViralProj203666_genomic.fna.gz to /content/gdrive/MyDrive/GenomeDetector/data/natural2/virus_GCF_000909015.1_ViralProj203666_genomic.fna\n",
            "Decompressed /content/gdrive/MyDrive/GenomeDetector/data/natural2/virus_GCF_002987725.1_ASM298772v1_genomic.fna.gz to /content/gdrive/MyDrive/GenomeDetector/data/natural2/virus_GCF_002987725.1_ASM298772v1_genomic.fna\n",
            "Decompressed /content/gdrive/MyDrive/GenomeDetector/data/natural2/virus_GCF_002814635.1_ASM281463v1_genomic.fna.gz to /content/gdrive/MyDrive/GenomeDetector/data/natural2/virus_GCF_002814635.1_ASM281463v1_genomic.fna\n",
            "Decompressed /content/gdrive/MyDrive/GenomeDetector/data/natural2/virus_GCF_021461835.1_ASM2146183v1_genomic.fna.gz to /content/gdrive/MyDrive/GenomeDetector/data/natural2/virus_GCF_021461835.1_ASM2146183v1_genomic.fna\n",
            "Decompressed /content/gdrive/MyDrive/GenomeDetector/data/natural2/virus_GCF_000859985.2_ViralProj15217_genomic.fna.gz to /content/gdrive/MyDrive/GenomeDetector/data/natural2/virus_GCF_000859985.2_ViralProj15217_genomic.fna\n",
            "Decompressed /content/gdrive/MyDrive/GenomeDetector/data/natural2/virus_GCF_000858385.2_ViralProj15218_genomic.fna.gz to /content/gdrive/MyDrive/GenomeDetector/data/natural2/virus_GCF_000858385.2_ViralProj15218_genomic.fna\n",
            "Decompressed /content/gdrive/MyDrive/GenomeDetector/data/natural2/virus_GCF_000846965.1_ViralProj14558_genomic.fna.gz to /content/gdrive/MyDrive/GenomeDetector/data/natural2/virus_GCF_000846965.1_ViralProj14558_genomic.fna\n",
            "Decompressed /content/gdrive/MyDrive/GenomeDetector/data/natural2/virus_GCF_000844145.1_ViralProj14489_genomic.fna.gz to /content/gdrive/MyDrive/GenomeDetector/data/natural2/virus_GCF_000844145.1_ViralProj14489_genomic.fna\n",
            "Decompressed /content/gdrive/MyDrive/GenomeDetector/data/natural2/virus_GCF_018580855.1_ASM1858085v1_genomic.fna.gz to /content/gdrive/MyDrive/GenomeDetector/data/natural2/virus_GCF_018580855.1_ASM1858085v1_genomic.fna\n",
            "Decompressed /content/gdrive/MyDrive/GenomeDetector/data/natural2/virus_GCF_018580865.1_ASM1858086v1_genomic.fna.gz to /content/gdrive/MyDrive/GenomeDetector/data/natural2/virus_GCF_018580865.1_ASM1858086v1_genomic.fna\n",
            "Decompressed /content/gdrive/MyDrive/GenomeDetector/data/natural2/virus_GCF_000844025.1_ViralProj14465_genomic.fna.gz to /content/gdrive/MyDrive/GenomeDetector/data/natural2/virus_GCF_000844025.1_ViralProj14465_genomic.fna\n",
            "Decompressed /content/gdrive/MyDrive/GenomeDetector/data/natural2/virus_GCF_000846345.1_ViralProj14418_genomic.fna.gz to /content/gdrive/MyDrive/GenomeDetector/data/natural2/virus_GCF_000846345.1_ViralProj14418_genomic.fna\n",
            "Decompressed /content/gdrive/MyDrive/GenomeDetector/data/natural2/virus_GCF_000885455.1_ViralProj42429_genomic.fna.gz to /content/gdrive/MyDrive/GenomeDetector/data/natural2/virus_GCF_000885455.1_ViralProj42429_genomic.fna\n",
            "Decompressed /content/gdrive/MyDrive/GenomeDetector/data/natural2/virus_GCF_000858285.1_ViralProj15198_genomic.fna.gz to /content/gdrive/MyDrive/GenomeDetector/data/natural2/virus_GCF_000858285.1_ViralProj15198_genomic.fna\n",
            "Decompressed /content/gdrive/MyDrive/GenomeDetector/data/natural2/virus_GCF_000843825.1_ViralProj14424_genomic.fna.gz to /content/gdrive/MyDrive/GenomeDetector/data/natural2/virus_GCF_000843825.1_ViralProj14424_genomic.fna\n",
            "Decompressed /content/gdrive/MyDrive/GenomeDetector/data/natural2/virus_GCF_008791805.1_ASM879180v1_genomic.fna.gz to /content/gdrive/MyDrive/GenomeDetector/data/natural2/virus_GCF_008791805.1_ASM879180v1_genomic.fna\n",
            "Decompressed /content/gdrive/MyDrive/GenomeDetector/data/natural2/virus_GCF_000890195.1_ViralProj54017_genomic.fna.gz to /content/gdrive/MyDrive/GenomeDetector/data/natural2/virus_GCF_000890195.1_ViralProj54017_genomic.fna\n",
            "Decompressed /content/gdrive/MyDrive/GenomeDetector/data/natural2/virus_GCF_000845245.1_ViralProj14559_genomic.fna.gz to /content/gdrive/MyDrive/GenomeDetector/data/natural2/virus_GCF_000845245.1_ViralProj14559_genomic.fna\n",
            "Decompressed /content/gdrive/MyDrive/GenomeDetector/data/natural2/virus_GCF_000859805.1_ViralProj15181_genomic.fna.gz to /content/gdrive/MyDrive/GenomeDetector/data/natural2/virus_GCF_000859805.1_ViralProj15181_genomic.fna\n",
            "Decompressed /content/gdrive/MyDrive/GenomeDetector/data/natural2/virus_GCF_008792765.1_ASM879276v1_genomic.fna.gz to /content/gdrive/MyDrive/GenomeDetector/data/natural2/virus_GCF_008792765.1_ASM879276v1_genomic.fna\n",
            "Decompressed /content/gdrive/MyDrive/GenomeDetector/data/natural2/virus_GCF_000929435.1_ViralProj274586_genomic.fna.gz to /content/gdrive/MyDrive/GenomeDetector/data/natural2/virus_GCF_000929435.1_ViralProj274586_genomic.fna\n",
            "Decompressed /content/gdrive/MyDrive/GenomeDetector/data/natural2/virus_GCF_000848125.1_ViralProj14625_genomic.fna.gz to /content/gdrive/MyDrive/GenomeDetector/data/natural2/virus_GCF_000848125.1_ViralProj14625_genomic.fna\n",
            "Decompressed /content/gdrive/MyDrive/GenomeDetector/data/natural2/virus_GCF_002402265.1_ASM240226v1_genomic.fna.gz to /content/gdrive/MyDrive/GenomeDetector/data/natural2/virus_GCF_002402265.1_ASM240226v1_genomic.fna\n",
            "Decompressed /content/gdrive/MyDrive/GenomeDetector/data/natural2/virus_GCF_002814975.1_ASM281497v1_genomic.fna.gz to /content/gdrive/MyDrive/GenomeDetector/data/natural2/virus_GCF_002814975.1_ASM281497v1_genomic.fna\n",
            "Decompressed /content/gdrive/MyDrive/GenomeDetector/data/natural2/virus_GCF_000845465.1_ViralProj14417_genomic.fna.gz to /content/gdrive/MyDrive/GenomeDetector/data/natural2/virus_GCF_000845465.1_ViralProj14417_genomic.fna\n",
            "Decompressed /content/gdrive/MyDrive/GenomeDetector/data/natural2/virus_GCF_000839745.1_ViralProj14110_genomic.fna.gz to /content/gdrive/MyDrive/GenomeDetector/data/natural2/virus_GCF_000839745.1_ViralProj14110_genomic.fna\n",
            "Decompressed /content/gdrive/MyDrive/GenomeDetector/data/natural2/virus_GCF_000847005.1_ViralProj14566_genomic.fna.gz to /content/gdrive/MyDrive/GenomeDetector/data/natural2/virus_GCF_000847005.1_ViralProj14566_genomic.fna\n",
            "Decompressed /content/gdrive/MyDrive/GenomeDetector/data/natural2/virus_GCF_008787145.1_ASM878714v1_genomic.fna.gz to /content/gdrive/MyDrive/GenomeDetector/data/natural2/virus_GCF_008787145.1_ASM878714v1_genomic.fna\n",
            "Decompressed /content/gdrive/MyDrive/GenomeDetector/data/natural2/virus_GCF_000846265.1_ViralProj14402_genomic.fna.gz to /content/gdrive/MyDrive/GenomeDetector/data/natural2/virus_GCF_000846265.1_ViralProj14402_genomic.fna\n",
            "Decompressed /content/gdrive/MyDrive/GenomeDetector/data/natural2/virus_GCF_000849685.1_ViralProj14597_genomic.fna.gz to /content/gdrive/MyDrive/GenomeDetector/data/natural2/virus_GCF_000849685.1_ViralProj14597_genomic.fna\n",
            "Decompressed /content/gdrive/MyDrive/GenomeDetector/data/natural2/virus_GCF_000866865.1_ViralProj16234_genomic.fna.gz to /content/gdrive/MyDrive/GenomeDetector/data/natural2/virus_GCF_000866865.1_ViralProj16234_genomic.fna\n",
            "Decompressed /content/gdrive/MyDrive/GenomeDetector/data/natural2/virus_GCF_000839325.1_ViralProj14018_genomic.fna.gz to /content/gdrive/MyDrive/GenomeDetector/data/natural2/virus_GCF_000839325.1_ViralProj14018_genomic.fna\n",
            "Decompressed /content/gdrive/MyDrive/GenomeDetector/data/natural2/virus_GCF_000837845.1_ViralProj14070_genomic.fna.gz to /content/gdrive/MyDrive/GenomeDetector/data/natural2/virus_GCF_000837845.1_ViralProj14070_genomic.fna\n",
            "Decompressed /content/gdrive/MyDrive/GenomeDetector/data/natural2/virus_GCF_000861825.2_ViralProj15428_genomic.fna.gz to /content/gdrive/MyDrive/GenomeDetector/data/natural2/virus_GCF_000861825.2_ViralProj15428_genomic.fna\n",
            "Decompressed /content/gdrive/MyDrive/GenomeDetector/data/natural2/virus_GCF_000846205.1_ViralProj14390_genomic.fna.gz to /content/gdrive/MyDrive/GenomeDetector/data/natural2/virus_GCF_000846205.1_ViralProj14390_genomic.fna\n",
            "Decompressed /content/gdrive/MyDrive/GenomeDetector/data/natural2/virus_GCF_000839865.1_ViralProj14134_genomic.fna.gz to /content/gdrive/MyDrive/GenomeDetector/data/natural2/virus_GCF_000839865.1_ViralProj14134_genomic.fna\n",
            "Decompressed /content/gdrive/MyDrive/GenomeDetector/data/natural2/virus_GCF_018583745.1_ASM1858374v1_genomic.fna.gz to /content/gdrive/MyDrive/GenomeDetector/data/natural2/virus_GCF_018583745.1_ASM1858374v1_genomic.fna\n",
            "Decompressed /content/gdrive/MyDrive/GenomeDetector/data/natural2/virus_GCF_000868825.1_ViralProj18827_genomic.fna.gz to /content/gdrive/MyDrive/GenomeDetector/data/natural2/virus_GCF_000868825.1_ViralProj18827_genomic.fna\n",
            "Decompressed /content/gdrive/MyDrive/GenomeDetector/data/natural2/virus_GCF_002819145.1_ASM281914v1_genomic.fna.gz to /content/gdrive/MyDrive/GenomeDetector/data/natural2/virus_GCF_002819145.1_ASM281914v1_genomic.fna\n",
            "Decompressed /content/gdrive/MyDrive/GenomeDetector/data/natural2/virus_GCF_002819185.1_ASM281918v1_genomic.fna.gz to /content/gdrive/MyDrive/GenomeDetector/data/natural2/virus_GCF_002819185.1_ASM281918v1_genomic.fna\n",
            "Decompressed /content/gdrive/MyDrive/GenomeDetector/data/natural2/virus_GCF_002988075.1_ASM298807v1_genomic.fna.gz to /content/gdrive/MyDrive/GenomeDetector/data/natural2/virus_GCF_002988075.1_ASM298807v1_genomic.fna\n",
            "Decompressed /content/gdrive/MyDrive/GenomeDetector/data/natural2/virus_GCF_000867225.2_ViralMultiSegProj16738_genomic.fna.gz to /content/gdrive/MyDrive/GenomeDetector/data/natural2/virus_GCF_000867225.2_ViralMultiSegProj16738_genomic.fna\n",
            "Decompressed /content/gdrive/MyDrive/GenomeDetector/data/natural2/virus_GCF_000844425.1_ViralProj14560_genomic.fna.gz to /content/gdrive/MyDrive/GenomeDetector/data/natural2/virus_GCF_000844425.1_ViralProj14560_genomic.fna\n",
            "Decompressed /content/gdrive/MyDrive/GenomeDetector/data/natural2/virus_GCF_000858485.1_ViralProj15242_genomic.fna.gz to /content/gdrive/MyDrive/GenomeDetector/data/natural2/virus_GCF_000858485.1_ViralProj15242_genomic.fna\n",
            "Decompressed /content/gdrive/MyDrive/GenomeDetector/data/natural2/virus_GCF_003032865.1_ASM303286v1_genomic.fna.gz to /content/gdrive/MyDrive/GenomeDetector/data/natural2/virus_GCF_003032865.1_ASM303286v1_genomic.fna\n",
            "Decompressed /content/gdrive/MyDrive/GenomeDetector/data/natural2/virus_GCF_003032875.1_ASM303287v1_genomic.fna.gz to /content/gdrive/MyDrive/GenomeDetector/data/natural2/virus_GCF_003032875.1_ASM303287v1_genomic.fna\n",
            "Decompressed /content/gdrive/MyDrive/GenomeDetector/data/natural2/virus_GCF_003032885.1_ASM303288v1_genomic.fna.gz to /content/gdrive/MyDrive/GenomeDetector/data/natural2/virus_GCF_003032885.1_ASM303288v1_genomic.fna\n",
            "Decompressed /content/gdrive/MyDrive/GenomeDetector/data/natural2/virus_GCF_003032895.1_ASM303289v1_genomic.fna.gz to /content/gdrive/MyDrive/GenomeDetector/data/natural2/virus_GCF_003032895.1_ASM303289v1_genomic.fna\n",
            "Decompressed /content/gdrive/MyDrive/GenomeDetector/data/natural2/virus_GCF_003032905.1_ASM303290v1_genomic.fna.gz to /content/gdrive/MyDrive/GenomeDetector/data/natural2/virus_GCF_003032905.1_ASM303290v1_genomic.fna\n",
            "Decompressed /content/gdrive/MyDrive/GenomeDetector/data/natural2/virus_GCF_003032915.1_ASM303291v1_genomic.fna.gz to /content/gdrive/MyDrive/GenomeDetector/data/natural2/virus_GCF_003032915.1_ASM303291v1_genomic.fna\n",
            "Decompressed /content/gdrive/MyDrive/GenomeDetector/data/natural2/virus_GCF_003032925.1_26544_10_genomic.fna.gz to /content/gdrive/MyDrive/GenomeDetector/data/natural2/virus_GCF_003032925.1_26544_10_genomic.fna\n",
            "Decompressed /content/gdrive/MyDrive/GenomeDetector/data/natural2/virus_GCF_003032935.1_ASM303293v1_genomic.fna.gz to /content/gdrive/MyDrive/GenomeDetector/data/natural2/virus_GCF_003032935.1_ASM303293v1_genomic.fna\n",
            "Decompressed /content/gdrive/MyDrive/GenomeDetector/data/natural2/virus_GCF_003032945.1_ASM303294v1_genomic.fna.gz to /content/gdrive/MyDrive/GenomeDetector/data/natural2/virus_GCF_003032945.1_ASM303294v1_genomic.fna\n",
            "Decompressed /content/gdrive/MyDrive/GenomeDetector/data/natural2/virus_GCF_003032955.1_ASM303295v1_genomic.fna.gz to /content/gdrive/MyDrive/GenomeDetector/data/natural2/virus_GCF_003032955.1_ASM303295v1_genomic.fna\n",
            "Decompressed /content/gdrive/MyDrive/GenomeDetector/data/natural2/virus_GCF_003032965.1_ASM303296v1_genomic.fna.gz to /content/gdrive/MyDrive/GenomeDetector/data/natural2/virus_GCF_003032965.1_ASM303296v1_genomic.fna\n",
            "Decompressed /content/gdrive/MyDrive/GenomeDetector/data/natural2/virus_GCF_003032975.1_ASM303297v1_genomic.fna.gz to /content/gdrive/MyDrive/GenomeDetector/data/natural2/virus_GCF_003032975.1_ASM303297v1_genomic.fna\n",
            "Decompressed /content/gdrive/MyDrive/GenomeDetector/data/natural2/virus_GCF_003032985.1_ASM303298v1_genomic.fna.gz to /content/gdrive/MyDrive/GenomeDetector/data/natural2/virus_GCF_003032985.1_ASM303298v1_genomic.fna\n",
            "Decompressed /content/gdrive/MyDrive/GenomeDetector/data/natural2/virus_GCF_003032995.1_ASM303299v1_genomic.fna.gz to /content/gdrive/MyDrive/GenomeDetector/data/natural2/virus_GCF_003032995.1_ASM303299v1_genomic.fna\n",
            "Decompressed /content/gdrive/MyDrive/GenomeDetector/data/natural2/virus_GCF_003033005.1_ASM303300v1_genomic.fna.gz to /content/gdrive/MyDrive/GenomeDetector/data/natural2/virus_GCF_003033005.1_ASM303300v1_genomic.fna\n",
            "Decompressed /content/gdrive/MyDrive/GenomeDetector/data/natural2/virus_GCF_003047755.2_ASM304775v2_genomic.fna.gz to /content/gdrive/MyDrive/GenomeDetector/data/natural2/virus_GCF_003047755.2_ASM304775v2_genomic.fna\n",
            "Decompressed /content/gdrive/MyDrive/GenomeDetector/data/natural2/virus_GCF_000847045.1_ViralProj14564_genomic.fna.gz to /content/gdrive/MyDrive/GenomeDetector/data/natural2/virus_GCF_000847045.1_ViralProj14564_genomic.fna\n",
            "Decompressed /content/gdrive/MyDrive/GenomeDetector/data/natural2/virus_GCF_000844245.1_ViralProj14515_genomic.fna.gz to /content/gdrive/MyDrive/GenomeDetector/data/natural2/virus_GCF_000844245.1_ViralProj14515_genomic.fna\n",
            "Decompressed /content/gdrive/MyDrive/GenomeDetector/data/natural2/virus_GCF_000857845.1_ViralProj15101_genomic.fna.gz to /content/gdrive/MyDrive/GenomeDetector/data/natural2/virus_GCF_000857845.1_ViralProj15101_genomic.fna\n",
            "Decompressed /content/gdrive/MyDrive/GenomeDetector/data/natural2/virus_GCF_000856885.1_ViralProj15102_genomic.fna.gz to /content/gdrive/MyDrive/GenomeDetector/data/natural2/virus_GCF_000856885.1_ViralProj15102_genomic.fna\n",
            "Decompressed /content/gdrive/MyDrive/GenomeDetector/data/natural2/virus_GCF_000859465.1_ViralProj15106_genomic.fna.gz to /content/gdrive/MyDrive/GenomeDetector/data/natural2/virus_GCF_000859465.1_ViralProj15106_genomic.fna\n",
            "Decompressed /content/gdrive/MyDrive/GenomeDetector/data/natural2/virus_GCF_000859485.1_ViralProj15114_genomic.fna.gz to /content/gdrive/MyDrive/GenomeDetector/data/natural2/virus_GCF_000859485.1_ViralProj15114_genomic.fna\n",
            "Decompressed /content/gdrive/MyDrive/GenomeDetector/data/natural2/virus_GCF_000857885.1_ViralProj15115_genomic.fna.gz to /content/gdrive/MyDrive/GenomeDetector/data/natural2/virus_GCF_000857885.1_ViralProj15115_genomic.fna\n",
            "Decompressed /content/gdrive/MyDrive/GenomeDetector/data/natural2/virus_GCF_000858645.1_ViralProj15113_genomic.fna.gz to /content/gdrive/MyDrive/GenomeDetector/data/natural2/virus_GCF_000858645.1_ViralProj15113_genomic.fna\n",
            "Decompressed /content/gdrive/MyDrive/GenomeDetector/data/natural2/virus_GCF_000845925.1_ViralProj14516_genomic.fna.gz to /content/gdrive/MyDrive/GenomeDetector/data/natural2/virus_GCF_000845925.1_ViralProj14516_genomic.fna\n",
            "Decompressed /content/gdrive/MyDrive/GenomeDetector/data/natural2/virus_GCF_002818015.1_ASM281801v1_genomic.fna.gz to /content/gdrive/MyDrive/GenomeDetector/data/natural2/virus_GCF_002818015.1_ASM281801v1_genomic.fna\n",
            "Decompressed /content/gdrive/MyDrive/GenomeDetector/data/natural2/virus_GCF_000863665.1_ViralProj15452_genomic.fna.gz to /content/gdrive/MyDrive/GenomeDetector/data/natural2/virus_GCF_000863665.1_ViralProj15452_genomic.fna\n",
            "Decompressed /content/gdrive/MyDrive/GenomeDetector/data/natural2/virus_GCF_000838705.1_ViralProj14073_genomic.fna.gz to /content/gdrive/MyDrive/GenomeDetector/data/natural2/virus_GCF_000838705.1_ViralProj14073_genomic.fna\n",
            "Decompressed /content/gdrive/MyDrive/GenomeDetector/data/natural2/virus_GCF_001274345.1_ViralProj293723_genomic.fna.gz to /content/gdrive/MyDrive/GenomeDetector/data/natural2/virus_GCF_001274345.1_ViralProj293723_genomic.fna\n",
            "Decompressed /content/gdrive/MyDrive/GenomeDetector/data/natural2/virus_GCF_000839345.1_ViralProj14022_genomic.fna.gz to /content/gdrive/MyDrive/GenomeDetector/data/natural2/virus_GCF_000839345.1_ViralProj14022_genomic.fna\n",
            "Decompressed /content/gdrive/MyDrive/GenomeDetector/data/natural2/virus_GCF_000867785.1_ViralProj18259_genomic.fna.gz to /content/gdrive/MyDrive/GenomeDetector/data/natural2/virus_GCF_000867785.1_ViralProj18259_genomic.fna\n",
            "Decompressed /content/gdrive/MyDrive/GenomeDetector/data/natural2/virus_GCF_000836865.1_ViralProj14025_genomic.fna.gz to /content/gdrive/MyDrive/GenomeDetector/data/natural2/virus_GCF_000836865.1_ViralProj14025_genomic.fna\n",
            "Decompressed /content/gdrive/MyDrive/GenomeDetector/data/natural2/virus_GCF_002220025.1_ViralProj394322_genomic.fna.gz to /content/gdrive/MyDrive/GenomeDetector/data/natural2/virus_GCF_002220025.1_ViralProj394322_genomic.fna\n",
            "Decompressed /content/gdrive/MyDrive/GenomeDetector/data/natural2/virus_GCF_000863845.1_ViralProj15485_genomic.fna.gz to /content/gdrive/MyDrive/GenomeDetector/data/natural2/virus_GCF_000863845.1_ViralProj15485_genomic.fna\n",
            "Decompressed /content/gdrive/MyDrive/GenomeDetector/data/natural2/virus_GCF_000861945.1_ViralProj15454_genomic.fna.gz to /content/gdrive/MyDrive/GenomeDetector/data/natural2/virus_GCF_000861945.1_ViralProj15454_genomic.fna\n",
            "Decompressed /content/gdrive/MyDrive/GenomeDetector/data/natural2/virus_GCF_002987345.1_ASM298734v1_genomic.fna.gz to /content/gdrive/MyDrive/GenomeDetector/data/natural2/virus_GCF_002987345.1_ASM298734v1_genomic.fna\n",
            "Decompressed /content/gdrive/MyDrive/GenomeDetector/data/natural2/virus_GCF_000862825.1_ViralProj15455_genomic.fna.gz to /content/gdrive/MyDrive/GenomeDetector/data/natural2/virus_GCF_000862825.1_ViralProj15455_genomic.fna\n",
            "Decompressed /content/gdrive/MyDrive/GenomeDetector/data/natural2/virus_GCF_000864845.1_ViralProj15492_genomic.fna.gz to /content/gdrive/MyDrive/GenomeDetector/data/natural2/virus_GCF_000864845.1_ViralProj15492_genomic.fna\n",
            "Decompressed /content/gdrive/MyDrive/GenomeDetector/data/natural2/virus_GCF_000861925.1_ViralProj15450_genomic.fna.gz to /content/gdrive/MyDrive/GenomeDetector/data/natural2/virus_GCF_000861925.1_ViralProj15450_genomic.fna\n",
            "Decompressed /content/gdrive/MyDrive/GenomeDetector/data/natural2/virus_GCF_000863685.1_ViralProj15456_genomic.fna.gz to /content/gdrive/MyDrive/GenomeDetector/data/natural2/virus_GCF_000863685.1_ViralProj15456_genomic.fna\n",
            "Decompressed /content/gdrive/MyDrive/GenomeDetector/data/natural2/virus_GCF_000837085.1_ViralProj14075_genomic.fna.gz to /content/gdrive/MyDrive/GenomeDetector/data/natural2/virus_GCF_000837085.1_ViralProj14075_genomic.fna\n",
            "Decompressed /content/gdrive/MyDrive/GenomeDetector/data/natural2/virus_GCF_000863805.1_ViralProj15477_genomic.fna.gz to /content/gdrive/MyDrive/GenomeDetector/data/natural2/virus_GCF_000863805.1_ViralProj15477_genomic.fna\n"
          ]
        }
      ]
    },
    {
      "cell_type": "code",
      "metadata": {
        "colab": {
          "base_uri": "https://localhost:8080/"
        },
        "id": "522208ed",
        "outputId": "3181c6ce-d821-44c4-d38d-204c3b3b2f5c"
      },
      "source": [
        "%pip install biopython"
      ],
      "execution_count": null,
      "outputs": [
        {
          "output_type": "stream",
          "name": "stdout",
          "text": [
            "Collecting biopython\n",
            "  Downloading biopython-1.85-cp311-cp311-manylinux_2_17_x86_64.manylinux2014_x86_64.whl.metadata (13 kB)\n",
            "Requirement already satisfied: numpy in /usr/local/lib/python3.11/dist-packages (from biopython) (2.0.2)\n",
            "Downloading biopython-1.85-cp311-cp311-manylinux_2_17_x86_64.manylinux2014_x86_64.whl (3.3 MB)\n",
            "\u001b[?25l   \u001b[90m━━━━━━━━━━━━━━━━━━━━━━━━━━━━━━━━━━━━━━━━\u001b[0m \u001b[32m0.0/3.3 MB\u001b[0m \u001b[31m?\u001b[0m eta \u001b[36m-:--:--\u001b[0m\r\u001b[2K   \u001b[91m━━━━━━━━━━━━━━━━━━━━━━━━━━━━━━━━━━\u001b[0m\u001b[90m╺\u001b[0m\u001b[90m━━━━━\u001b[0m \u001b[32m2.8/3.3 MB\u001b[0m \u001b[31m82.3 MB/s\u001b[0m eta \u001b[36m0:00:01\u001b[0m\r\u001b[2K   \u001b[90m━━━━━━━━━━━━━━━━━━━━━━━━━━━━━━━━━━━━━━━━\u001b[0m \u001b[32m3.3/3.3 MB\u001b[0m \u001b[31m54.2 MB/s\u001b[0m eta \u001b[36m0:00:00\u001b[0m\n",
            "\u001b[?25hInstalling collected packages: biopython\n",
            "Successfully installed biopython-1.85\n"
          ]
        }
      ]
    },
    {
      "cell_type": "code",
      "source": [
        "from Bio import SeqIO\n",
        "from collections import Counter\n",
        "import os\n",
        "import numpy as np\n",
        "import pandas as pd\n",
        "\n",
        "def get_kmers(sequence, k=4):\n",
        "    return [str(sequence[i:i+k]) for i in range(len(sequence) - k + 1)]\n",
        "\n",
        "def count_kmers(sequence, k=4):\n",
        "    kmers = get_kmers(sequence, k)\n",
        "    counts = Counter(kmers)\n",
        "    total = sum(counts.values())\n",
        "    freqs = {kmer: count / total for kmer, count in counts.items()}\n",
        "    return freqs\n",
        "\n",
        "def build_kmer_feature_vector(freqs, possible_kmers):\n",
        "    vector = np.zeros(len(possible_kmers))\n",
        "    for i, kmer in enumerate(possible_kmers):\n",
        "        vector[i] = freqs.get(kmer, 0)\n",
        "    return vector\n",
        "\n",
        "def get_all_possible_kmers(k=4):\n",
        "    from itertools import product\n",
        "    bases = ['A', 'C', 'G', 'T']\n",
        "    return [''.join(p) for p in product(bases, repeat=k)]\n",
        "\n",
        "def find_fasta_files(base_path):\n",
        "    fasta_files = []\n",
        "    for root, dirs, files in os.walk(base_path):\n",
        "        for file in files:\n",
        "            if file.endswith('.fasta') or file.endswith('.fna'):\n",
        "                fasta_files.append(os.path.join(root, file))\n",
        "    return fasta_files\n",
        "\n",
        "# Adjust these paths based on your dataset organization\n",
        "natural_folder = '/content/gdrive/MyDrive/GenomeDetector/data/natural2'\n",
        "synthetic_folder = '/content/gdrive/MyDrive/GenomeDetector/data/engineered'\n",
        "\n",
        "natural_files = find_fasta_files(natural_folder)\n",
        "synthetic_files = find_fasta_files(synthetic_folder)\n",
        "\n",
        "possible_kmers = get_all_possible_kmers(k=4)\n",
        "\n",
        "def process_files(fasta_files, label):\n",
        "    features = []\n",
        "    labels = []\n",
        "    for fasta_file in fasta_files:\n",
        "        for record in SeqIO.parse(fasta_file, \"fasta\"):\n",
        "            seq = record.seq.upper()\n",
        "            freqs = count_kmers(seq, k=4)\n",
        "            vec = build_kmer_feature_vector(freqs, possible_kmers)\n",
        "            features.append(vec)\n",
        "            labels.append(label)\n",
        "    return features, labels\n",
        "\n",
        "natural_features, natural_labels = process_files(natural_files, label=0)\n",
        "synthetic_features, synthetic_labels = process_files(synthetic_files, label=1)\n",
        "\n",
        "X = np.array(natural_features + synthetic_features)\n",
        "y = np.array(natural_labels + synthetic_labels)\n",
        "\n",
        "df = pd.DataFrame(X, columns=possible_kmers)\n",
        "df['label'] = y\n",
        "\n",
        "df.to_csv('/content/gdrive/MyDrive/GenomeDetector/kmer_features_labels.csv', index=False)\n",
        "print(\"Feature extraction complete. Data saved to kmer_features_labels.csv\")\n"
      ],
      "metadata": {
        "colab": {
          "base_uri": "https://localhost:8080/"
        },
        "id": "3DPqeyy-sxp5",
        "outputId": "4eb0fff7-7469-4a2b-e1e7-e40288a0ead5"
      },
      "execution_count": null,
      "outputs": [
        {
          "output_type": "stream",
          "name": "stdout",
          "text": [
            "Feature extraction complete. Data saved to kmer_features_labels.csv\n"
          ]
        }
      ]
    },
    {
      "cell_type": "code",
      "source": [
        "print(f'Number of natural sequences: {len(natural_labels)}')\n",
        "print(f'Number of synthetic sequences: {len(synthetic_labels)}')\n"
      ],
      "metadata": {
        "colab": {
          "base_uri": "https://localhost:8080/"
        },
        "id": "UqMT9aWewC0N",
        "outputId": "605c0f4b-5d81-41ef-acf0-08f0a231374c"
      },
      "execution_count": null,
      "outputs": [
        {
          "output_type": "stream",
          "name": "stdout",
          "text": [
            "Number of natural sequences: 9483\n",
            "Number of synthetic sequences: 5000\n"
          ]
        }
      ]
    },
    {
      "cell_type": "markdown",
      "source": [
        "A1"
      ],
      "metadata": {
        "id": "ZFePBDuN8x0x"
      }
    },
    {
      "cell_type": "code",
      "source": [
        "import pandas as pd\n",
        "from sklearn.linear_model import LinearRegression\n",
        "from sklearn.model_selection import train_test_split\n",
        "\n",
        "# Loading the CSV\n",
        "df = pd.read_csv('/content/gdrive/MyDrive/GenomeDetector/kmer_features_labels.csv')\n",
        "\n",
        "# Extracting the features\n",
        "X = df.drop(columns=['label']).values\n",
        "\n",
        "# Extracting the labels\n",
        "y = df['label'].values\n",
        "\n",
        "# Splitting into train and test sets\n",
        "X_train, X_test, y_train, y_test = train_test_split(X, y, test_size=0.2, random_state=42)\n",
        "\n",
        "# Input features\n",
        "X_train_features = X_train[:, 1:]\n",
        "\n",
        "# Target feature\n",
        "y_train_feature = X_train[:, 0]\n",
        "\n",
        "# Training the linear regression model\n",
        "reg = LinearRegression().fit(X_train_features, y_train_feature)\n",
        "y_train_pred = reg.predict(X_train_features)"
      ],
      "metadata": {
        "id": "B6GG9qfZwKxp"
      },
      "execution_count": null,
      "outputs": []
    },
    {
      "cell_type": "markdown",
      "source": [
        "A2"
      ],
      "metadata": {
        "id": "NSwo9pIAB4jw"
      }
    },
    {
      "cell_type": "code",
      "source": [
        "from sklearn.linear_model import LinearRegression\n",
        "from sklearn.metrics import mean_squared_error, mean_absolute_percentage_error\n",
        "from sklearn.model_selection import train_test_split\n",
        "import numpy as np\n",
        "\n",
        "def evaluate_metrics(X, y):\n",
        "    # Split\n",
        "    X_train, X_test, y_train, y_test = train_test_split(\n",
        "        X, y, test_size=0.2, random_state=42\n",
        "    )\n",
        "\n",
        "    # Train\n",
        "    reg = LinearRegression().fit(X_train, y_train)\n",
        "\n",
        "    # Predictions\n",
        "    y_train_pred = reg.predict(X_train)\n",
        "    y_test_pred = reg.predict(X_test)\n",
        "\n",
        "    # Metrics\n",
        "    print(\"Train MSE:\", mean_squared_error(y_train, y_train_pred))\n",
        "    print(\"Train RMSE:\", np.sqrt(mean_squared_error(y_train, y_train_pred)))\n",
        "    print(\"Train MAPE:\", mean_absolute_percentage_error(y_train, y_train_pred) * 100)\n",
        "    print(\"Test MSE:\", mean_squared_error(y_test, y_test_pred))\n",
        "    print(\"Test RMSE:\", np.sqrt(mean_squared_error(y_test, y_test_pred)))\n",
        "    print(\"Test MAPE:\", mean_absolute_percentage_error(y_test, y_test_pred) * 100)\n",
        "    print(\"\\n\")\n",
        "\n",
        "# Assignment 1\n",
        "X1 = df.iloc[:, [0]].values\n",
        "y = df['label'].values\n",
        "evaluate_metrics(X1, y)\n",
        "\n",
        "# Assignment 2\n",
        "X2 = df.drop(columns=['label']).values\n",
        "evaluate_metrics(X2, y)"
      ],
      "metadata": {
        "colab": {
          "base_uri": "https://localhost:8080/"
        },
        "id": "GM8RE1oA1fpJ",
        "outputId": "9b6d7d20-c687-4911-c64e-1e803bc17b88"
      },
      "execution_count": null,
      "outputs": [
        {
          "output_type": "stream",
          "name": "stdout",
          "text": [
            "Train MSE: 0.225526387713965\n",
            "Train RMSE: 0.47489618624912644\n",
            "Train MAPE: 1.0156805556708269e+17\n",
            "Test MSE: 0.22388699041259377\n",
            "Test RMSE: 0.4731669794190987\n",
            "Test MAPE: 1.023560220264623e+17\n",
            "\n",
            "\n",
            "Train MSE: 0.08953227484214411\n",
            "Train RMSE: 0.2992194426205358\n",
            "Train MAPE: 5.188319739522695e+16\n",
            "Test MSE: 0.10267003808241865\n",
            "Test RMSE: 0.3204216567000718\n",
            "Test MAPE: 5.393543314791176e+16\n",
            "\n",
            "\n"
          ]
        }
      ]
    },
    {
      "cell_type": "code",
      "source": [
        "from sklearn.metrics import mean_squared_error, mean_absolute_percentage_error\n",
        "\n",
        "def evaluate_model(reg, X_train, y_train, X_test, y_test):\n",
        "  # Predictions on the train data\n",
        "  y_train_pred = reg.predict(X_train_features)\n",
        "\n",
        "  # Calculating Mean Squared Error\n",
        "  mse_train = mean_squared_error(y_train_features, y_train_pred)\n",
        "  # Calculating Root Mean Squared Error\n",
        "  rmse_train = np.sqrt(mse_train)\n",
        "  # Calculating Mean Absolute Percentage Error\n",
        "  mape_train = mean_absolute_percentage_error(y_train_features, y_train_pred) * 100\n",
        "\n",
        "  # Predictions on the test data\n",
        "  y_test_pred = reg.predict(X_test_features)\n",
        "\n",
        "  # Calculating Mean Squared Error\n",
        "  mse_test = mean_squared_error(y_test, y_test_pred)\n",
        "  # Calculating Root Mean Squared Error\n",
        "  rmse_test = np.sqrt(mse_test)\n",
        "  # Calculating Mean Absolute Percentage Error\n",
        "  mape_test = mean_absolute_percentage_error(y_test, y_test_pred) * 100\n",
        "\n",
        "  # Print metrics line by line\n",
        "  print(\"Train Metrics:\")\n",
        "  print(f\"  MSE:  {mse_train}\")\n",
        "  print(f\"  RMSE: {rmse_train}\")\n",
        "  print(f\"  MAPE: {mape_train}\")\n",
        "\n",
        "  print(\"Test Metrics:\")\n",
        "  print(f\"  MSE:  {mse_test}\")\n",
        "  print(f\"  RMSE: {rmse_test}\")\n",
        "  print(f\"  MAPE: {mape_test}\")\n",
        "\n",
        "\n",
        "# Splitting the dataset into train and test data\n",
        "X_train_features = X_train[:, 1:]\n",
        "y_train_features = X_train[:, 0]\n",
        "X_test_features = X_test[:, 1:]\n",
        "y_test_features = X_test[:, 0]\n",
        "\n",
        "metrics = evaluate_model(reg, X_train_features, y_train_features,\n",
        "                         X_test_features, y_test_features)"
      ],
      "metadata": {
        "colab": {
          "base_uri": "https://localhost:8080/"
        },
        "id": "mHPwWogOD-QU",
        "outputId": "08a7c7ec-4fe1-4e20-c43c-7f12f2de34cd"
      },
      "execution_count": null,
      "outputs": [
        {
          "output_type": "stream",
          "name": "stdout",
          "text": [
            "Train Metrics:\n",
            "  MSE:  0.00035765534369571297\n",
            "  RMSE: 0.018911777909432867\n",
            "  MAPE: 1087344614732338.6\n",
            "Test Metrics:\n",
            "  MSE:  0.0002962883891327056\n",
            "  RMSE: 0.017213029632598256\n",
            "  MAPE: 1156087412417413.8\n"
          ]
        }
      ]
    },
    {
      "cell_type": "markdown",
      "source": [
        "A3"
      ],
      "metadata": {
        "id": "YONXsjLeJjNv"
      }
    },
    {
      "cell_type": "code",
      "source": [
        "# Extracting all features\n",
        "X = df.drop(columns=['label']).values\n",
        "\n",
        "# Extracting all labels\n",
        "y = df['label'].values\n",
        "\n",
        "# A1\n",
        "# Splitting into train and test sets\n",
        "X_train, X_test, y_train, y_test = train_test_split(X, y, test_size=0.2, random_state=42)\n",
        "\n",
        "X_train_features = X_train[:, 5:]\n",
        "y_train_features = X_train[:, :5]\n",
        "\n",
        "# Training the linear regression model\n",
        "reg = LinearRegression().fit(X_train_features, y_train_features)\n",
        "y_train_pred = reg.predict(X_train_features)\n",
        "\n",
        "from sklearn.metrics import mean_squared_error, mean_absolute_percentage_error\n",
        "\n",
        "# Predicting on the test set\n",
        "X_test_features = X_test[:, 5:]\n",
        "y_test_feature = X_test[:, :5]\n",
        "\n",
        "# Make predictions on the test set\n",
        "y_test_pred = reg.predict(X_test_features)\n",
        "\n",
        "# A2\n",
        "# Calculating Mean Squared Error\n",
        "mse = mean_squared_error(y_test_feature, y_test_pred)\n",
        "print(f'MSE: {mse}')\n",
        "\n",
        "# Calculating Root Mean Squared Error\n",
        "rmse = np.sqrt(mse)\n",
        "print(f'RMSE: {rmse}')\n",
        "\n",
        "# Calculating Mean Absolute Percentage Error\n",
        "epsilon = 1e-10  # Small value to avoid division by zero\n",
        "\n",
        "mape = np.mean(\n",
        "    np.abs((y_test_feature - y_test_pred) / (y_test_feature + epsilon))\n",
        ") * 100\n",
        "\n",
        "print(f\"MAPE: {mape}\")"
      ],
      "metadata": {
        "colab": {
          "base_uri": "https://localhost:8080/"
        },
        "id": "fXlZYMDrJjnw",
        "outputId": "fd167e08-70d6-4fe2-a399-b304186cb960"
      },
      "execution_count": null,
      "outputs": [
        {
          "output_type": "stream",
          "name": "stdout",
          "text": [
            "MSE: 7.126583747340265e-05\n",
            "RMSE: 0.008441909586900505\n",
            "MAPE: 1216244882.6790698\n"
          ]
        }
      ]
    },
    {
      "cell_type": "markdown",
      "source": [
        "A4"
      ],
      "metadata": {
        "id": "CXi5q6L5K45D"
      }
    },
    {
      "cell_type": "code",
      "source": [
        "from sklearn.cluster import KMeans\n",
        "kmeans = KMeans(n_clusters=2, random_state=0,\n",
        "n_init=\"auto\").fit(X_train)\n",
        "kmeans.labels_\n",
        "kmeans.cluster_centers_"
      ],
      "metadata": {
        "colab": {
          "base_uri": "https://localhost:8080/"
        },
        "id": "J6bQth8QK5Sd",
        "outputId": "64a8c692-92f0-41d3-ad6f-74062d887298"
      },
      "execution_count": null,
      "outputs": [
        {
          "output_type": "execute_result",
          "data": {
            "text/plain": [
              "array([[0.00057516, 0.00079928, 0.00087454, 0.00063267, 0.00158672,\n",
              "        0.00189833, 0.00271731, 0.00127691, 0.00195968, 0.00327802,\n",
              "        0.00350491, 0.00138802, 0.00037066, 0.00138602, 0.00090383,\n",
              "        0.00050625, 0.00125497, 0.00189974, 0.00215501, 0.00160352,\n",
              "        0.0033877 , 0.00335144, 0.00576176, 0.0036052 , 0.00458839,\n",
              "        0.00697372, 0.00526296, 0.00318272, 0.0004505 , 0.00157936,\n",
              "        0.00172384, 0.00122445, 0.00211674, 0.00215197, 0.00189626,\n",
              "        0.00198121, 0.00410936, 0.00520049, 0.00815985, 0.00387616,\n",
              "        0.00372225, 0.00682291, 0.0041356 , 0.00351938, 0.00062821,\n",
              "        0.00189792, 0.00117024, 0.00128438, 0.00023733, 0.00055049,\n",
              "        0.00074915, 0.00038367, 0.00241542, 0.00317064, 0.00548139,\n",
              "        0.00201958, 0.0022888 , 0.00323645, 0.00326997, 0.00156401,\n",
              "        0.00021304, 0.00113629, 0.000956  , 0.00064411, 0.00072063,\n",
              "        0.00273021, 0.00319549, 0.00097972, 0.00155741, 0.00732033,\n",
              "        0.00666942, 0.00123309, 0.00246838, 0.00885507, 0.00730057,\n",
              "        0.00168258, 0.00058608, 0.00537669, 0.0036826 , 0.00092283,\n",
              "        0.0020765 , 0.00582922, 0.00775522, 0.00330129, 0.0045651 ,\n",
              "        0.00518498, 0.00890065, 0.0038245 , 0.00724524, 0.01516222,\n",
              "        0.01129878, 0.00540315, 0.00080906, 0.00660326, 0.0069573 ,\n",
              "        0.00342256, 0.00479247, 0.00909912, 0.00910359, 0.00518956,\n",
              "        0.00635532, 0.01886923, 0.0203345 , 0.00798938, 0.00573546,\n",
              "        0.01871741, 0.00878963, 0.00588735, 0.00166463, 0.00906039,\n",
              "        0.00671705, 0.00277468, 0.0001669 , 0.00172505, 0.00028889,\n",
              "        0.00079151, 0.00269746, 0.00555876, 0.00925636, 0.00193199,\n",
              "        0.00276184, 0.00731717, 0.00768829, 0.00217028, 0.00023897,\n",
              "        0.00569888, 0.00325381, 0.00082273, 0.0013728 , 0.00370194,\n",
              "        0.0057788 , 0.00135969, 0.00300565, 0.00576226, 0.0089252 ,\n",
              "        0.00175687, 0.00300475, 0.00790733, 0.00650498, 0.00148317,\n",
              "        0.00074154, 0.00556596, 0.00524727, 0.0011287 , 0.00253027,\n",
              "        0.00553484, 0.00742285, 0.00332734, 0.00692505, 0.01059146,\n",
              "        0.01881847, 0.00652435, 0.00924778, 0.02199901, 0.01535714,\n",
              "        0.00715374, 0.00096426, 0.00811245, 0.00895851, 0.00335216,\n",
              "        0.00299995, 0.00533254, 0.00555613, 0.00310107, 0.00540479,\n",
              "        0.01335481, 0.01901968, 0.0053084 , 0.0034889 , 0.01027358,\n",
              "        0.0051612 , 0.00323079, 0.0011732 , 0.00576162, 0.00712404,\n",
              "        0.001967  , 0.00035755, 0.00166918, 0.00176763, 0.00054659,\n",
              "        0.00324063, 0.00530216, 0.00899435, 0.00221979, 0.00310012,\n",
              "        0.00550443, 0.00583144, 0.00206247, 0.00027376, 0.00379819,\n",
              "        0.00278141, 0.00080521, 0.00021259, 0.00025191, 0.00023726,\n",
              "        0.00020507, 0.00081561, 0.00114103, 0.00165229, 0.00073269,\n",
              "        0.00072261, 0.00095034, 0.00084193, 0.00042771, 0.00022361,\n",
              "        0.00074674, 0.00058296, 0.00040594, 0.00176657, 0.00325812,\n",
              "        0.00298343, 0.00249374, 0.00412501, 0.00361391, 0.00561496,\n",
              "        0.00382557, 0.00704676, 0.00951689, 0.00724471, 0.00467697,\n",
              "        0.00075903, 0.00315442, 0.00227317, 0.00202643, 0.00232531,\n",
              "        0.00290626, 0.00236356, 0.00240663, 0.00271062, 0.00539168,\n",
              "        0.00626466, 0.0042916 , 0.00416196, 0.0072211 , 0.00403341,\n",
              "        0.00340044, 0.00091183, 0.00295984, 0.00150496, 0.00168834,\n",
              "        0.00014578, 0.00037001, 0.00013567, 0.00025907, 0.00232714,\n",
              "        0.00306299, 0.00465201, 0.00200108, 0.00181198, 0.00256531,\n",
              "        0.00202821, 0.00127096, 0.00018526, 0.0014023 , 0.00067671,\n",
              "        0.00058362],\n",
              "       [0.00805507, 0.00468365, 0.00493828, 0.00568498, 0.00440181,\n",
              "        0.00384552, 0.00298761, 0.00354076, 0.0049316 , 0.00438252,\n",
              "        0.00392015, 0.00359022, 0.0039906 , 0.00388209, 0.00390446,\n",
              "        0.00488936, 0.00374183, 0.0033959 , 0.00504178, 0.00376881,\n",
              "        0.00429842, 0.00306306, 0.0025303 , 0.00379851, 0.00196906,\n",
              "        0.00306176, 0.00204067, 0.00230176, 0.00278166, 0.00343297,\n",
              "        0.0039559 , 0.0044559 , 0.0045759 , 0.00347774, 0.00531155,\n",
              "        0.00432789, 0.00522602, 0.00465776, 0.00258963, 0.00520267,\n",
              "        0.0043534 , 0.00466378, 0.00328649, 0.00360502, 0.00282241,\n",
              "        0.00359014, 0.0041302 , 0.0037364 , 0.00424467, 0.00250696,\n",
              "        0.00270821, 0.0037005 , 0.004564  , 0.00373518, 0.00257338,\n",
              "        0.00392067, 0.00420764, 0.00404771, 0.00369713, 0.00377831,\n",
              "        0.00378592, 0.00360269, 0.00434046, 0.0058999 , 0.00548962,\n",
              "        0.00404392, 0.00445129, 0.00380799, 0.00454981, 0.00459502,\n",
              "        0.00283523, 0.00390603, 0.00517784, 0.00627405, 0.00519122,\n",
              "        0.00461504, 0.00299807, 0.00469496, 0.0042111 , 0.00438506,\n",
              "        0.00509168, 0.00491143, 0.00531929, 0.00455662, 0.0053155 ,\n",
              "        0.00291529, 0.00168508, 0.00372981, 0.00216466, 0.00237533,\n",
              "        0.00169234, 0.00207013, 0.00305528, 0.0045693 , 0.00526154,\n",
              "        0.00420097, 0.0020117 , 0.00196695, 0.00202908, 0.00285903,\n",
              "        0.00225881, 0.00250745, 0.00213453, 0.00300609, 0.00158296,\n",
              "        0.00270782, 0.00195303, 0.0024367 , 0.00190042, 0.00187094,\n",
              "        0.00293138, 0.00255177, 0.0034356 , 0.0032071 , 0.00306683,\n",
              "        0.00279166, 0.00433855, 0.00508675, 0.00194929, 0.00495147,\n",
              "        0.00526016, 0.00496063, 0.00470275, 0.00565708, 0.00328576,\n",
              "        0.00503575, 0.00447661, 0.00519777, 0.00465002, 0.00303637,\n",
              "        0.00451873, 0.00332027, 0.00400264, 0.00249074, 0.00189064,\n",
              "        0.00370996, 0.00402422, 0.00364198, 0.00461916, 0.00356329,\n",
              "        0.00359656, 0.00290509, 0.00458055, 0.00423992, 0.0047503 ,\n",
              "        0.00377396, 0.00521871, 0.00393469, 0.00502295, 0.0030451 ,\n",
              "        0.00255723, 0.00469684, 0.00220281, 0.00231813, 0.002723  ,\n",
              "        0.00269231, 0.00311184, 0.00397652, 0.00595828, 0.00433758,\n",
              "        0.00407213, 0.0024247 , 0.00433327, 0.00309609, 0.00453749,\n",
              "        0.00357929, 0.00287728, 0.00402049, 0.00383528, 0.00308687,\n",
              "        0.00249962, 0.00306039, 0.0025849 , 0.00251192, 0.00417308,\n",
              "        0.00369887, 0.00274239, 0.00201356, 0.00268169, 0.00245954,\n",
              "        0.00408839, 0.00256268, 0.00217796, 0.00340713, 0.0038822 ,\n",
              "        0.00422195, 0.0048302 , 0.00370636, 0.00319219, 0.0029155 ,\n",
              "        0.00358551, 0.00495338, 0.00507301, 0.0031864 , 0.00296999,\n",
              "        0.0038318 , 0.00292123, 0.0027429 , 0.00176983, 0.0035067 ,\n",
              "        0.00337204, 0.00333827, 0.0024265 , 0.00259712, 0.00254355,\n",
              "        0.00331656, 0.00304076, 0.00400184, 0.00411561, 0.00384908,\n",
              "        0.00570433, 0.00394602, 0.00514864, 0.0047138 , 0.00151688,\n",
              "        0.00479826, 0.00251095, 0.00207338, 0.00214878, 0.0021203 ,\n",
              "        0.0035187 , 0.00431225, 0.00520218, 0.00500108, 0.00490064,\n",
              "        0.0042981 , 0.00419441, 0.00515874, 0.00546046, 0.00468277,\n",
              "        0.00242204, 0.0053198 , 0.00418853, 0.00466896, 0.00474006,\n",
              "        0.00395627, 0.00277194, 0.00423878, 0.00544307, 0.00448267,\n",
              "        0.00467626, 0.00321051, 0.00341026, 0.00404173, 0.00470566,\n",
              "        0.00472833, 0.00210747, 0.00538916, 0.00463563, 0.0046299 ,\n",
              "        0.00451858, 0.00382354, 0.00511801, 0.00536137, 0.00529784,\n",
              "        0.01003734]])"
            ]
          },
          "metadata": {},
          "execution_count": 11
        }
      ]
    },
    {
      "cell_type": "markdown",
      "source": [
        "A5"
      ],
      "metadata": {
        "id": "WU_iQHAXSvEA"
      }
    },
    {
      "cell_type": "code",
      "source": [
        "from sklearn.metrics import silhouette_score\n",
        "from sklearn.metrics import calinski_harabasz_score\n",
        "from sklearn.metrics import davies_bouldin_score\n",
        "kmeans = KMeans(n_clusters=2, random_state=42).fit(X_train)\n",
        "print(\"Silhouette score:\", silhouette_score(X_train, kmeans.labels_))\n",
        "print(\"Calinski Harabasz score:\", calinski_harabasz_score(X_train, kmeans.labels_))\n",
        "print(\"Davies Bouldin score:\", davies_bouldin_score(X_train, kmeans.labels_))"
      ],
      "metadata": {
        "colab": {
          "base_uri": "https://localhost:8080/"
        },
        "id": "Cg5XFIkiMzBz",
        "outputId": "2267f4bb-e18f-4623-c98d-d58b3c67a885"
      },
      "execution_count": null,
      "outputs": [
        {
          "output_type": "stream",
          "name": "stdout",
          "text": [
            "Silhouette score: 0.17702096883860186\n",
            "Calinski Harabasz score: 755.1349510236469\n",
            "Davies Bouldin score: 2.548005377984885\n"
          ]
        }
      ]
    },
    {
      "cell_type": "markdown",
      "source": [
        "A6"
      ],
      "metadata": {
        "id": "R_i2GYY9EYSA"
      }
    },
    {
      "cell_type": "code",
      "source": [
        "import matplotlib.pyplot as plt\n",
        "from sklearn.cluster import KMeans\n",
        "from sklearn.metrics import silhouette_score\n",
        "\n",
        "# Store scores\n",
        "inertia = []\n",
        "silhouette = []\n",
        "K = range(2, 11)  # Trying k=2 to k=10\n",
        "\n",
        "for k in K:\n",
        "    kmeans = KMeans(n_clusters=k, random_state=0, n_init=\"auto\").fit(X_train)\n",
        "\n",
        "    inertia.append(kmeans.inertia_)  # Sum of squared distances (Elbow method)\n",
        "    silhouette.append(silhouette_score(X_train, kmeans.labels_))  # Silhouette score\n",
        "\n",
        "# Plot inertia (Elbow method)\n",
        "plt.figure(figsize=(12, 5))\n",
        "\n",
        "plt.subplot(1, 2, 1)\n",
        "plt.plot(K, inertia, marker=\"o\")\n",
        "plt.xlabel(\"Number of clusters (k)\")\n",
        "plt.ylabel(\"Inertia\")\n",
        "plt.title(\"Elbow Method\")\n",
        "\n",
        "# Plot silhouette scores\n",
        "plt.subplot(1, 2, 2)\n",
        "plt.plot(K, silhouette, marker=\"o\")\n",
        "plt.xlabel(\"Number of clusters (k)\")\n",
        "plt.ylabel(\"Silhouette Score\")\n",
        "plt.title(\"Silhouette Method\")\n",
        "\n",
        "plt.tight_layout()\n",
        "plt.show()\n"
      ],
      "metadata": {
        "colab": {
          "base_uri": "https://localhost:8080/",
          "height": 527
        },
        "id": "Vnr7RX0vEWQI",
        "outputId": "17fd3439-6abd-4b08-d792-c9072f285213"
      },
      "execution_count": 16,
      "outputs": [
        {
          "output_type": "display_data",
          "data": {
            "text/plain": [
              "<Figure size 1200x500 with 2 Axes>"
            ],
            "image/png": "[encoded data removed]"
          },
          "metadata": {}
        }
      ]
    },
    {
      "cell_type": "markdown",
      "source": [
        "A7"
      ],
      "metadata": {
        "id": "2o082c7pS1Wl"
      }
    },
    {
      "cell_type": "code",
      "source": [
        "from sklearn.cluster import KMeans\n",
        "import matplotlib.pyplot as plt\n",
        "\n",
        "distortions = []\n",
        "K = range(2, 20)\n",
        "\n",
        "for k in K:\n",
        "    kmeans = KMeans(n_clusters=k, random_state=42, n_init=\"auto\")\n",
        "    kmeans.fit(X_train_features)\n",
        "    distortions.append(kmeans.inertia_)\n",
        "\n",
        "# Plotting the elbow curve\n",
        "plt.figure(figsize=(8, 5))\n",
        "plt.plot(K, distortions, 'bo-')\n",
        "plt.xlabel('Number of clusters (k)')\n",
        "plt.ylabel('Inertia (Distortion)')\n",
        "plt.title('Elbow Method For Optimal k')\n",
        "plt.grid(True)\n",
        "plt.show()\n"
      ],
      "metadata": {
        "id": "ClDLRBusNElG",
        "outputId": "c69ea72b-b821-4da3-a0b1-ba81b2660ead",
        "colab": {
          "base_uri": "https://localhost:8080/",
          "height": 487
        }
      },
      "execution_count": null,
      "outputs": [
        {
          "output_type": "display_data",
          "data": {
            "text/plain": [
              "<Figure size 800x500 with 1 Axes>"
            ],
            "image/png": "[encoded data removed]"
          },
          "metadata": {}
        }
      ]
    }
  ]
}